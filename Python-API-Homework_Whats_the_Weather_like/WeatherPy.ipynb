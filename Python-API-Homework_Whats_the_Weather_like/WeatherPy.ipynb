{
 "cells": [
  {
   "cell_type": "markdown",
   "metadata": {},
   "source": [
    "# WeatherPy\n",
    "----\n",
    "\n",
    "#### Note\n",
    "* Instructions have been included for each segment. You do not have to follow them exactly, but they are included to help you think through the steps."
   ]
  },
  {
   "cell_type": "code",
   "execution_count": 5,
   "metadata": {},
   "outputs": [
    {
     "name": "stdout",
     "output_type": "stream",
     "text": [
      "Collecting citipy\n",
      "  Downloading citipy-0.0.5.tar.gz (557 kB)\n",
      "Collecting kdtree>=0.12\n",
      "  Downloading kdtree-0.16-py2.py3-none-any.whl (7.7 kB)\n",
      "Building wheels for collected packages: citipy\n",
      "  Building wheel for citipy (setup.py): started\n",
      "  Building wheel for citipy (setup.py): finished with status 'done'\n",
      "  Created wheel for citipy: filename=citipy-0.0.5-py3-none-any.whl size=559704 sha256=483996b5bc316de14ae56ca8872ecb87af1c68ab4ce300fcd127e18c4e24bfa2\n",
      "  Stored in directory: c:\\users\\seraf\\appdata\\local\\pip\\cache\\wheels\\eb\\07\\14\\1c448d9fabf3aceac66270933ecae15693974a1b7f91266841\n",
      "Successfully built citipy\n",
      "Installing collected packages: kdtree, citipy\n",
      "Successfully installed citipy-0.0.5 kdtree-0.16\n",
      "Note: you may need to restart the kernel to use updated packages.\n"
     ]
    },
    {
     "name": "stderr",
     "output_type": "stream",
     "text": [
      "WARNING: You are using pip version 20.2.3; however, version 20.2.4 is available.\n",
      "You should consider upgrading via the 'C:\\Users\\seraf\\anaconda3\\envs\\PythonData\\python.exe -m pip install --upgrade pip' command.\n"
     ]
    }
   ],
   "source": [
    "#installing citipy\n",
    "pip install citipy"
   ]
  },
  {
   "cell_type": "code",
   "execution_count": null,
   "metadata": {},
   "outputs": [],
   "source": []
  },
  {
   "cell_type": "code",
   "execution_count": 13,
   "metadata": {
    "scrolled": true
   },
   "outputs": [],
   "source": [
    "# imports and setups\n",
    "import matplotlib.pyplot as plt\n",
    "import pandas as pd\n",
    "import numpy as np\n",
    "import requests\n",
    "import time\n",
    "import json\n",
    "import csv\n",
    "from scipy import stats\n",
    "from scipy.stats import linregress\n",
    "from datetime import date\n",
    "import scipy.stats as st\n",
    "\n",
    "# Import API key\n",
    "from api_keys import weather_api_key\n",
    "from citipy import citipy\n",
    "\n",
    "#output\n",
    "output_data_file = \"Output_Data/cities.csv\"\n",
    "\n",
    "#Ranges\n",
    "lat_range = (-90, 90)\n",
    "lng_range = (-180, 180)"
   ]
  },
  {
   "cell_type": "markdown",
   "metadata": {},
   "source": [
    "## Generate Cities List"
   ]
  },
  {
   "cell_type": "code",
   "execution_count": 14,
   "metadata": {},
   "outputs": [
    {
     "name": "stdout",
     "output_type": "stream",
     "text": [
      "['blankenberge', 'rawson', 'yellowknife', 'hithadhoo', 'shingu', 'upernavik', 'namatanai', 'grand river south east', 'kuche', 'ushuaia', 'kapaa', 'bolungarvik', 'mataura', 'mehamn', 'longyearbyen', 'taoudenni', 'mar del plata', 'nanortalik', 'sochi', 'senno', 'aklavik', 'marsa matruh', 'avarua', 'nchelenge', 'hilo', 'hervey bay', 'limbang', 'mount gambier', 'broome', 'port elizabeth', 'ribeira grande', 'ilulissat', 'cape town', 'atbasar', 'rikitea', 'jamestown', 'maltahohe', 'hobart', 'egvekinot', 'puerto ayora', 'khatanga', 'dien bien', 'baykit', 'chingirlau', 'kontagora', 'taolanaro', 'saint-imier', 'butaritari', 'yeppoon', 'albany', 'nizhneyansk', 'bambous virieux', 'keti bandar', 'crotone', 'beringovskiy', 'pisco', 'atuona', 'hofn', 'nouadhibou', 'castro', 'itoman', 'muriwai beach', 'bredasdorp', 'belushya guba', 'saskylakh', 'tuktoyaktuk', 'port alfred', 'lebu', 'fountain', 'ukiah', 'vaini', 'ponta delgada', 'coihaique', 'bosaso', 'sitka', 'buala', 'sabha', 'acarau', 'pacifica', 'olga', 'illoqqortoormiut', 'los llanos de aridane', 'vostok', 'shimoda', 'touros', 'bastrop', 'qaanaaq', 'campobasso', 'ust-nera', 'provideniya', 'carutapera', 'kamina', 'flinders', 'havre-saint-pierre', 'tazovskiy', 'mys shmidta', 'alakurtti', 'iqaluit', 'punta arenas', 'san jeronimo', 'georgetown', 'shadrinsk', 'calama', 'carnarvon', 'busselton', 'najran', 'bridlington', 'norman wells', 'marquette', 'edgewater', 'tromso', 'nanpiao', 'vaitupu', 'havelock', 'phan rang', 'cosala', 'gushikawa', 'saint-philippe', 'mahebourg', 'kodiak', 'luderitz', 'dryden', 'chino valley', 'jiaojiang', 'east london', 'dikson', 'bontang', 'meadow lake', 'kaeo', 'berlevag', 'zeya', 'muros', 'syracuse', 'srednekolymsk', 'teguise', 'tena', 'tumannyy', 'ostrovnoy', 'rapid city', 'klaksvik', 'isangel', 'kruisfontein', 'tiksi', 'fonte boa', 'millington', 'karratha', 'arraial do cabo', 'asuncion', 'chuy', 'sigli', 'ixtapa', 'great bend', 'hermanus', 'saint george', 'lagoa', 'wulanhaote', 'airai', 'krasnoselkup', 'brae', 'liuzhou', 'bluff', 'leningradskiy', 'pervomayskoye', 'rio grande', 'wanaka', 'guerrero negro', 'coruripe', 'svarstad', 'lake city', 'abu samrah', 'yar-sale', 'praya', 'hasaki', 'oakdale', 'pirogovo', 'cherskiy', 'fereydun kenar', 'pekan', 'kota', 'cabo san lucas', 'san carlos de bariloche', 'bonavista', 'bonneville', 'centralia', 'sao filipe', 'portland', 'monrovia', 'hovd', 'yulara', 'shieli', 'san cristobal', 'ardistan', 'mergui', 'maumere', 'torbay', 'artyk', 'la ronge', 'lisakovsk', 'ust-omchug', 'santona', 'gat', 'sangar', 'coahuayana', 'klyuchi', 'tsihombe', 'ozgon', 'bergheim', 'sentyabrskiy', 'thompson', 'arauco', 'azimur', 'arrifes', 'bull savanna', 'garowe', 'cidreira', 'avera', 'tasiilaq', 'lompoc', 'barrow', 'faya', 'alihe', 'richards bay', 'chokurdakh', 'nikolskoye', 'visnes', 'plettenberg bay', 'ulladulla', 'lakes entrance', 'bluefields', 'emirdag', 'chornukhy', 'upata', 'tiarei', 'bathsheba', 'lewisporte', 'lydenburg', 'kushmurun', 'zhetybay', 'sampit', 'poum', 'da nang', 'samarinda', 'ternate', 'talcahuano', 'padang', 'san andres', 'kutum', 'axim', 'vila franca do campo', 'samarai', 'menongue', 'fortuna', 'bud', 'kavieng', 'belyy yar', 'sataua', 'mount isa', 'dale', 'temaraia', 'porto nacional', 'faanui', 'dano', 'burnie', 'aden', 'warkworth', 'salalah', 'moron', 'new norfolk', 'esperance', 'bengkulu', 'marcona', 'umzimvubu', 'kimbe', 'samusu', 'radovitskiy', 'ajaccio', 'saint-pierre', 'clyde river', 'caravelas', 'attawapiskat', 'pokrovsk-uralskiy', 'taksimo', 'manzanillo', 'beyneu', 'taloqan', 'soure', 'otane', 'hedaru', 'constitucion', 'asau', 'orange', 'chirnogeni', 'saleaula', 'tilichiki', 'severo-kurilsk', 'praia da vitoria', 'kununurra', 'nakhon phanom', 'saint anthony', 'hami', 'kunda', 'meiganga', 'santa maria', 'kargil', 'colac', 'diego de almagro', 'tarauaca', 'alta floresta', 'roald', 'prince george', 'san quintin', 'mlonggo', 'ibotirama', 'comodoro rivadavia', 'bethel', 'sihora', 'moindou', 'souillac', 'road town', 'saint-augustin', 'hornepayne', 'skjervoy', 'manadhoo', 'san patricio', 'kavaratti', 'dakar', 'henties bay', 'amderma', 'dalvik', 'port lincoln', 'laguna', 'ngukurr', 'uvira', 'ushtobe', 'rudarpur', 'jaisalmer', 'northam', 'angoram', 'cortes', 'gamba', 'basqal', 'bur gabo', 'kungurtug', 'labuhan', 'gamboula', 'tual', 'atar', 'alofi', 'dauphin', 'puerto escondido', 'port-gentil', 'meulaboh', 'leh', 'echirolles', 'okhotsk', 'lavrentiya', 'teya', 'kaitangata', 'pontes e lacerda', 'kahului', 'dunedin', 'bollnas', 'balakovo', 'sabang', 'douentza', 'barcelos', 'warqla', 'barentsburg', 'komsomolskiy', 'katsuura', 'pasni', 'husavik', 'kawhia', 'nuuk', 'mbigou', 'jalingo', 'port macquarie', 'kemise', 'bosanski samac', 'saint-denis', 'chapais', 'lata', 'japura', 'roebourne', 'acajutla', 'kholodnyy', 'portel', 'osa', 'khani', 'ponta do sol', 'slanic-moldova', 'zhigansk', 'burica', 'pangnirtung', 'port blair', 'inhambane', 'korla', 'suhum', 'ahipara', 'dingle', 'alotau', 'naze', 'pradopolis', 'west wendover', 'kieta', 'iguape', 'lillooet', 'manbij', 'narsaq', 'jaciara', 'pevek', 'ust-tsilma', 'olafsvik', 'fukue', 'vestmannaeyjar', 'aswan', 'port hedland', 'nabire', 'macau', 'mingaora', 'dzaoudzi', 'abu dhabi', 'verkhnyaya inta', 'quatre cocos', 'hualmay', 'batsfjord', 'ishigaki', 'zvishavane', 'casablanca', 'alice springs', 'bandarbeyla', 'bolshoye nagatkino', 'gasa', 'kiunga', 'talara', 'kiama', 'misratah', 'kidal', 'kaili', 'mianyang', 'dekar', 'ewa beach', 'itarare', 'college', 'rio gallegos', 'dafeng', 'lasa', 'koslan', 'nishihara', 'halalo', 'port hawkesbury', 'zavodouspenskoye', 'polunochnoye', 'sembe', 'victoria', 'buraydah', 'opuwo', 'puro', 'zacualpan', 'koutiala', 'auki', 'hambantota', 'evensk', 'mbaiki', 'mokhotlong', 'tefe', 'ancud', 'hamilton', 'sinop', 'khandbari', 'salo', 'machalpur', 'tantoyuca', 'tateyama', 'sorland', 'gonbad-e qabus', 'tabiauea', 'mayya', 'belaya gora', 'tomigusuku', 'placido de castro', 'kirovskiy', 'batemans bay', 'lorengau', 'eureka', 'ust-kamchatsk', 'purpe', 'ketchikan', 'deputatskiy', 'tucurui', 'siniscola', 'san rafael del sur', 'qianan', 'ingraj bazar', 'codrington', 'kloulklubed', 'tabulbah', 'beaverlodge', 'huarmey', 'islamkot', 'skibbereen', 'vila', 'monaco-ville', 'paamiut', 'zheleznogorsk', 'raga', 'fairbanks', 'sur', 'coquimbo', 'amapa', 'biloela', 'mahibadhoo', 'junin', 'waitati', 'buenos aires', 'itarema', 'kargat', 'bereda', 'vila velha', 'atchison', 'pacific grove', 'dargaville', 'seddon', 'lasem', 'maymyo', 'lermontovka', 'carbonia', 'kurumkan', 'talnakh', 'manta', 'gujar khan', 'burgeo', 'maputo', 'iroquois falls', 'longonjo', 'stornoway', 'fuente palmera', 'matara', 'san juan', 'qui nhon', 'sechura', 'lolua', 'samalaeulu', 'berkak', 'godhra', 'nagato', 'kamenka', 'surt', 'bambanglipuro', 'bandipur', 'vanimo', 'castanhal', 'novo aripuana', 'dicabisagan', 'sydney mines', 'kilindoni', 'mecca', 'clarence town', 'port-cartier', 'grand gaube', 'vaitape', 'paka', 'kemin', 'seoul', 'falam', 'marrakesh', 'belgaum', 'puerto parra', 'maracacume', 'novikovo', 'higuey', 'shitanjing', 'shenjiamen', 'payo', 'french harbor', 'fort nelson', 'obanazawa', 'oranjemund', 'erzincan', 'saint andrews', 'concordia', 'zaysan', 'dickinson', 'polyarnyy', 'vardo', 'nelson bay', 'mahajanga', 'geraldton', 'chara', 'wajima', 'heihe', 'powassan', 'biscarrosse', 'saraland', 'tuatapere', 'varnavino', 'kropotkin', 'prince rupert', 'formoso do araguaia', 'lao cai', 'vereya', 'kyren', 'hermiston', 'toora-khem', 'acapulco', 'tarangnan', 'mackay', 'tari', 'wuning', 'muyezerskiy', 'comarapa', 'hwange', 'awbari', 'sao joao da barra', 'rawatbhata', 'oistins', 'coos bay', 'sinnamary', 'barra do garcas', 'kenai', 'san julian']\n"
     ]
    },
    {
     "data": {
      "text/plain": [
       "621"
      ]
     },
     "execution_count": 14,
     "metadata": {},
     "output_type": "execute_result"
    }
   ],
   "source": [
    "# List for holding lat_lngs and cities\n",
    "lat_lngs = []\n",
    "cities = []\n",
    "\n",
    "# Create a set of random lat and lng combinations\n",
    "lats = np.random.uniform(lat_range[0], lat_range[1], size=1500)\n",
    "lngs = np.random.uniform(lng_range[0], lng_range[1], size=1500)\n",
    "lat_lngs = zip(lats, lngs)\n",
    "\n",
    "# Identify nearest city for each lat, lng combination\n",
    "for lat_lng in lat_lngs:\n",
    "    city = citipy.nearest_city(lat_lng[0], lat_lng[1]).city_name\n",
    "    \n",
    "    # If the city is unique, then add it to a our cities list\n",
    "    if city not in cities:\n",
    "        cities.append(city)     \n",
    "# Print the city count to confirm sufficient count\n",
    "print(cities)\n",
    "len(cities)"
   ]
  },
  {
   "cell_type": "markdown",
   "metadata": {},
   "source": [
    "### Perform API Calls\n",
    "* Perform a weather check on each city using a series of successive API calls.\n",
    "* Include a print log of each city as it'sbeing processed (with the city number and city name).\n"
   ]
  },
  {
   "cell_type": "code",
   "execution_count": 15,
   "metadata": {},
   "outputs": [],
   "source": [
    "# save url information\n",
    "url = \"http://api.openweathermap.org/data/2.5/weather?\"\n",
    "units = \"imperial\"\n",
    "\n",
    "# build partial query URL\n",
    "query_url = f\"{url}appid={weather_api_key}&units={units}&q=\""
   ]
  },
  {
   "cell_type": "code",
   "execution_count": 16,
   "metadata": {},
   "outputs": [],
   "source": [
    "# create list to hold data\n",
    "city_name_list = []\n",
    "cloudiness_list = []\n",
    "country_list = []\n",
    "date_list = []\n",
    "humidity_list = []\n",
    "lat_list = []\n",
    "lng_list = []\n",
    "max_temp_list = []\n",
    "wind_speed_list = []\n",
    "index_counter = 0\n",
    "set_counter = 1"
   ]
  },
  {
   "cell_type": "code",
   "execution_count": 17,
   "metadata": {
    "scrolled": true
   },
   "outputs": [
    {
     "name": "stdout",
     "output_type": "stream",
     "text": [
      "Beginning Data Retrieval \n",
      "-----------------------------\n",
      "Processing Record 1 of Set 1 : blankenberge\n",
      "Processing Record 2 of Set 1 : rawson\n",
      "Processing Record 3 of Set 1 : yellowknife\n",
      "Processing Record 4 of Set 1 : hithadhoo\n",
      "Processing Record 5 of Set 1 : shingu\n",
      "Processing Record 6 of Set 1 : upernavik\n",
      "Processing Record 7 of Set 1 : namatanai\n",
      "City not found. Skipping...\n",
      "City not found. Skipping...\n",
      "Processing Record 8 of Set 1 : ushuaia\n",
      "Processing Record 9 of Set 1 : kapaa\n",
      "City not found. Skipping...\n",
      "Processing Record 10 of Set 1 : mataura\n",
      "Processing Record 11 of Set 1 : mehamn\n",
      "Processing Record 12 of Set 1 : longyearbyen\n",
      "Processing Record 13 of Set 1 : taoudenni\n",
      "Processing Record 14 of Set 1 : mar del plata\n",
      "Processing Record 15 of Set 1 : nanortalik\n",
      "Processing Record 16 of Set 1 : sochi\n",
      "Processing Record 17 of Set 1 : senno\n",
      "Processing Record 18 of Set 1 : aklavik\n",
      "Processing Record 19 of Set 1 : marsa matruh\n",
      "Processing Record 20 of Set 1 : avarua\n",
      "Processing Record 21 of Set 1 : nchelenge\n",
      "Processing Record 22 of Set 1 : hilo\n",
      "Processing Record 23 of Set 1 : hervey bay\n",
      "Processing Record 24 of Set 1 : limbang\n",
      "Processing Record 25 of Set 1 : mount gambier\n",
      "Processing Record 26 of Set 1 : broome\n",
      "Processing Record 27 of Set 1 : port elizabeth\n",
      "Processing Record 28 of Set 1 : ribeira grande\n",
      "Processing Record 29 of Set 1 : ilulissat\n",
      "Processing Record 30 of Set 1 : cape town\n",
      "Processing Record 31 of Set 1 : atbasar\n",
      "Processing Record 32 of Set 1 : rikitea\n",
      "Processing Record 33 of Set 1 : jamestown\n",
      "Processing Record 34 of Set 1 : maltahohe\n",
      "Processing Record 35 of Set 1 : hobart\n",
      "Processing Record 36 of Set 1 : egvekinot\n",
      "Processing Record 37 of Set 1 : puerto ayora\n",
      "Processing Record 38 of Set 1 : khatanga\n",
      "City not found. Skipping...\n",
      "Processing Record 39 of Set 1 : baykit\n",
      "Processing Record 40 of Set 1 : chingirlau\n",
      "Processing Record 41 of Set 1 : kontagora\n",
      "City not found. Skipping...\n",
      "Processing Record 42 of Set 1 : saint-imier\n",
      "Processing Record 43 of Set 1 : butaritari\n",
      "Processing Record 44 of Set 1 : yeppoon\n",
      "Processing Record 45 of Set 1 : albany\n",
      "City not found. Skipping...\n",
      "Processing Record 46 of Set 1 : bambous virieux\n",
      "Processing Record 47 of Set 1 : keti bandar\n",
      "Processing Record 48 of Set 1 : crotone\n",
      "Processing Record 49 of Set 1 : beringovskiy\n",
      "Processing Record 50 of Set 1 : pisco\n",
      "Processing Record 0 of Set 2 : atuona\n",
      "Processing Record 1 of Set 2 : hofn\n",
      "Processing Record 2 of Set 2 : nouadhibou\n",
      "Processing Record 3 of Set 2 : castro\n",
      "Processing Record 4 of Set 2 : itoman\n",
      "Processing Record 5 of Set 2 : muriwai beach\n",
      "Processing Record 6 of Set 2 : bredasdorp\n",
      "City not found. Skipping...\n",
      "Processing Record 7 of Set 2 : saskylakh\n",
      "Processing Record 8 of Set 2 : tuktoyaktuk\n",
      "Processing Record 9 of Set 2 : port alfred\n",
      "Processing Record 10 of Set 2 : lebu\n",
      "Processing Record 11 of Set 2 : fountain\n",
      "Processing Record 12 of Set 2 : ukiah\n",
      "Processing Record 13 of Set 2 : vaini\n",
      "Processing Record 14 of Set 2 : ponta delgada\n",
      "Processing Record 15 of Set 2 : coihaique\n",
      "Processing Record 16 of Set 2 : bosaso\n",
      "Processing Record 17 of Set 2 : sitka\n",
      "Processing Record 18 of Set 2 : buala\n",
      "Processing Record 19 of Set 2 : sabha\n",
      "Processing Record 20 of Set 2 : acarau\n",
      "Processing Record 21 of Set 2 : pacifica\n",
      "Processing Record 22 of Set 2 : olga\n",
      "City not found. Skipping...\n",
      "Processing Record 23 of Set 2 : los llanos de aridane\n",
      "Processing Record 24 of Set 2 : vostok\n",
      "Processing Record 25 of Set 2 : shimoda\n",
      "Processing Record 26 of Set 2 : touros\n",
      "Processing Record 27 of Set 2 : bastrop\n",
      "Processing Record 28 of Set 2 : qaanaaq\n",
      "Processing Record 29 of Set 2 : campobasso\n",
      "Processing Record 30 of Set 2 : ust-nera\n",
      "Processing Record 31 of Set 2 : provideniya\n",
      "Processing Record 32 of Set 2 : carutapera\n",
      "Processing Record 33 of Set 2 : kamina\n",
      "Processing Record 34 of Set 2 : flinders\n",
      "Processing Record 35 of Set 2 : havre-saint-pierre\n",
      "Processing Record 36 of Set 2 : tazovskiy\n",
      "City not found. Skipping...\n",
      "Processing Record 37 of Set 2 : alakurtti\n",
      "Processing Record 38 of Set 2 : iqaluit\n",
      "Processing Record 39 of Set 2 : punta arenas\n",
      "Processing Record 40 of Set 2 : san jeronimo\n",
      "Processing Record 41 of Set 2 : georgetown\n",
      "Processing Record 42 of Set 2 : shadrinsk\n",
      "Processing Record 43 of Set 2 : calama\n",
      "Processing Record 44 of Set 2 : carnarvon\n",
      "Processing Record 45 of Set 2 : busselton\n",
      "Processing Record 46 of Set 2 : najran\n",
      "Processing Record 47 of Set 2 : bridlington\n",
      "Processing Record 48 of Set 2 : norman wells\n",
      "Processing Record 49 of Set 2 : marquette\n",
      "Processing Record 50 of Set 2 : edgewater\n",
      "Processing Record 0 of Set 3 : tromso\n",
      "Processing Record 1 of Set 3 : nanpiao\n",
      "City not found. Skipping...\n",
      "Processing Record 2 of Set 3 : havelock\n",
      "City not found. Skipping...\n",
      "Processing Record 3 of Set 3 : cosala\n",
      "Processing Record 4 of Set 3 : gushikawa\n",
      "Processing Record 5 of Set 3 : saint-philippe\n",
      "Processing Record 6 of Set 3 : mahebourg\n",
      "Processing Record 7 of Set 3 : kodiak\n",
      "Processing Record 8 of Set 3 : luderitz\n",
      "Processing Record 9 of Set 3 : dryden\n",
      "Processing Record 10 of Set 3 : chino valley\n",
      "Processing Record 11 of Set 3 : jiaojiang\n",
      "Processing Record 12 of Set 3 : east london\n",
      "Processing Record 13 of Set 3 : dikson\n",
      "Processing Record 14 of Set 3 : bontang\n",
      "Processing Record 15 of Set 3 : meadow lake\n",
      "Processing Record 16 of Set 3 : kaeo\n",
      "Processing Record 17 of Set 3 : berlevag\n",
      "Processing Record 18 of Set 3 : zeya\n",
      "Processing Record 19 of Set 3 : muros\n",
      "Processing Record 20 of Set 3 : syracuse\n",
      "Processing Record 21 of Set 3 : srednekolymsk\n",
      "Processing Record 22 of Set 3 : teguise\n",
      "Processing Record 23 of Set 3 : tena\n",
      "City not found. Skipping...\n",
      "Processing Record 24 of Set 3 : ostrovnoy\n",
      "Processing Record 25 of Set 3 : rapid city\n",
      "Processing Record 26 of Set 3 : klaksvik\n",
      "Processing Record 27 of Set 3 : isangel\n",
      "Processing Record 28 of Set 3 : kruisfontein\n",
      "Processing Record 29 of Set 3 : tiksi\n",
      "Processing Record 30 of Set 3 : fonte boa\n",
      "Processing Record 31 of Set 3 : millington\n",
      "Processing Record 32 of Set 3 : karratha\n",
      "Processing Record 33 of Set 3 : arraial do cabo\n",
      "Processing Record 34 of Set 3 : asuncion\n",
      "Processing Record 35 of Set 3 : chuy\n",
      "Processing Record 36 of Set 3 : sigli\n",
      "Processing Record 37 of Set 3 : ixtapa\n",
      "Processing Record 38 of Set 3 : great bend\n",
      "Processing Record 39 of Set 3 : hermanus\n",
      "Processing Record 40 of Set 3 : saint george\n",
      "Processing Record 41 of Set 3 : lagoa\n",
      "City not found. Skipping...\n",
      "Processing Record 42 of Set 3 : airai\n",
      "Processing Record 43 of Set 3 : krasnoselkup\n",
      "Processing Record 44 of Set 3 : brae\n",
      "Processing Record 45 of Set 3 : liuzhou\n",
      "Processing Record 46 of Set 3 : bluff\n",
      "Processing Record 47 of Set 3 : leningradskiy\n",
      "Processing Record 48 of Set 3 : pervomayskoye\n",
      "Processing Record 49 of Set 3 : rio grande\n",
      "Processing Record 50 of Set 3 : wanaka\n",
      "Processing Record 0 of Set 4 : guerrero negro\n",
      "Processing Record 1 of Set 4 : coruripe\n",
      "Processing Record 2 of Set 4 : svarstad\n",
      "Processing Record 3 of Set 4 : lake city\n",
      "Processing Record 4 of Set 4 : abu samrah\n",
      "Processing Record 5 of Set 4 : yar-sale\n",
      "Processing Record 6 of Set 4 : praya\n",
      "Processing Record 7 of Set 4 : hasaki\n",
      "Processing Record 8 of Set 4 : oakdale\n",
      "Processing Record 9 of Set 4 : pirogovo\n",
      "Processing Record 10 of Set 4 : cherskiy\n",
      "Processing Record 11 of Set 4 : fereydun kenar\n",
      "Processing Record 12 of Set 4 : pekan\n",
      "Processing Record 13 of Set 4 : kota\n",
      "Processing Record 14 of Set 4 : cabo san lucas\n",
      "Processing Record 15 of Set 4 : san carlos de bariloche\n",
      "Processing Record 16 of Set 4 : bonavista\n",
      "Processing Record 17 of Set 4 : bonneville\n",
      "Processing Record 18 of Set 4 : centralia\n",
      "Processing Record 19 of Set 4 : sao filipe\n",
      "Processing Record 20 of Set 4 : portland\n",
      "Processing Record 21 of Set 4 : monrovia\n",
      "Processing Record 22 of Set 4 : hovd\n",
      "Processing Record 23 of Set 4 : yulara\n",
      "Processing Record 24 of Set 4 : shieli\n",
      "Processing Record 25 of Set 4 : san cristobal\n",
      "City not found. Skipping...\n",
      "City not found. Skipping...\n",
      "Processing Record 26 of Set 4 : maumere\n",
      "Processing Record 27 of Set 4 : torbay\n",
      "City not found. Skipping...\n",
      "Processing Record 28 of Set 4 : la ronge\n",
      "Processing Record 29 of Set 4 : lisakovsk\n",
      "Processing Record 30 of Set 4 : ust-omchug\n",
      "Processing Record 31 of Set 4 : santona\n",
      "Processing Record 32 of Set 4 : gat\n",
      "Processing Record 33 of Set 4 : sangar\n",
      "Processing Record 34 of Set 4 : coahuayana\n"
     ]
    },
    {
     "name": "stdout",
     "output_type": "stream",
     "text": [
      "Processing Record 35 of Set 4 : klyuchi\n",
      "City not found. Skipping...\n",
      "City not found. Skipping...\n",
      "Processing Record 36 of Set 4 : bergheim\n",
      "City not found. Skipping...\n",
      "Processing Record 37 of Set 4 : thompson\n",
      "Processing Record 38 of Set 4 : arauco\n",
      "City not found. Skipping...\n",
      "Processing Record 39 of Set 4 : arrifes\n",
      "Processing Record 40 of Set 4 : bull savanna\n",
      "Processing Record 41 of Set 4 : garowe\n",
      "Processing Record 42 of Set 4 : cidreira\n",
      "Processing Record 43 of Set 4 : avera\n",
      "Processing Record 44 of Set 4 : tasiilaq\n",
      "Processing Record 45 of Set 4 : lompoc\n",
      "Processing Record 46 of Set 4 : barrow\n",
      "Processing Record 47 of Set 4 : faya\n",
      "Processing Record 48 of Set 4 : alihe\n",
      "Processing Record 49 of Set 4 : richards bay\n",
      "Processing Record 50 of Set 4 : chokurdakh\n",
      "Processing Record 0 of Set 5 : nikolskoye\n",
      "Processing Record 1 of Set 5 : visnes\n",
      "Processing Record 2 of Set 5 : plettenberg bay\n",
      "Processing Record 3 of Set 5 : ulladulla\n",
      "Processing Record 4 of Set 5 : lakes entrance\n",
      "Processing Record 5 of Set 5 : bluefields\n",
      "Processing Record 6 of Set 5 : emirdag\n",
      "Processing Record 7 of Set 5 : chornukhy\n",
      "Processing Record 8 of Set 5 : upata\n",
      "Processing Record 9 of Set 5 : tiarei\n",
      "Processing Record 10 of Set 5 : bathsheba\n",
      "Processing Record 11 of Set 5 : lewisporte\n",
      "Processing Record 12 of Set 5 : lydenburg\n",
      "Processing Record 13 of Set 5 : kushmurun\n",
      "City not found. Skipping...\n",
      "Processing Record 14 of Set 5 : sampit\n",
      "Processing Record 15 of Set 5 : poum\n",
      "Processing Record 16 of Set 5 : da nang\n",
      "Processing Record 17 of Set 5 : samarinda\n",
      "Processing Record 18 of Set 5 : ternate\n",
      "Processing Record 19 of Set 5 : talcahuano\n",
      "Processing Record 20 of Set 5 : padang\n",
      "Processing Record 21 of Set 5 : san andres\n",
      "Processing Record 22 of Set 5 : kutum\n",
      "Processing Record 23 of Set 5 : axim\n",
      "Processing Record 24 of Set 5 : vila franca do campo\n",
      "Processing Record 25 of Set 5 : samarai\n",
      "Processing Record 26 of Set 5 : menongue\n",
      "Processing Record 27 of Set 5 : fortuna\n",
      "Processing Record 28 of Set 5 : bud\n",
      "Processing Record 29 of Set 5 : kavieng\n",
      "Processing Record 30 of Set 5 : belyy yar\n",
      "City not found. Skipping...\n",
      "Processing Record 31 of Set 5 : mount isa\n",
      "Processing Record 32 of Set 5 : dale\n",
      "City not found. Skipping...\n",
      "Processing Record 33 of Set 5 : porto nacional\n",
      "Processing Record 34 of Set 5 : faanui\n",
      "Processing Record 35 of Set 5 : dano\n",
      "Processing Record 36 of Set 5 : burnie\n",
      "Processing Record 37 of Set 5 : aden\n",
      "Processing Record 38 of Set 5 : warkworth\n",
      "Processing Record 39 of Set 5 : salalah\n",
      "Processing Record 40 of Set 5 : moron\n",
      "Processing Record 41 of Set 5 : new norfolk\n",
      "Processing Record 42 of Set 5 : esperance\n",
      "Processing Record 43 of Set 5 : bengkulu\n",
      "City not found. Skipping...\n",
      "City not found. Skipping...\n",
      "Processing Record 44 of Set 5 : kimbe\n",
      "City not found. Skipping...\n",
      "Processing Record 45 of Set 5 : radovitskiy\n",
      "Processing Record 46 of Set 5 : ajaccio\n",
      "Processing Record 47 of Set 5 : saint-pierre\n",
      "Processing Record 48 of Set 5 : clyde river\n",
      "Processing Record 49 of Set 5 : caravelas\n",
      "City not found. Skipping...\n",
      "City not found. Skipping...\n",
      "Processing Record 50 of Set 5 : taksimo\n",
      "Processing Record 0 of Set 6 : manzanillo\n",
      "Processing Record 1 of Set 6 : beyneu\n",
      "Processing Record 2 of Set 6 : taloqan\n",
      "Processing Record 3 of Set 6 : soure\n",
      "Processing Record 4 of Set 6 : otane\n",
      "Processing Record 5 of Set 6 : hedaru\n",
      "Processing Record 6 of Set 6 : constitucion\n",
      "Processing Record 7 of Set 6 : asau\n",
      "Processing Record 8 of Set 6 : orange\n",
      "Processing Record 9 of Set 6 : chirnogeni\n",
      "City not found. Skipping...\n",
      "Processing Record 10 of Set 6 : tilichiki\n",
      "Processing Record 11 of Set 6 : severo-kurilsk\n",
      "Processing Record 12 of Set 6 : praia da vitoria\n",
      "Processing Record 13 of Set 6 : kununurra\n",
      "Processing Record 14 of Set 6 : nakhon phanom\n",
      "Processing Record 15 of Set 6 : saint anthony\n",
      "Processing Record 16 of Set 6 : hami\n",
      "Processing Record 17 of Set 6 : kunda\n",
      "Processing Record 18 of Set 6 : meiganga\n",
      "Processing Record 19 of Set 6 : santa maria\n",
      "Processing Record 20 of Set 6 : kargil\n",
      "Processing Record 21 of Set 6 : colac\n",
      "Processing Record 22 of Set 6 : diego de almagro\n",
      "Processing Record 23 of Set 6 : tarauaca\n",
      "Processing Record 24 of Set 6 : alta floresta\n",
      "Processing Record 25 of Set 6 : roald\n",
      "Processing Record 26 of Set 6 : prince george\n",
      "Processing Record 27 of Set 6 : san quintin\n",
      "Processing Record 28 of Set 6 : mlonggo\n",
      "Processing Record 29 of Set 6 : ibotirama\n",
      "Processing Record 30 of Set 6 : comodoro rivadavia\n",
      "Processing Record 31 of Set 6 : bethel\n",
      "Processing Record 32 of Set 6 : sihora\n",
      "Processing Record 33 of Set 6 : moindou\n",
      "Processing Record 34 of Set 6 : souillac\n",
      "Processing Record 35 of Set 6 : road town\n",
      "Processing Record 36 of Set 6 : saint-augustin\n",
      "Processing Record 37 of Set 6 : hornepayne\n",
      "Processing Record 38 of Set 6 : skjervoy\n",
      "Processing Record 39 of Set 6 : manadhoo\n",
      "Processing Record 40 of Set 6 : san patricio\n",
      "Processing Record 41 of Set 6 : kavaratti\n",
      "Processing Record 42 of Set 6 : dakar\n",
      "Processing Record 43 of Set 6 : henties bay\n",
      "City not found. Skipping...\n",
      "Processing Record 44 of Set 6 : dalvik\n",
      "Processing Record 45 of Set 6 : port lincoln\n",
      "Processing Record 46 of Set 6 : laguna\n",
      "City not found. Skipping...\n",
      "Processing Record 47 of Set 6 : uvira\n",
      "Processing Record 48 of Set 6 : ushtobe\n",
      "Processing Record 49 of Set 6 : rudarpur\n",
      "Processing Record 50 of Set 6 : jaisalmer\n",
      "Processing Record 0 of Set 7 : northam\n",
      "Processing Record 1 of Set 7 : angoram\n",
      "Processing Record 2 of Set 7 : cortes\n",
      "Processing Record 3 of Set 7 : gamba\n",
      "Processing Record 4 of Set 7 : basqal\n",
      "City not found. Skipping...\n",
      "Processing Record 5 of Set 7 : kungurtug\n",
      "Processing Record 6 of Set 7 : labuhan\n",
      "Processing Record 7 of Set 7 : gamboula\n",
      "Processing Record 8 of Set 7 : tual\n",
      "Processing Record 9 of Set 7 : atar\n",
      "Processing Record 10 of Set 7 : alofi\n",
      "Processing Record 11 of Set 7 : dauphin\n",
      "Processing Record 12 of Set 7 : puerto escondido\n",
      "Processing Record 13 of Set 7 : port-gentil\n",
      "Processing Record 14 of Set 7 : meulaboh\n",
      "Processing Record 15 of Set 7 : leh\n",
      "Processing Record 16 of Set 7 : echirolles\n",
      "Processing Record 17 of Set 7 : okhotsk\n",
      "Processing Record 18 of Set 7 : lavrentiya\n",
      "Processing Record 19 of Set 7 : teya\n",
      "Processing Record 20 of Set 7 : kaitangata\n",
      "Processing Record 21 of Set 7 : pontes e lacerda\n",
      "Processing Record 22 of Set 7 : kahului\n",
      "Processing Record 23 of Set 7 : dunedin\n",
      "Processing Record 24 of Set 7 : bollnas\n",
      "Processing Record 25 of Set 7 : balakovo\n",
      "Processing Record 26 of Set 7 : sabang\n",
      "Processing Record 27 of Set 7 : douentza\n",
      "Processing Record 28 of Set 7 : barcelos\n",
      "City not found. Skipping...\n",
      "City not found. Skipping...\n",
      "Processing Record 29 of Set 7 : komsomolskiy\n",
      "Processing Record 30 of Set 7 : katsuura\n",
      "Processing Record 31 of Set 7 : pasni\n",
      "Processing Record 32 of Set 7 : husavik\n",
      "Processing Record 33 of Set 7 : kawhia\n",
      "Processing Record 34 of Set 7 : nuuk\n",
      "Processing Record 35 of Set 7 : mbigou\n",
      "Processing Record 36 of Set 7 : jalingo\n",
      "Processing Record 37 of Set 7 : port macquarie\n",
      "Processing Record 38 of Set 7 : kemise\n",
      "Processing Record 39 of Set 7 : bosanski samac\n",
      "Processing Record 40 of Set 7 : saint-denis\n",
      "Processing Record 41 of Set 7 : chapais\n",
      "Processing Record 42 of Set 7 : lata\n",
      "Processing Record 43 of Set 7 : japura\n",
      "Processing Record 44 of Set 7 : roebourne\n",
      "Processing Record 45 of Set 7 : acajutla\n",
      "Processing Record 46 of Set 7 : kholodnyy\n",
      "Processing Record 47 of Set 7 : portel\n",
      "Processing Record 48 of Set 7 : osa\n",
      "Processing Record 49 of Set 7 : khani\n",
      "Processing Record 50 of Set 7 : ponta do sol\n",
      "Processing Record 0 of Set 8 : slanic-moldova\n",
      "Processing Record 1 of Set 8 : zhigansk\n",
      "City not found. Skipping...\n",
      "Processing Record 2 of Set 8 : pangnirtung\n",
      "Processing Record 3 of Set 8 : port blair\n",
      "Processing Record 4 of Set 8 : inhambane\n",
      "Processing Record 5 of Set 8 : korla\n",
      "Processing Record 6 of Set 8 : suhum\n",
      "Processing Record 7 of Set 8 : ahipara\n",
      "Processing Record 8 of Set 8 : dingle\n",
      "City not found. Skipping...\n",
      "Processing Record 9 of Set 8 : naze\n",
      "Processing Record 10 of Set 8 : pradopolis\n",
      "Processing Record 11 of Set 8 : west wendover\n",
      "Processing Record 12 of Set 8 : kieta\n",
      "Processing Record 13 of Set 8 : iguape\n",
      "Processing Record 14 of Set 8 : lillooet\n",
      "Processing Record 15 of Set 8 : manbij\n",
      "Processing Record 16 of Set 8 : narsaq\n",
      "Processing Record 17 of Set 8 : jaciara\n"
     ]
    },
    {
     "name": "stdout",
     "output_type": "stream",
     "text": [
      "Processing Record 18 of Set 8 : pevek\n",
      "Processing Record 19 of Set 8 : ust-tsilma\n",
      "Processing Record 20 of Set 8 : olafsvik\n",
      "Processing Record 21 of Set 8 : fukue\n",
      "Processing Record 22 of Set 8 : vestmannaeyjar\n",
      "Processing Record 23 of Set 8 : aswan\n",
      "Processing Record 24 of Set 8 : port hedland\n",
      "Processing Record 25 of Set 8 : nabire\n",
      "Processing Record 26 of Set 8 : macau\n",
      "Processing Record 27 of Set 8 : mingaora\n",
      "Processing Record 28 of Set 8 : dzaoudzi\n",
      "Processing Record 29 of Set 8 : abu dhabi\n",
      "Processing Record 30 of Set 8 : verkhnyaya inta\n",
      "Processing Record 31 of Set 8 : quatre cocos\n",
      "Processing Record 32 of Set 8 : hualmay\n",
      "Processing Record 33 of Set 8 : batsfjord\n",
      "Processing Record 34 of Set 8 : ishigaki\n",
      "Processing Record 35 of Set 8 : zvishavane\n",
      "Processing Record 36 of Set 8 : casablanca\n",
      "Processing Record 37 of Set 8 : alice springs\n",
      "Processing Record 38 of Set 8 : bandarbeyla\n",
      "Processing Record 39 of Set 8 : bolshoye nagatkino\n",
      "Processing Record 40 of Set 8 : gasa\n",
      "Processing Record 41 of Set 8 : kiunga\n",
      "Processing Record 42 of Set 8 : talara\n",
      "Processing Record 43 of Set 8 : kiama\n",
      "Processing Record 44 of Set 8 : misratah\n",
      "Processing Record 45 of Set 8 : kidal\n",
      "Processing Record 46 of Set 8 : kaili\n",
      "Processing Record 47 of Set 8 : mianyang\n",
      "Processing Record 48 of Set 8 : dekar\n",
      "Processing Record 49 of Set 8 : ewa beach\n",
      "Processing Record 50 of Set 8 : itarare\n",
      "Processing Record 0 of Set 9 : college\n",
      "Processing Record 1 of Set 9 : rio gallegos\n",
      "Processing Record 2 of Set 9 : dafeng\n",
      "Processing Record 3 of Set 9 : lasa\n",
      "Processing Record 4 of Set 9 : koslan\n",
      "Processing Record 5 of Set 9 : nishihara\n",
      "City not found. Skipping...\n",
      "Processing Record 6 of Set 9 : port hawkesbury\n",
      "Processing Record 7 of Set 9 : zavodouspenskoye\n",
      "Processing Record 8 of Set 9 : polunochnoye\n",
      "Processing Record 9 of Set 9 : sembe\n",
      "Processing Record 10 of Set 9 : victoria\n",
      "Processing Record 11 of Set 9 : buraydah\n",
      "Processing Record 12 of Set 9 : opuwo\n",
      "Processing Record 13 of Set 9 : puro\n",
      "Processing Record 14 of Set 9 : zacualpan\n",
      "Processing Record 15 of Set 9 : koutiala\n",
      "Processing Record 16 of Set 9 : auki\n",
      "Processing Record 17 of Set 9 : hambantota\n",
      "Processing Record 18 of Set 9 : evensk\n",
      "Processing Record 19 of Set 9 : mbaiki\n",
      "Processing Record 20 of Set 9 : mokhotlong\n",
      "Processing Record 21 of Set 9 : tefe\n",
      "Processing Record 22 of Set 9 : ancud\n",
      "Processing Record 23 of Set 9 : hamilton\n",
      "Processing Record 24 of Set 9 : sinop\n",
      "Processing Record 25 of Set 9 : khandbari\n",
      "Processing Record 26 of Set 9 : salo\n",
      "Processing Record 27 of Set 9 : machalpur\n",
      "Processing Record 28 of Set 9 : tantoyuca\n",
      "Processing Record 29 of Set 9 : tateyama\n",
      "Processing Record 30 of Set 9 : sorland\n",
      "Processing Record 31 of Set 9 : gonbad-e qabus\n",
      "City not found. Skipping...\n",
      "Processing Record 32 of Set 9 : mayya\n",
      "Processing Record 33 of Set 9 : belaya gora\n",
      "Processing Record 34 of Set 9 : tomigusuku\n",
      "Processing Record 35 of Set 9 : placido de castro\n",
      "Processing Record 36 of Set 9 : kirovskiy\n",
      "Processing Record 37 of Set 9 : batemans bay\n",
      "Processing Record 38 of Set 9 : lorengau\n",
      "Processing Record 39 of Set 9 : eureka\n",
      "City not found. Skipping...\n",
      "Processing Record 40 of Set 9 : purpe\n",
      "Processing Record 41 of Set 9 : ketchikan\n",
      "Processing Record 42 of Set 9 : deputatskiy\n",
      "Processing Record 43 of Set 9 : tucurui\n",
      "Processing Record 44 of Set 9 : siniscola\n",
      "Processing Record 45 of Set 9 : san rafael del sur\n",
      "Processing Record 46 of Set 9 : qianan\n",
      "Processing Record 47 of Set 9 : ingraj bazar\n",
      "Processing Record 48 of Set 9 : codrington\n",
      "Processing Record 49 of Set 9 : kloulklubed\n",
      "City not found. Skipping...\n",
      "Processing Record 50 of Set 9 : beaverlodge\n",
      "Processing Record 0 of Set 10 : huarmey\n",
      "Processing Record 1 of Set 10 : islamkot\n",
      "Processing Record 2 of Set 10 : skibbereen\n",
      "Processing Record 3 of Set 10 : vila\n",
      "Processing Record 4 of Set 10 : monaco-ville\n",
      "Processing Record 5 of Set 10 : paamiut\n",
      "Processing Record 6 of Set 10 : zheleznogorsk\n",
      "Processing Record 7 of Set 10 : raga\n",
      "Processing Record 8 of Set 10 : fairbanks\n",
      "Processing Record 9 of Set 10 : sur\n",
      "Processing Record 10 of Set 10 : coquimbo\n",
      "Processing Record 11 of Set 10 : amapa\n",
      "Processing Record 12 of Set 10 : biloela\n",
      "Processing Record 13 of Set 10 : mahibadhoo\n",
      "Processing Record 14 of Set 10 : junin\n",
      "Processing Record 15 of Set 10 : waitati\n",
      "Processing Record 16 of Set 10 : buenos aires\n",
      "Processing Record 17 of Set 10 : itarema\n",
      "Processing Record 18 of Set 10 : kargat\n",
      "Processing Record 19 of Set 10 : bereda\n",
      "Processing Record 20 of Set 10 : vila velha\n",
      "Processing Record 21 of Set 10 : atchison\n",
      "Processing Record 22 of Set 10 : pacific grove\n",
      "Processing Record 23 of Set 10 : dargaville\n",
      "Processing Record 24 of Set 10 : seddon\n",
      "Processing Record 25 of Set 10 : lasem\n",
      "Processing Record 26 of Set 10 : maymyo\n",
      "Processing Record 27 of Set 10 : lermontovka\n",
      "Processing Record 28 of Set 10 : carbonia\n",
      "Processing Record 29 of Set 10 : kurumkan\n",
      "Processing Record 30 of Set 10 : talnakh\n",
      "Processing Record 31 of Set 10 : manta\n",
      "Processing Record 32 of Set 10 : gujar khan\n",
      "Processing Record 33 of Set 10 : burgeo\n",
      "Processing Record 34 of Set 10 : maputo\n",
      "Processing Record 35 of Set 10 : iroquois falls\n",
      "Processing Record 36 of Set 10 : longonjo\n",
      "Processing Record 37 of Set 10 : stornoway\n",
      "Processing Record 38 of Set 10 : fuente palmera\n",
      "Processing Record 39 of Set 10 : matara\n",
      "Processing Record 40 of Set 10 : san juan\n",
      "Processing Record 41 of Set 10 : qui nhon\n",
      "Processing Record 42 of Set 10 : sechura\n",
      "City not found. Skipping...\n",
      "City not found. Skipping...\n",
      "Processing Record 43 of Set 10 : berkak\n",
      "Processing Record 44 of Set 10 : godhra\n",
      "Processing Record 45 of Set 10 : nagato\n",
      "Processing Record 46 of Set 10 : kamenka\n",
      "Processing Record 47 of Set 10 : surt\n",
      "Processing Record 48 of Set 10 : bambanglipuro\n",
      "Processing Record 49 of Set 10 : bandipur\n",
      "Processing Record 50 of Set 10 : vanimo\n",
      "Processing Record 0 of Set 11 : castanhal\n",
      "Processing Record 1 of Set 11 : novo aripuana\n",
      "Processing Record 2 of Set 11 : dicabisagan\n",
      "Processing Record 3 of Set 11 : sydney mines\n",
      "Processing Record 4 of Set 11 : kilindoni\n",
      "Processing Record 5 of Set 11 : mecca\n",
      "Processing Record 6 of Set 11 : clarence town\n",
      "Processing Record 7 of Set 11 : port-cartier\n",
      "Processing Record 8 of Set 11 : grand gaube\n",
      "Processing Record 9 of Set 11 : vaitape\n",
      "Processing Record 10 of Set 11 : paka\n",
      "Processing Record 11 of Set 11 : kemin\n",
      "Processing Record 12 of Set 11 : seoul\n",
      "Processing Record 13 of Set 11 : falam\n",
      "Processing Record 14 of Set 11 : marrakesh\n",
      "Processing Record 15 of Set 11 : belgaum\n",
      "Processing Record 16 of Set 11 : puerto parra\n",
      "Processing Record 17 of Set 11 : maracacume\n",
      "Processing Record 18 of Set 11 : novikovo\n",
      "City not found. Skipping...\n",
      "Processing Record 19 of Set 11 : shitanjing\n",
      "Processing Record 20 of Set 11 : shenjiamen\n",
      "Processing Record 21 of Set 11 : payo\n",
      "Processing Record 22 of Set 11 : french harbor\n",
      "Processing Record 23 of Set 11 : fort nelson\n",
      "Processing Record 24 of Set 11 : obanazawa\n",
      "Processing Record 25 of Set 11 : oranjemund\n",
      "Processing Record 26 of Set 11 : erzincan\n",
      "Processing Record 27 of Set 11 : saint andrews\n",
      "Processing Record 28 of Set 11 : concordia\n",
      "Processing Record 29 of Set 11 : zaysan\n",
      "Processing Record 30 of Set 11 : dickinson\n",
      "Processing Record 31 of Set 11 : polyarnyy\n",
      "Processing Record 32 of Set 11 : vardo\n",
      "Processing Record 33 of Set 11 : nelson bay\n",
      "Processing Record 34 of Set 11 : mahajanga\n",
      "Processing Record 35 of Set 11 : geraldton\n",
      "Processing Record 36 of Set 11 : chara\n",
      "Processing Record 37 of Set 11 : wajima\n",
      "Processing Record 38 of Set 11 : heihe\n",
      "Processing Record 39 of Set 11 : powassan\n",
      "Processing Record 40 of Set 11 : biscarrosse\n",
      "Processing Record 41 of Set 11 : saraland\n",
      "Processing Record 42 of Set 11 : tuatapere\n",
      "Processing Record 43 of Set 11 : varnavino\n",
      "Processing Record 44 of Set 11 : kropotkin\n",
      "Processing Record 45 of Set 11 : prince rupert\n",
      "City not found. Skipping...\n",
      "Processing Record 46 of Set 11 : lao cai\n",
      "Processing Record 47 of Set 11 : vereya\n",
      "Processing Record 48 of Set 11 : kyren\n",
      "Processing Record 49 of Set 11 : hermiston\n",
      "Processing Record 50 of Set 11 : toora-khem\n",
      "Processing Record 0 of Set 12 : acapulco\n",
      "Processing Record 1 of Set 12 : tarangnan\n",
      "Processing Record 2 of Set 12 : mackay\n",
      "Processing Record 3 of Set 12 : tari\n",
      "Processing Record 4 of Set 12 : wuning\n",
      "Processing Record 5 of Set 12 : muyezerskiy\n"
     ]
    },
    {
     "name": "stdout",
     "output_type": "stream",
     "text": [
      "Processing Record 6 of Set 12 : comarapa\n",
      "Processing Record 7 of Set 12 : hwange\n",
      "Processing Record 8 of Set 12 : awbari\n",
      "Processing Record 9 of Set 12 : sao joao da barra\n",
      "Processing Record 10 of Set 12 : rawatbhata\n",
      "Processing Record 11 of Set 12 : oistins\n",
      "Processing Record 12 of Set 12 : coos bay\n",
      "Processing Record 13 of Set 12 : sinnamary\n",
      "Processing Record 14 of Set 12 : barra do garcas\n",
      "Processing Record 15 of Set 12 : kenai\n",
      "Processing Record 16 of Set 12 : san julian\n",
      "-----------------------------\n",
      "Data Retrieval Complete\n",
      "-----------------------------\n"
     ]
    }
   ],
   "source": [
    "#Print\n",
    "print(\"Beginning Data Retrieval \")\n",
    "print(\"-----------------------------\")\n",
    "\n",
    "base_url = \"http://api.openweathermap.org/data/2.5/weather?\"\n",
    "units = \"imperial\"\n",
    "query_url = f\"{base_url}appid={weather_api_key}&units={units}&q=\"\n",
    "\n",
    "\n",
    "# For each city name in cities list, do below things...\n",
    "for index, city in enumerate(cities, start = 1):\n",
    "    try:\n",
    "        response = requests.get(query_url + city).json()\n",
    "        city_name_list.append(response[\"name\"])\n",
    "        cloudiness_list.append(response[\"clouds\"][\"all\"])\n",
    "        country_list.append(response[\"sys\"][\"country\"])\n",
    "        date_list.append(response[\"dt\"])\n",
    "        humidity_list.append(response[\"main\"][\"humidity\"])\n",
    "        lat_list.append(response[\"coord\"][\"lat\"])\n",
    "        lng_list.append(response[\"coord\"][\"lon\"])\n",
    "        max_temp_list.append(response['main']['temp_max'])\n",
    "        wind_speed_list.append(response[\"wind\"][\"speed\"])\n",
    "        if index_counter > 49:\n",
    "            index_counter = 0\n",
    "            set_counter = set_counter + 1\n",
    "    \n",
    "        else:\n",
    "            index_counter = index_counter + 1\n",
    "            \n",
    "        print(f\"Processing Record {index_counter} of Set {set_counter} : {city}\") \n",
    "  \n",
    "    except(KeyError, IndexError):\n",
    "        print(\"City not found. Skipping...\")\n",
    "\n",
    "print(\"-----------------------------\")\n",
    "print(\"Data Retrieval Complete\")\n",
    "print(\"-----------------------------\") "
   ]
  },
  {
   "cell_type": "markdown",
   "metadata": {},
   "source": [
    "### Convert Raw Data to DataFrame\n",
    "* Export the city data into a .csv.\n",
    "* Display the DataFrame"
   ]
  },
  {
   "cell_type": "code",
   "execution_count": 38,
   "metadata": {},
   "outputs": [],
   "source": [
    "#DataFrame\n",
    "weather_dict = pd.DataFrame({ \n",
    "                \"City\" : city_name_list,\n",
    "                \"Cloudiness\" : cloudiness_list,\n",
    "                \"Country\" : country_list,\n",
    "                \"Date\" : date_list,\n",
    "                \"Humidity\" : humidity_list,\n",
    "                \"Lat\" : lat_list,\n",
    "                \"Lng\" : lng_list,\n",
    "                \"Max Temp\" : max_temp_list,\n",
    "                \"Wind Speed\" : wind_speed_list\n",
    "})"
   ]
  },
  {
   "cell_type": "code",
   "execution_count": 39,
   "metadata": {},
   "outputs": [
    {
     "data": {
      "text/plain": [
       "City          577\n",
       "Cloudiness    577\n",
       "Country       577\n",
       "Date          577\n",
       "Humidity      577\n",
       "Lat           577\n",
       "Lng           577\n",
       "Max Temp      577\n",
       "Wind Speed    577\n",
       "dtype: int64"
      ]
     },
     "execution_count": 39,
     "metadata": {},
     "output_type": "execute_result"
    }
   ],
   "source": [
    "#count\n",
    "weather_dict.count()"
   ]
  },
  {
   "cell_type": "code",
   "execution_count": 40,
   "metadata": {},
   "outputs": [
    {
     "data": {
      "text/html": [
       "<div>\n",
       "<style scoped>\n",
       "    .dataframe tbody tr th:only-of-type {\n",
       "        vertical-align: middle;\n",
       "    }\n",
       "\n",
       "    .dataframe tbody tr th {\n",
       "        vertical-align: top;\n",
       "    }\n",
       "\n",
       "    .dataframe thead th {\n",
       "        text-align: right;\n",
       "    }\n",
       "</style>\n",
       "<table border=\"1\" class=\"dataframe\">\n",
       "  <thead>\n",
       "    <tr style=\"text-align: right;\">\n",
       "      <th></th>\n",
       "      <th>City</th>\n",
       "      <th>Cloudiness</th>\n",
       "      <th>Country</th>\n",
       "      <th>Date</th>\n",
       "      <th>Humidity</th>\n",
       "      <th>Lat</th>\n",
       "      <th>Lng</th>\n",
       "      <th>Max Temp</th>\n",
       "      <th>Wind Speed</th>\n",
       "    </tr>\n",
       "  </thead>\n",
       "  <tbody>\n",
       "    <tr>\n",
       "      <th>0</th>\n",
       "      <td>Blankenberge</td>\n",
       "      <td>16</td>\n",
       "      <td>BE</td>\n",
       "      <td>1603330338</td>\n",
       "      <td>81</td>\n",
       "      <td>51.31</td>\n",
       "      <td>3.13</td>\n",
       "      <td>57.00</td>\n",
       "      <td>3.00</td>\n",
       "    </tr>\n",
       "    <tr>\n",
       "      <th>1</th>\n",
       "      <td>Rawson</td>\n",
       "      <td>31</td>\n",
       "      <td>AR</td>\n",
       "      <td>1603330248</td>\n",
       "      <td>38</td>\n",
       "      <td>-43.30</td>\n",
       "      <td>-65.10</td>\n",
       "      <td>56.95</td>\n",
       "      <td>20.40</td>\n",
       "    </tr>\n",
       "    <tr>\n",
       "      <th>2</th>\n",
       "      <td>Yellowknife</td>\n",
       "      <td>75</td>\n",
       "      <td>CA</td>\n",
       "      <td>1603330290</td>\n",
       "      <td>79</td>\n",
       "      <td>62.46</td>\n",
       "      <td>-114.35</td>\n",
       "      <td>24.80</td>\n",
       "      <td>16.11</td>\n",
       "    </tr>\n",
       "    <tr>\n",
       "      <th>3</th>\n",
       "      <td>Hithadhoo</td>\n",
       "      <td>12</td>\n",
       "      <td>MV</td>\n",
       "      <td>1603330338</td>\n",
       "      <td>74</td>\n",
       "      <td>-0.60</td>\n",
       "      <td>73.08</td>\n",
       "      <td>82.60</td>\n",
       "      <td>12.88</td>\n",
       "    </tr>\n",
       "    <tr>\n",
       "      <th>4</th>\n",
       "      <td>Shingū</td>\n",
       "      <td>75</td>\n",
       "      <td>JP</td>\n",
       "      <td>1603330339</td>\n",
       "      <td>69</td>\n",
       "      <td>33.73</td>\n",
       "      <td>135.98</td>\n",
       "      <td>73.40</td>\n",
       "      <td>11.41</td>\n",
       "    </tr>\n",
       "    <tr>\n",
       "      <th>...</th>\n",
       "      <td>...</td>\n",
       "      <td>...</td>\n",
       "      <td>...</td>\n",
       "      <td>...</td>\n",
       "      <td>...</td>\n",
       "      <td>...</td>\n",
       "      <td>...</td>\n",
       "      <td>...</td>\n",
       "      <td>...</td>\n",
       "    </tr>\n",
       "    <tr>\n",
       "      <th>572</th>\n",
       "      <td>Coos Bay</td>\n",
       "      <td>1</td>\n",
       "      <td>US</td>\n",
       "      <td>1603330459</td>\n",
       "      <td>71</td>\n",
       "      <td>43.37</td>\n",
       "      <td>-124.22</td>\n",
       "      <td>55.99</td>\n",
       "      <td>17.22</td>\n",
       "    </tr>\n",
       "    <tr>\n",
       "      <th>573</th>\n",
       "      <td>Sinnamary</td>\n",
       "      <td>0</td>\n",
       "      <td>GF</td>\n",
       "      <td>1603330460</td>\n",
       "      <td>83</td>\n",
       "      <td>5.38</td>\n",
       "      <td>-52.95</td>\n",
       "      <td>79.75</td>\n",
       "      <td>9.75</td>\n",
       "    </tr>\n",
       "    <tr>\n",
       "      <th>574</th>\n",
       "      <td>Barra do Garças</td>\n",
       "      <td>92</td>\n",
       "      <td>BR</td>\n",
       "      <td>1603330460</td>\n",
       "      <td>78</td>\n",
       "      <td>-15.89</td>\n",
       "      <td>-52.26</td>\n",
       "      <td>75.52</td>\n",
       "      <td>4.18</td>\n",
       "    </tr>\n",
       "    <tr>\n",
       "      <th>575</th>\n",
       "      <td>Kenai</td>\n",
       "      <td>1</td>\n",
       "      <td>US</td>\n",
       "      <td>1603330387</td>\n",
       "      <td>41</td>\n",
       "      <td>60.55</td>\n",
       "      <td>-151.26</td>\n",
       "      <td>41.00</td>\n",
       "      <td>12.75</td>\n",
       "    </tr>\n",
       "    <tr>\n",
       "      <th>576</th>\n",
       "      <td>San Julián</td>\n",
       "      <td>4</td>\n",
       "      <td>MX</td>\n",
       "      <td>1603330460</td>\n",
       "      <td>46</td>\n",
       "      <td>21.02</td>\n",
       "      <td>-102.17</td>\n",
       "      <td>61.81</td>\n",
       "      <td>4.27</td>\n",
       "    </tr>\n",
       "  </tbody>\n",
       "</table>\n",
       "<p>577 rows × 9 columns</p>\n",
       "</div>"
      ],
      "text/plain": [
       "                City  Cloudiness Country        Date  Humidity    Lat     Lng  \\\n",
       "0       Blankenberge          16      BE  1603330338        81  51.31    3.13   \n",
       "1             Rawson          31      AR  1603330248        38 -43.30  -65.10   \n",
       "2        Yellowknife          75      CA  1603330290        79  62.46 -114.35   \n",
       "3          Hithadhoo          12      MV  1603330338        74  -0.60   73.08   \n",
       "4             Shingū          75      JP  1603330339        69  33.73  135.98   \n",
       "..               ...         ...     ...         ...       ...    ...     ...   \n",
       "572         Coos Bay           1      US  1603330459        71  43.37 -124.22   \n",
       "573        Sinnamary           0      GF  1603330460        83   5.38  -52.95   \n",
       "574  Barra do Garças          92      BR  1603330460        78 -15.89  -52.26   \n",
       "575            Kenai           1      US  1603330387        41  60.55 -151.26   \n",
       "576       San Julián           4      MX  1603330460        46  21.02 -102.17   \n",
       "\n",
       "     Max Temp  Wind Speed  \n",
       "0       57.00        3.00  \n",
       "1       56.95       20.40  \n",
       "2       24.80       16.11  \n",
       "3       82.60       12.88  \n",
       "4       73.40       11.41  \n",
       "..        ...         ...  \n",
       "572     55.99       17.22  \n",
       "573     79.75        9.75  \n",
       "574     75.52        4.18  \n",
       "575     41.00       12.75  \n",
       "576     61.81        4.27  \n",
       "\n",
       "[577 rows x 9 columns]"
      ]
     },
     "execution_count": 40,
     "metadata": {},
     "output_type": "execute_result"
    }
   ],
   "source": [
    "#df print\n",
    "weather_dict\n"
   ]
  },
  {
   "cell_type": "code",
   "execution_count": 41,
   "metadata": {},
   "outputs": [],
   "source": [
    "# Save city data into a csv file\n",
    "weather_dict.to_csv(\"Output_Data/cities.csv\", index = False)"
   ]
  },
  {
   "cell_type": "code",
   "execution_count": 42,
   "metadata": {},
   "outputs": [
    {
     "data": {
      "text/html": [
       "<div>\n",
       "<style scoped>\n",
       "    .dataframe tbody tr th:only-of-type {\n",
       "        vertical-align: middle;\n",
       "    }\n",
       "\n",
       "    .dataframe tbody tr th {\n",
       "        vertical-align: top;\n",
       "    }\n",
       "\n",
       "    .dataframe thead th {\n",
       "        text-align: right;\n",
       "    }\n",
       "</style>\n",
       "<table border=\"1\" class=\"dataframe\">\n",
       "  <thead>\n",
       "    <tr style=\"text-align: right;\">\n",
       "      <th></th>\n",
       "      <th>Cloudiness</th>\n",
       "      <th>Date</th>\n",
       "      <th>Humidity</th>\n",
       "      <th>Lat</th>\n",
       "      <th>Lng</th>\n",
       "      <th>Max Temp</th>\n",
       "      <th>Wind Speed</th>\n",
       "    </tr>\n",
       "  </thead>\n",
       "  <tbody>\n",
       "    <tr>\n",
       "      <th>count</th>\n",
       "      <td>577.000000</td>\n",
       "      <td>5.770000e+02</td>\n",
       "      <td>577.000000</td>\n",
       "      <td>577.000000</td>\n",
       "      <td>577.000000</td>\n",
       "      <td>577.000000</td>\n",
       "      <td>577.000000</td>\n",
       "    </tr>\n",
       "    <tr>\n",
       "      <th>mean</th>\n",
       "      <td>53.960139</td>\n",
       "      <td>1.603330e+09</td>\n",
       "      <td>74.733102</td>\n",
       "      <td>19.712877</td>\n",
       "      <td>20.699255</td>\n",
       "      <td>59.735667</td>\n",
       "      <td>7.214021</td>\n",
       "    </tr>\n",
       "    <tr>\n",
       "      <th>std</th>\n",
       "      <td>39.644428</td>\n",
       "      <td>1.178036e+02</td>\n",
       "      <td>19.129806</td>\n",
       "      <td>33.764440</td>\n",
       "      <td>91.267535</td>\n",
       "      <td>20.097854</td>\n",
       "      <td>5.076427</td>\n",
       "    </tr>\n",
       "    <tr>\n",
       "      <th>min</th>\n",
       "      <td>0.000000</td>\n",
       "      <td>1.603330e+09</td>\n",
       "      <td>9.000000</td>\n",
       "      <td>-54.800000</td>\n",
       "      <td>-179.170000</td>\n",
       "      <td>4.590000</td>\n",
       "      <td>0.110000</td>\n",
       "    </tr>\n",
       "    <tr>\n",
       "      <th>25%</th>\n",
       "      <td>9.000000</td>\n",
       "      <td>1.603330e+09</td>\n",
       "      <td>66.000000</td>\n",
       "      <td>-7.910000</td>\n",
       "      <td>-58.650000</td>\n",
       "      <td>46.400000</td>\n",
       "      <td>3.360000</td>\n",
       "    </tr>\n",
       "    <tr>\n",
       "      <th>50%</th>\n",
       "      <td>66.000000</td>\n",
       "      <td>1.603330e+09</td>\n",
       "      <td>78.000000</td>\n",
       "      <td>24.930000</td>\n",
       "      <td>25.570000</td>\n",
       "      <td>63.370000</td>\n",
       "      <td>5.930000</td>\n",
       "    </tr>\n",
       "    <tr>\n",
       "      <th>75%</th>\n",
       "      <td>92.000000</td>\n",
       "      <td>1.603330e+09</td>\n",
       "      <td>88.000000</td>\n",
       "      <td>46.620000</td>\n",
       "      <td>102.350000</td>\n",
       "      <td>76.680000</td>\n",
       "      <td>9.480000</td>\n",
       "    </tr>\n",
       "    <tr>\n",
       "      <th>max</th>\n",
       "      <td>100.000000</td>\n",
       "      <td>1.603330e+09</td>\n",
       "      <td>100.000000</td>\n",
       "      <td>78.220000</td>\n",
       "      <td>179.320000</td>\n",
       "      <td>100.400000</td>\n",
       "      <td>30.740000</td>\n",
       "    </tr>\n",
       "  </tbody>\n",
       "</table>\n",
       "</div>"
      ],
      "text/plain": [
       "       Cloudiness          Date    Humidity         Lat         Lng  \\\n",
       "count  577.000000  5.770000e+02  577.000000  577.000000  577.000000   \n",
       "mean    53.960139  1.603330e+09   74.733102   19.712877   20.699255   \n",
       "std     39.644428  1.178036e+02   19.129806   33.764440   91.267535   \n",
       "min      0.000000  1.603330e+09    9.000000  -54.800000 -179.170000   \n",
       "25%      9.000000  1.603330e+09   66.000000   -7.910000  -58.650000   \n",
       "50%     66.000000  1.603330e+09   78.000000   24.930000   25.570000   \n",
       "75%     92.000000  1.603330e+09   88.000000   46.620000  102.350000   \n",
       "max    100.000000  1.603330e+09  100.000000   78.220000  179.320000   \n",
       "\n",
       "         Max Temp  Wind Speed  \n",
       "count  577.000000  577.000000  \n",
       "mean    59.735667    7.214021  \n",
       "std     20.097854    5.076427  \n",
       "min      4.590000    0.110000  \n",
       "25%     46.400000    3.360000  \n",
       "50%     63.370000    5.930000  \n",
       "75%     76.680000    9.480000  \n",
       "max    100.400000   30.740000  "
      ]
     },
     "execution_count": 42,
     "metadata": {},
     "output_type": "execute_result"
    }
   ],
   "source": [
    "weather_dict.describe()"
   ]
  },
  {
   "cell_type": "markdown",
   "metadata": {},
   "source": [
    "## Inspect the data and remove the cities where the humidity > 100%.\n",
    "----\n",
    "Skip this step if there are no cities that have humidity > 100%. "
   ]
  },
  {
   "cell_type": "code",
   "execution_count": 43,
   "metadata": {},
   "outputs": [
    {
     "data": {
      "text/html": [
       "<div>\n",
       "<style scoped>\n",
       "    .dataframe tbody tr th:only-of-type {\n",
       "        vertical-align: middle;\n",
       "    }\n",
       "\n",
       "    .dataframe tbody tr th {\n",
       "        vertical-align: top;\n",
       "    }\n",
       "\n",
       "    .dataframe thead th {\n",
       "        text-align: right;\n",
       "    }\n",
       "</style>\n",
       "<table border=\"1\" class=\"dataframe\">\n",
       "  <thead>\n",
       "    <tr style=\"text-align: right;\">\n",
       "      <th></th>\n",
       "      <th>Cloudiness</th>\n",
       "      <th>Date</th>\n",
       "      <th>Humidity</th>\n",
       "      <th>Lat</th>\n",
       "      <th>Lng</th>\n",
       "      <th>Max Temp</th>\n",
       "      <th>Wind Speed</th>\n",
       "    </tr>\n",
       "  </thead>\n",
       "  <tbody>\n",
       "    <tr>\n",
       "      <th>count</th>\n",
       "      <td>577.000000</td>\n",
       "      <td>5.770000e+02</td>\n",
       "      <td>577.000000</td>\n",
       "      <td>577.000000</td>\n",
       "      <td>577.000000</td>\n",
       "      <td>577.000000</td>\n",
       "      <td>577.000000</td>\n",
       "    </tr>\n",
       "    <tr>\n",
       "      <th>mean</th>\n",
       "      <td>53.960139</td>\n",
       "      <td>1.603330e+09</td>\n",
       "      <td>74.733102</td>\n",
       "      <td>19.712877</td>\n",
       "      <td>20.699255</td>\n",
       "      <td>59.735667</td>\n",
       "      <td>7.214021</td>\n",
       "    </tr>\n",
       "    <tr>\n",
       "      <th>std</th>\n",
       "      <td>39.644428</td>\n",
       "      <td>1.178036e+02</td>\n",
       "      <td>19.129806</td>\n",
       "      <td>33.764440</td>\n",
       "      <td>91.267535</td>\n",
       "      <td>20.097854</td>\n",
       "      <td>5.076427</td>\n",
       "    </tr>\n",
       "    <tr>\n",
       "      <th>min</th>\n",
       "      <td>0.000000</td>\n",
       "      <td>1.603330e+09</td>\n",
       "      <td>9.000000</td>\n",
       "      <td>-54.800000</td>\n",
       "      <td>-179.170000</td>\n",
       "      <td>4.590000</td>\n",
       "      <td>0.110000</td>\n",
       "    </tr>\n",
       "    <tr>\n",
       "      <th>25%</th>\n",
       "      <td>9.000000</td>\n",
       "      <td>1.603330e+09</td>\n",
       "      <td>66.000000</td>\n",
       "      <td>-7.910000</td>\n",
       "      <td>-58.650000</td>\n",
       "      <td>46.400000</td>\n",
       "      <td>3.360000</td>\n",
       "    </tr>\n",
       "    <tr>\n",
       "      <th>50%</th>\n",
       "      <td>66.000000</td>\n",
       "      <td>1.603330e+09</td>\n",
       "      <td>78.000000</td>\n",
       "      <td>24.930000</td>\n",
       "      <td>25.570000</td>\n",
       "      <td>63.370000</td>\n",
       "      <td>5.930000</td>\n",
       "    </tr>\n",
       "    <tr>\n",
       "      <th>75%</th>\n",
       "      <td>92.000000</td>\n",
       "      <td>1.603330e+09</td>\n",
       "      <td>88.000000</td>\n",
       "      <td>46.620000</td>\n",
       "      <td>102.350000</td>\n",
       "      <td>76.680000</td>\n",
       "      <td>9.480000</td>\n",
       "    </tr>\n",
       "    <tr>\n",
       "      <th>max</th>\n",
       "      <td>100.000000</td>\n",
       "      <td>1.603330e+09</td>\n",
       "      <td>100.000000</td>\n",
       "      <td>78.220000</td>\n",
       "      <td>179.320000</td>\n",
       "      <td>100.400000</td>\n",
       "      <td>30.740000</td>\n",
       "    </tr>\n",
       "  </tbody>\n",
       "</table>\n",
       "</div>"
      ],
      "text/plain": [
       "       Cloudiness          Date    Humidity         Lat         Lng  \\\n",
       "count  577.000000  5.770000e+02  577.000000  577.000000  577.000000   \n",
       "mean    53.960139  1.603330e+09   74.733102   19.712877   20.699255   \n",
       "std     39.644428  1.178036e+02   19.129806   33.764440   91.267535   \n",
       "min      0.000000  1.603330e+09    9.000000  -54.800000 -179.170000   \n",
       "25%      9.000000  1.603330e+09   66.000000   -7.910000  -58.650000   \n",
       "50%     66.000000  1.603330e+09   78.000000   24.930000   25.570000   \n",
       "75%     92.000000  1.603330e+09   88.000000   46.620000  102.350000   \n",
       "max    100.000000  1.603330e+09  100.000000   78.220000  179.320000   \n",
       "\n",
       "         Max Temp  Wind Speed  \n",
       "count  577.000000  577.000000  \n",
       "mean    59.735667    7.214021  \n",
       "std     20.097854    5.076427  \n",
       "min      4.590000    0.110000  \n",
       "25%     46.400000    3.360000  \n",
       "50%     63.370000    5.930000  \n",
       "75%     76.680000    9.480000  \n",
       "max    100.400000   30.740000  "
      ]
     },
     "execution_count": 43,
     "metadata": {},
     "output_type": "execute_result"
    }
   ],
   "source": [
    "weather_dict.describe()"
   ]
  },
  {
   "cell_type": "code",
   "execution_count": 44,
   "metadata": {},
   "outputs": [
    {
     "data": {
      "text/plain": [
       "Int64Index([], dtype='int64')"
      ]
     },
     "execution_count": 44,
     "metadata": {},
     "output_type": "execute_result"
    }
   ],
   "source": [
    "#  Get the indices of cities that have humidity over 100%.\n",
    "indicies = weather_dict[weather_dict['Humidity']>100].index\n",
    "indicies"
   ]
  },
  {
   "cell_type": "code",
   "execution_count": 45,
   "metadata": {},
   "outputs": [
    {
     "data": {
      "text/html": [
       "<div>\n",
       "<style scoped>\n",
       "    .dataframe tbody tr th:only-of-type {\n",
       "        vertical-align: middle;\n",
       "    }\n",
       "\n",
       "    .dataframe tbody tr th {\n",
       "        vertical-align: top;\n",
       "    }\n",
       "\n",
       "    .dataframe thead th {\n",
       "        text-align: right;\n",
       "    }\n",
       "</style>\n",
       "<table border=\"1\" class=\"dataframe\">\n",
       "  <thead>\n",
       "    <tr style=\"text-align: right;\">\n",
       "      <th></th>\n",
       "      <th>City</th>\n",
       "      <th>Cloudiness</th>\n",
       "      <th>Country</th>\n",
       "      <th>Date</th>\n",
       "      <th>Humidity</th>\n",
       "      <th>Lat</th>\n",
       "      <th>Lng</th>\n",
       "      <th>Max Temp</th>\n",
       "      <th>Wind Speed</th>\n",
       "    </tr>\n",
       "  </thead>\n",
       "  <tbody>\n",
       "    <tr>\n",
       "      <th>0</th>\n",
       "      <td>Blankenberge</td>\n",
       "      <td>16</td>\n",
       "      <td>BE</td>\n",
       "      <td>1603330338</td>\n",
       "      <td>81</td>\n",
       "      <td>51.31</td>\n",
       "      <td>3.13</td>\n",
       "      <td>57.00</td>\n",
       "      <td>3.00</td>\n",
       "    </tr>\n",
       "    <tr>\n",
       "      <th>1</th>\n",
       "      <td>Rawson</td>\n",
       "      <td>31</td>\n",
       "      <td>AR</td>\n",
       "      <td>1603330248</td>\n",
       "      <td>38</td>\n",
       "      <td>-43.30</td>\n",
       "      <td>-65.10</td>\n",
       "      <td>56.95</td>\n",
       "      <td>20.40</td>\n",
       "    </tr>\n",
       "    <tr>\n",
       "      <th>2</th>\n",
       "      <td>Yellowknife</td>\n",
       "      <td>75</td>\n",
       "      <td>CA</td>\n",
       "      <td>1603330290</td>\n",
       "      <td>79</td>\n",
       "      <td>62.46</td>\n",
       "      <td>-114.35</td>\n",
       "      <td>24.80</td>\n",
       "      <td>16.11</td>\n",
       "    </tr>\n",
       "    <tr>\n",
       "      <th>3</th>\n",
       "      <td>Hithadhoo</td>\n",
       "      <td>12</td>\n",
       "      <td>MV</td>\n",
       "      <td>1603330338</td>\n",
       "      <td>74</td>\n",
       "      <td>-0.60</td>\n",
       "      <td>73.08</td>\n",
       "      <td>82.60</td>\n",
       "      <td>12.88</td>\n",
       "    </tr>\n",
       "    <tr>\n",
       "      <th>4</th>\n",
       "      <td>Shingū</td>\n",
       "      <td>75</td>\n",
       "      <td>JP</td>\n",
       "      <td>1603330339</td>\n",
       "      <td>69</td>\n",
       "      <td>33.73</td>\n",
       "      <td>135.98</td>\n",
       "      <td>73.40</td>\n",
       "      <td>11.41</td>\n",
       "    </tr>\n",
       "  </tbody>\n",
       "</table>\n",
       "</div>"
      ],
      "text/plain": [
       "           City  Cloudiness Country        Date  Humidity    Lat     Lng  \\\n",
       "0  Blankenberge          16      BE  1603330338        81  51.31    3.13   \n",
       "1        Rawson          31      AR  1603330248        38 -43.30  -65.10   \n",
       "2   Yellowknife          75      CA  1603330290        79  62.46 -114.35   \n",
       "3     Hithadhoo          12      MV  1603330338        74  -0.60   73.08   \n",
       "4        Shingū          75      JP  1603330339        69  33.73  135.98   \n",
       "\n",
       "   Max Temp  Wind Speed  \n",
       "0     57.00        3.00  \n",
       "1     56.95       20.40  \n",
       "2     24.80       16.11  \n",
       "3     82.60       12.88  \n",
       "4     73.40       11.41  "
      ]
     },
     "execution_count": 45,
     "metadata": {},
     "output_type": "execute_result"
    }
   ],
   "source": [
    "# Make a new DataFrame equal to the city data to drop all humidity outliers by index.\n",
    "# Passing \"inplace=False\" will make a copy of the city_data DataFrame, which we call \"clean_city_data\".\n",
    "clean_weather_dict = weather_dict.drop(indicies,inplace=False)\n",
    "clean_weather_dict.head()"
   ]
  },
  {
   "cell_type": "code",
   "execution_count": null,
   "metadata": {},
   "outputs": [],
   "source": [
    "\n"
   ]
  },
  {
   "cell_type": "markdown",
   "metadata": {},
   "source": [
    "## Plotting the Data\n",
    "* Use proper labeling of the plots using plot titles (including date of analysis) and axes labels.\n",
    "* Save the plotted figures as .pngs."
   ]
  },
  {
   "cell_type": "markdown",
   "metadata": {},
   "source": [
    "## Latitude vs. Temperature Plot"
   ]
  },
  {
   "cell_type": "code",
   "execution_count": 46,
   "metadata": {
    "scrolled": true
   },
   "outputs": [
    {
     "data": {
      "image/png": "[encoded data removed]",
      "text/plain": [
       "<Figure size 432x288 with 1 Axes>"
      ]
     },
     "metadata": {
      "needs_background": "light"
     },
     "output_type": "display_data"
    }
   ],
   "source": [
    "# Scatter plot - Lat vs Temp\n",
    "plt.scatter(weather_dict[\"Lat\"], weather_dict[\"Max Temp\"], facecolor = \"steelblue\", edgecolor = \"black\")\n",
    "\n",
    "# Title\n",
    "plt.title(\"City Latitude vs. Max Temperature (04/01/20)\")\n",
    "\n",
    "# X-axis label\n",
    "plt.xlabel(\"Laitude\")\n",
    "\n",
    "# Y-axis label\n",
    "plt.ylabel(\"Max Temperature (F)\")\n",
    "\n",
    "# Grid line\n",
    "plt.grid(linestyle='-', linewidth=1, alpha = 0.5)\n",
    "\n",
    "# Save the plotted figure as .pngs\n",
    "plt.savefig(\"Images/City Latitude vs Max Temperature.png\")\n",
    "\n"
   ]
  },
  {
   "cell_type": "markdown",
   "metadata": {},
   "source": [
    "The temperatues increase as you get closer to the 0 latitude, the temps decrease the further away you are from the 0 latitude"
   ]
  },
  {
   "cell_type": "markdown",
   "metadata": {},
   "source": [
    "## Latitude vs. Humidity Plot"
   ]
  },
  {
   "cell_type": "code",
   "execution_count": 47,
   "metadata": {},
   "outputs": [
    {
     "data": {
      "image/png": "[encoded data removed]",
      "text/plain": [
       "<Figure size 432x288 with 1 Axes>"
      ]
     },
     "metadata": {
      "needs_background": "light"
     },
     "output_type": "display_data"
    }
   ],
   "source": [
    "# Scatter plot - Lat vs Humidity\n",
    "plt.scatter(weather_dict[\"Lat\"], weather_dict[\"Humidity\"], facecolor = \"steelblue\", edgecolor = \"black\")\n",
    "\n",
    "# Title\n",
    "plt.title(\"City Latitude vs. Humidity (04/01/20)\")\n",
    "\n",
    "# X-axis label\n",
    "plt.xlabel(\"Laitude\")\n",
    "\n",
    "# Y-axis label\n",
    "plt.ylabel(\"Humidity (%)\")\n",
    "\n",
    "# Grid line\n",
    "plt.grid(linestyle='-', linewidth=1, alpha = 0.5)\n",
    "\n",
    "# Save the plotted figure as .pngs\n",
    "plt.savefig(\"Images/City Latitude vs Humidity.png\")\n"
   ]
  },
  {
   "cell_type": "markdown",
   "metadata": {},
   "source": [
    "Humidity seems to stay around the 80% mark for a majority of the latitudes, however, Polar regions do seem to have lower humidity %"
   ]
  },
  {
   "cell_type": "markdown",
   "metadata": {},
   "source": [
    "## Latitude vs. Cloudiness Plot"
   ]
  },
  {
   "cell_type": "code",
   "execution_count": 48,
   "metadata": {},
   "outputs": [
    {
     "data": {
      "image/png": "[encoded data removed]",
      "text/plain": [
       "<Figure size 432x288 with 1 Axes>"
      ]
     },
     "metadata": {
      "needs_background": "light"
     },
     "output_type": "display_data"
    }
   ],
   "source": [
    "# Scatter plot - Lat vs Cloudiness\n",
    "plt.scatter(weather_dict[\"Lat\"], weather_dict[\"Cloudiness\"], facecolor = \"steelblue\", edgecolor = \"black\")\n",
    "\n",
    "# Title\n",
    "plt.title(\"City Latitude vs. Cloudiness (04/01/20)\")\n",
    "\n",
    "# X-axis label\n",
    "plt.xlabel(\"Laitude\")\n",
    "\n",
    "# Y-axis label\n",
    "plt.ylabel(\"Cloudiness (%)\")\n",
    "plt.ylim(-5,105)\n",
    "\n",
    "# Grid line\n",
    "plt.grid(linestyle='-', linewidth=1, alpha = 0.5)\n",
    "\n",
    "# Save the plotted figure as .pngs\n",
    "plt.savefig(\"Images/City Latitude vs Cloudiness.png\")\n"
   ]
  },
  {
   "cell_type": "markdown",
   "metadata": {},
   "source": [
    "Cloudiness seems to be widespread, no real pattern seen, just follows latitude in a liniar manner"
   ]
  },
  {
   "cell_type": "markdown",
   "metadata": {},
   "source": [
    "## Latitude vs. Wind Speed Plot"
   ]
  },
  {
   "cell_type": "code",
   "execution_count": 49,
   "metadata": {},
   "outputs": [
    {
     "data": {
      "image/png": "[encoded data removed]",
      "text/plain": [
       "<Figure size 432x288 with 1 Axes>"
      ]
     },
     "metadata": {
      "needs_background": "light"
     },
     "output_type": "display_data"
    }
   ],
   "source": [
    "# Scatter plot - Lat vs Wind Speed\n",
    "plt.scatter(weather_dict[\"Lat\"], weather_dict[\"Wind Speed\"], facecolor = \"steelblue\", edgecolor = \"black\")\n",
    "\n",
    "# Title\n",
    "plt.title(\"City Latitude vs. Wind Speed (mph) (04/01/20)\")\n",
    "\n",
    "# X-axis label\n",
    "plt.xlabel(\"Laitude\")\n",
    "\n",
    "# Y-axis label\n",
    "plt.ylabel(\"Wind Speed (%)\")\n",
    "plt.ylim(-2,50)\n",
    "\n",
    "# Grid line\n",
    "plt.grid(linestyle='-', linewidth=1, alpha = 0.5)\n",
    "\n",
    "# Save the plotted figure as .pngs\n",
    "plt.savefig(\"Images/City Latitude vs Wind Speed.png\")\n"
   ]
  },
  {
   "cell_type": "markdown",
   "metadata": {},
   "source": [
    "Majority of the windspeed data was below the 10mph mark, with only a smaller portion reaching 30mph.  The data is widely spread across the latitude"
   ]
  },
  {
   "cell_type": "markdown",
   "metadata": {},
   "source": [
    "## Linear Regression"
   ]
  },
  {
   "cell_type": "code",
   "execution_count": 50,
   "metadata": {},
   "outputs": [],
   "source": [
    "# Create Northern and Southern Hemisphere DataFrames\n",
    "northern_hemisphere = weather_dict.loc[weather_dict[\"Lat\"] >= 0]\n",
    "southern_hemisphere = weather_dict.loc[weather_dict[\"Lat\"] < 0]"
   ]
  },
  {
   "cell_type": "code",
   "execution_count": 51,
   "metadata": {},
   "outputs": [],
   "source": [
    "# Defining function for creating linear agression and scatter plot\n",
    "def linear_agression(x,y):\n",
    "    print(f\"The r-value is : {round(st.pearsonr(x, y)[0],2)}\")\n",
    "    (slope, intercept, rvalue, pvalue, stderr) = linregress(x, y)\n",
    "    regress_values = x * slope + intercept\n",
    "    line_eq = \"y = \" + str(round(slope,2)) + \"x + \" + str(round(intercept,2))\n",
    "    plt.scatter(x, y)\n",
    "    plt.plot(x,regress_values,\"r-\")\n",
    "    return line_eq\n",
    "\n",
    "# Define a fuction for annotating\n",
    "def annotate(line_eq, a, b):\n",
    "    plt.annotate(line_eq,(a,b),fontsize=15,color=\"red\")"
   ]
  },
  {
   "cell_type": "markdown",
   "metadata": {},
   "source": [
    "####  Northern Hemisphere - Max Temp vs. Latitude Linear Regression"
   ]
  },
  {
   "cell_type": "code",
   "execution_count": 52,
   "metadata": {},
   "outputs": [
    {
     "name": "stdout",
     "output_type": "stream",
     "text": [
      "The r-value is : -0.9\n",
      "y = -0.99x + 93.85\n"
     ]
    },
    {
     "data": {
      "image/png": "[encoded data removed]",
      "text/plain": [
       "<Figure size 432x288 with 1 Axes>"
      ]
     },
     "metadata": {
      "needs_background": "light"
     },
     "output_type": "display_data"
    }
   ],
   "source": [
    "# Equation for liniar\n",
    "equation = linear_agression(northern_hemisphere[\"Lat\"], northern_hemisphere[\"Max Temp\"])\n",
    "print(equation)\n",
    "# annotating \n",
    "annotate(equation, 0, 0)\n",
    "\n",
    "# Title\n",
    "plt.title(\"Northern Hemisphere - Max Temp vs. Latitude Linear Regression\")\n",
    "\n",
    "# X-label\n",
    "plt.xlabel(\"Latitude\")\n",
    "\n",
    "# Y-label\n",
    "plt.ylabel(\"Max Temp (F)\")\n",
    "\n",
    "# Save the figure\n",
    "plt.savefig(\"Images/Northern Hemisphere - Max Temp vs. Latitude Linear Regression.png\")\n",
    "plt.show()\n"
   ]
  },
  {
   "cell_type": "markdown",
   "metadata": {},
   "source": [
    "There is a negative correlation between the latitude and Max Temp for the Northern Hemisphere"
   ]
  },
  {
   "cell_type": "markdown",
   "metadata": {},
   "source": [
    "####  Southern Hemisphere - Max Temp vs. Latitude Linear Regression"
   ]
  },
  {
   "cell_type": "code",
   "execution_count": 53,
   "metadata": {},
   "outputs": [
    {
     "name": "stdout",
     "output_type": "stream",
     "text": [
      "The r-value is : 0.65\n",
      "y = 0.52x + 81.75\n"
     ]
    },
    {
     "data": {
      "image/png": "[encoded data removed]",
      "text/plain": [
       "<Figure size 432x288 with 1 Axes>"
      ]
     },
     "metadata": {
      "needs_background": "light"
     },
     "output_type": "display_data"
    }
   ],
   "source": [
    "# Equation for liniar\n",
    "equation = linear_agression(southern_hemisphere[\"Lat\"],southern_hemisphere[\"Max Temp\"])\n",
    "print(equation)\n",
    "# annotating \n",
    "annotate(equation, -30, 50)\n",
    "\n",
    "# Title\n",
    "plt.title(\"Southern Hemisphere - Max Temp vs. Latitude Linear Regression\")\n",
    "\n",
    "# X-label\n",
    "plt.xlabel(\"Latitude\")\n",
    "\n",
    "# Y-label\n",
    "plt.ylabel(\"Max Temp (F)\")\n",
    "\n",
    "# Save the figure\n",
    "plt.savefig(\"Images/Southern Hemisphere - Max Temp vs. Latitude Linear Regression.png\")\n"
   ]
  },
  {
   "cell_type": "markdown",
   "metadata": {},
   "source": [
    "There is a positive correlation between the latitude and Max Temp for the Southern Hemisphere"
   ]
  },
  {
   "cell_type": "markdown",
   "metadata": {},
   "source": [
    "####  Northern Hemisphere - Humidity (%) vs. Latitude Linear Regression"
   ]
  },
  {
   "cell_type": "code",
   "execution_count": 54,
   "metadata": {},
   "outputs": [
    {
     "name": "stdout",
     "output_type": "stream",
     "text": [
      "The r-value is : 0.29\n",
      "y = 0.29x + 64.9\n"
     ]
    },
    {
     "data": {
      "image/png": "[encoded data removed]",
      "text/plain": [
       "<Figure size 432x288 with 1 Axes>"
      ]
     },
     "metadata": {
      "needs_background": "light"
     },
     "output_type": "display_data"
    }
   ],
   "source": [
    "# Equation for liniar\n",
    "equation = linear_agression(northern_hemisphere[\"Lat\"], northern_hemisphere[\"Humidity\"])\n",
    "print(equation)\n",
    "# annotating \n",
    "annotate(equation, 40, 15)\n",
    "\n",
    "# Title\n",
    "plt.title(\"Northern Hemisphere - Humidity (%) vs. Latitude Linear Regression\")\n",
    "\n",
    "# X-label\n",
    "plt.xlabel(\"Latitude\")\n",
    "\n",
    "# Y-label\n",
    "plt.ylabel(\"Humidity (%)\")\n",
    "\n",
    "# Save the figure\n",
    "plt.savefig(\"Images/Northern Hemisphere - Humidity (%) vs. Latitude Linear Regression.png\")"
   ]
  },
  {
   "cell_type": "markdown",
   "metadata": {},
   "source": [
    "####  Southern Hemisphere - Humidity (%) vs. Latitude Linear Regression"
   ]
  },
  {
   "cell_type": "markdown",
   "metadata": {},
   "source": [
    "There is a positive correlation between the latitude and Humidity for the Northern Hemisphere"
   ]
  },
  {
   "cell_type": "code",
   "execution_count": 55,
   "metadata": {},
   "outputs": [
    {
     "name": "stdout",
     "output_type": "stream",
     "text": [
      "The r-value is : 0.24\n",
      "y = 0.3x + 77.63\n"
     ]
    },
    {
     "data": {
      "image/png": "[encoded data removed]",
      "text/plain": [
       "<Figure size 432x288 with 1 Axes>"
      ]
     },
     "metadata": {
      "needs_background": "light"
     },
     "output_type": "display_data"
    }
   ],
   "source": [
    "# Equation for liniar\n",
    "equation = linear_agression(southern_hemisphere[\"Lat\"],southern_hemisphere[\"Humidity\"])\n",
    "print(equation)\n",
    "# annotating \n",
    "annotate(equation, -40, 50)\n",
    "\n",
    "# Title\n",
    "plt.title(\"Southern Hemisphere - Humidity (%) vs. Latitude Linear Regression\")\n",
    "\n",
    "# X-label\n",
    "plt.xlabel(\"Latitude\")\n",
    "\n",
    "# Y-label\n",
    "plt.ylabel(\"Humidity (%)\")\n",
    "\n",
    "# Save the figure\n",
    "plt.savefig(\"Images/Southern Hemisphere - Max Temp vs. Latitude Linear Regression.png\")"
   ]
  },
  {
   "cell_type": "markdown",
   "metadata": {},
   "source": [
    "There is a positive correlation between the latitude and Humidity for the Southern Hemisphere"
   ]
  },
  {
   "cell_type": "markdown",
   "metadata": {},
   "source": [
    "####  Northern Hemisphere - Cloudiness (%) vs. Latitude Linear Regression"
   ]
  },
  {
   "cell_type": "code",
   "execution_count": 56,
   "metadata": {},
   "outputs": [
    {
     "name": "stdout",
     "output_type": "stream",
     "text": [
      "The r-value is : 0.21\n",
      "y = 0.44x + 37.47\n"
     ]
    },
    {
     "data": {
      "image/png": "[encoded data removed]",
      "text/plain": [
       "<Figure size 432x288 with 1 Axes>"
      ]
     },
     "metadata": {
      "needs_background": "light"
     },
     "output_type": "display_data"
    }
   ],
   "source": [
    "# Equation for liniar\n",
    "equation = linear_agression(northern_hemisphere[\"Lat\"], northern_hemisphere[\"Cloudiness\"])\n",
    "print(equation)\n",
    "# annotating \n",
    "annotate(equation, 30, 40)\n",
    "\n",
    "# Title\n",
    "plt.title(\"Northern Hemisphere - Cloudiness (%) vs. Latitude Linear Regression\")\n",
    "\n",
    "# X-label\n",
    "plt.xlabel(\"Latitude\")\n",
    "\n",
    "# Y-label\n",
    "plt.ylabel(\"Cloudiness (%)\")\n",
    "\n",
    "# Save the figure\n",
    "plt.savefig(\"Images/Northern Hemisphere - Cloudiness (%) vs. Latitude Linear Regression.png\")"
   ]
  },
  {
   "cell_type": "markdown",
   "metadata": {},
   "source": [
    "There is a positive correlation between the latitude and Cloudiness for the Northern Hemisphere"
   ]
  },
  {
   "cell_type": "markdown",
   "metadata": {},
   "source": [
    "####  Southern Hemisphere - Cloudiness (%) vs. Latitude Linear Regression"
   ]
  },
  {
   "cell_type": "code",
   "execution_count": 57,
   "metadata": {},
   "outputs": [
    {
     "name": "stdout",
     "output_type": "stream",
     "text": [
      "The r-value is : 0.04\n",
      "y = 0.1x + 54.44\n"
     ]
    },
    {
     "data": {
      "image/png": "[encoded data removed]",
      "text/plain": [
       "<Figure size 432x288 with 1 Axes>"
      ]
     },
     "metadata": {
      "needs_background": "light"
     },
     "output_type": "display_data"
    }
   ],
   "source": [
    "# Equation for liniar\n",
    "equation = linear_agression(southern_hemisphere[\"Lat\"],southern_hemisphere[\"Cloudiness\"])\n",
    "print(equation)\n",
    "# annotating \n",
    "annotate(equation, -30, 50)\n",
    "\n",
    "# Title\n",
    "plt.title(\"Southern Hemisphere - Cloudiness (%) vs. Latitude Linear Regression\")\n",
    "\n",
    "# X-label\n",
    "plt.xlabel(\"Latitude\")\n",
    "\n",
    "# Y-label\n",
    "plt.ylabel(\"Cloudiness (%)\")\n",
    "\n",
    "# Save the figure\n",
    "plt.savefig(\"Images/Southern Hemisphere - Cloudiness (%) vs. Latitude Linear Regression.png\")"
   ]
  },
  {
   "cell_type": "markdown",
   "metadata": {},
   "source": [
    "There is a positive correlation between the latitude and Cloudiness for the Southern Hemisphere"
   ]
  },
  {
   "cell_type": "markdown",
   "metadata": {},
   "source": [
    "####  Northern Hemisphere - Wind Speed (mph) vs. Latitude Linear Regression"
   ]
  },
  {
   "cell_type": "code",
   "execution_count": 58,
   "metadata": {},
   "outputs": [
    {
     "name": "stdout",
     "output_type": "stream",
     "text": [
      "The r-value is : 0.15\n",
      "y = 0.04x + 5.39\n"
     ]
    },
    {
     "data": {
      "image/png": "[encoded data removed]",
      "text/plain": [
       "<Figure size 432x288 with 1 Axes>"
      ]
     },
     "metadata": {
      "needs_background": "light"
     },
     "output_type": "display_data"
    }
   ],
   "source": [
    "# Equation for liniar\n",
    "equation = linear_agression(northern_hemisphere[\"Lat\"], northern_hemisphere[\"Wind Speed\"])\n",
    "print(equation)\n",
    "# annotating \n",
    "annotate(equation, 40, 20)\n",
    "\n",
    "# Title\n",
    "plt.title(\"Northern Hemisphere - Wind Speed (mph) vs. Latitude Linear Regression\")\n",
    "\n",
    "# X-label\n",
    "plt.xlabel(\"Latitude\")\n",
    "\n",
    "# Y-label\n",
    "plt.ylabel(\"Wind Speed (mph)\")\n",
    "\n",
    "# Save the figure\n",
    "plt.savefig(\"Images/Northern Hemisphere - Wind Speed vs. Latitude Linear Regression.png\")"
   ]
  },
  {
   "cell_type": "markdown",
   "metadata": {},
   "source": [
    "There is a barely any positive correlation between the latitude and windspeed for the Northern Hemisphere"
   ]
  },
  {
   "cell_type": "markdown",
   "metadata": {},
   "source": [
    "####  Southern Hemisphere - Wind Speed (mph) vs. Latitude Linear Regression"
   ]
  },
  {
   "cell_type": "code",
   "execution_count": 90,
   "metadata": {},
   "outputs": [
    {
     "name": "stdout",
     "output_type": "stream",
     "text": [
      "The r-value is : -0.2\n",
      "y = -0.08x + 6.09\n"
     ]
    },
    {
     "data": {
      "image/png": "[encoded data removed]",
      "text/plain": [
       "<Figure size 432x288 with 1 Axes>"
      ]
     },
     "metadata": {
      "needs_background": "light"
     },
     "output_type": "display_data"
    }
   ],
   "source": [
    "# Equation for liniar\n",
    "equation = linear_agression(southern_hemisphere[\"Lat\"],southern_hemisphere[\"Wind Speed\"])\n",
    "print(equation)\n",
    "# annotating \n",
    "annotate(equation, -30, 15)\n",
    "\n",
    "# Title\n",
    "plt.title(\"Southern Hemisphere - Wind Speed (mph) vs. Latitude Linear Regression\")\n",
    "\n",
    "# X-label\n",
    "plt.xlabel(\"Latitude\")\n",
    "\n",
    "# Y-label\n",
    "plt.ylabel(\"Wind Speed (mph)\")\n",
    "\n",
    "# Save the figure\n",
    "plt.savefig(\"Images/Southern Hemisphere - Wind Speed vs. Latitude Linear Regression.png\")"
   ]
  },
  {
   "cell_type": "markdown",
   "metadata": {},
   "source": [
    "There is a veri minimal negative correlation between the latitude and windspeed for the Southern Hemisphere"
   ]
  },
  {
   "cell_type": "code",
   "execution_count": null,
   "metadata": {},
   "outputs": [],
   "source": []
  }
 ],
 "metadata": {
  "anaconda-cloud": {},
  "kernel_info": {
   "name": "python3"
  },
  "kernelspec": {
   "display_name": "Python 3",
   "language": "python",
   "name": "python3"
  },
  "language_info": {
   "codemirror_mode": {
    "name": "ipython",
    "version": 3
   },
   "file_extension": ".py",
   "mimetype": "text/x-python",
   "name": "python",
   "nbconvert_exporter": "python",
   "pygments_lexer": "ipython3",
   "version": "3.6.12"
  },
  "latex_envs": {
   "LaTeX_envs_menu_present": true,
   "autoclose": false,
   "autocomplete": true,
   "bibliofile": "biblio.bib",
   "cite_by": "apalike",
   "current_citInitial": 1,
   "eqLabelWithNumbers": true,
   "eqNumInitial": 1,
   "hotkeys": {
    "equation": "Ctrl-E",
    "itemize": "Ctrl-I"
   },
   "labels_anchors": false,
   "latex_user_defs": false,
   "report_style_numbering": false,
   "user_envs_cfg": false
  },
  "nteract": {
   "version": "0.12.3"
  }
 },
 "nbformat": 4,
 "nbformat_minor": 2
}
