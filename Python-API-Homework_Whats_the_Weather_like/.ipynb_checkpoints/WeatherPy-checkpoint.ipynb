{
 "cells": [
  {
   "cell_type": "markdown",
   "metadata": {},
   "source": [
    "# WeatherPy\n",
    "----\n",
    "\n",
    "#### Note\n",
    "* Instructions have been included for each segment. You do not have to follow them exactly, but they are included to help you think through the steps."
   ]
  },
  {
   "cell_type": "code",
   "execution_count": 5,
   "metadata": {},
   "outputs": [
    {
     "name": "stdout",
     "output_type": "stream",
     "text": [
      "Collecting citipy\n",
      "  Downloading citipy-0.0.5.tar.gz (557 kB)\n",
      "Collecting kdtree>=0.12\n",
      "  Downloading kdtree-0.16-py2.py3-none-any.whl (7.7 kB)\n",
      "Building wheels for collected packages: citipy\n",
      "  Building wheel for citipy (setup.py): started\n",
      "  Building wheel for citipy (setup.py): finished with status 'done'\n",
      "  Created wheel for citipy: filename=citipy-0.0.5-py3-none-any.whl size=559704 sha256=483996b5bc316de14ae56ca8872ecb87af1c68ab4ce300fcd127e18c4e24bfa2\n",
      "  Stored in directory: c:\\users\\seraf\\appdata\\local\\pip\\cache\\wheels\\eb\\07\\14\\1c448d9fabf3aceac66270933ecae15693974a1b7f91266841\n",
      "Successfully built citipy\n",
      "Installing collected packages: kdtree, citipy\n",
      "Successfully installed citipy-0.0.5 kdtree-0.16\n",
      "Note: you may need to restart the kernel to use updated packages.\n"
     ]
    },
    {
     "name": "stderr",
     "output_type": "stream",
     "text": [
      "WARNING: You are using pip version 20.2.3; however, version 20.2.4 is available.\n",
      "You should consider upgrading via the 'C:\\Users\\seraf\\anaconda3\\envs\\PythonData\\python.exe -m pip install --upgrade pip' command.\n"
     ]
    }
   ],
   "source": [
    "#installing citipy\n",
    "pip install citipy"
   ]
  },
  {
   "cell_type": "code",
   "execution_count": null,
   "metadata": {},
   "outputs": [],
   "source": []
  },
  {
   "cell_type": "code",
   "execution_count": 54,
   "metadata": {
    "scrolled": true
   },
   "outputs": [],
   "source": [
    "# imports and setups\n",
    "import matplotlib.pyplot as plt\n",
    "import pandas as pd\n",
    "import numpy as np\n",
    "import requests\n",
    "import time\n",
    "import json\n",
    "import csv\n",
    "from scipy import stats\n",
    "from scipy.stats import linregress\n",
    "from datetime import date\n",
    "import scipy.stats as st\n",
    "\n",
    "# Import API key\n",
    "from api_keys import weather_api_key\n",
    "from citipy import citipy\n",
    "\n",
    "#output\n",
    "output_data_file = \"Output_Data/cities.csv\"\n",
    "\n",
    "#Ranges\n",
    "lat_range = (-90, 90)\n",
    "lng_range = (-180, 180)"
   ]
  },
  {
   "cell_type": "markdown",
   "metadata": {},
   "source": [
    "## Generate Cities List"
   ]
  },
  {
   "cell_type": "code",
   "execution_count": 26,
   "metadata": {},
   "outputs": [
    {
     "name": "stdout",
     "output_type": "stream",
     "text": [
      "['shingu', 'ponta do sol', 'cherskiy', 'nikolskoye', 'kruisfontein', 'port alfred', 'naze', 'lebu', 'cidreira', 'puerto ayora', 'busselton', 'mandan', 'rikitea', 'aklavik', 'genhe', 'ushuaia', 'college', 'saint-philippe', 'alice springs', 'handan', 'chokurdakh', 'mys shmidta', 'marawi', 'adrar', 'biak', 'sitka', 'severo-kurilsk', 'taolanaro', 'bredasdorp', 'mataura', 'sentyabrskiy', 'albany', 'hermanus', 'jamestown', 'faanui', 'iracoubo', 'butaritari', 'moose factory', 'vaini', 'svetlyy', 'ambilobe', 'pevek', 'castro', 'ubala', 'isangel', 'barrow', 'riom', 'fairbanks', 'thompson', 'pio xii', 'leningradskiy', 'ancud', 'gimli', 'santa cruz', 'ruyigi', 'golyshmanovo', 'cape town', 'iqaluit', 'bagdarin', 'saskylakh', 'mar del plata', 'hobart', 'poronaysk', 'belushya guba', 'riyadh', 'clovis', 'tuktoyaktuk', 'jiaojiang', 'mosetse', 'airai', 'carnarvon', 'esperance', 'alofi', 'san patricio', 'chifeng', 'hervey bay', 'aniva', 'nanortalik', 'luanda', 'reconquista', 'grand river south east', 'darhan', 'illoqqortoormiut', 'lagarto', 'victoria', 'nanhai', 'new norfolk', 'pangody', 'qaanaaq', 'lagoa', 'tura', 'nizhneyansk', 'rokytne', 'amderma', 'atuona', 'kavaratti', 'cockburn town', 'panji', 'kaharlyk', 'aykhal', 'auki', 'karaton', 'bethel', 'saint george', 'enumclaw', 'el cope', 'hovd', 'sao filipe', 'coihaique', 'leh', 'kapaa', 'mao', 'maniitsoq', 'tuggurt', 'kavieng', 'guerrero negro', 'trapani', 'pemangkat', 'nishihara', 'te anau', 'mogadishu', 'arraial do cabo', 'lompoc', 'khatanga', 'filadelfia', 'nguru', 'bolsheustikinskoye', 'dunedin', 'bluff', 'kharp', 'clyde river', 'sao joao da barra', 'avarua', 'vidim', 'san policarpo', 'ponta delgada', 'faya', 'santa isabel', 'mattru', 'tabas', 'muroto', 'jabiru', 'hurghada', 'aksaray', 'belaya gora', 'atasu', 'san luis', 'arlit', 'takestan', 'labuhan', 'bonoua', 'coahuayana', 'punta arenas', 'katsuura', 'port hardy', 'souillac', 'utiroa', 'zhigansk', 'constitucion', 'port moresby', 'morondava', 'tucupita', 'chilakalurupet', 'mahanoro', 'olafsvik', 'payo', 'coquimbo', 'lavumisa', 'comodoro rivadavia', 'srednekolymsk', 'inderborskiy', 'evensk', 'georgetown', 'maxixe', 'dikson', 'narsaq', 'laguna', 'tiarei', 'rawson', 'aswan', 'hasaki', 'camp verde', 'poum', 'ilulissat', 'lolua', 'benguela', 'chota', 'bengkulu', 'inirida', 'santarem', 'pouebo', 'mayahi', 'sukhinichi', 'sambava', 'ribeira grande', 'tuatapere', 'torbay', 'shimoda', 'simpsonville', 'belonia', 'ginir', 'hilo', 'san jeronimo', 'bago', 'saldanha', 'kodiak', 'didwana', 'provideniya', 'cine', 'louisbourg', 'mahebourg', 'tiksi', 'yellowknife', 'bertoua', 'chuy', 'okha', 'aflu', 'saleaula', 'hofn', 'esso', 'la gomera', 'brooks', 'waddan', 'katakwi', 'khonuu', 'surt', 'pisco', 'tarauaca', 'port elizabeth', 'baboua', 'chase', 'gizo', 'longyearbyen', 'sembakung', 'sorong', 'comarapa', 'beringovskiy', 'bambanglipuro', 'fort smith', 'inta', 'port lincoln', 'araripe', 'byron bay', 'ilheus', 'tilichiki', 'marsaxlokk', 'mirnyy', 'vaitupu', 'kanigoro', 'tasiilaq', 'pesochnoye', 'vostok', 'sioux lookout', 'san enrique', 'topeka', 'noumea', 'macusani', 'bemidji', 'kuybyshevo', 'gravdal', 'gangotri', 'waingapu', 'vangaindrano', 'lodja', 'gold coast', 'eberbach', 'samusu', 'hereford', 'salalah', 'saint-joseph', 'itamaraca', 'smithers', 'dhidhdhoo', 'dunmore town', 'aljezur', 'port blair', 'buchanan', 'san cristobal', 'roald', 'baswa', 'linxia', 'ahipara', 'vardo', 'la paz', 'kotelnich', 'eldorado', 'moron', 'necochea', 'stephenville', 'port keats', 'presidencia roque saenz pena', 'cuamba', 'sandovo', 'batagay', 'tricase', 'makasar', 'velsk', 'astoria', 'nenjiang', 'upernavik', 'rocha', 'galgani', 'forestville', 'mercedes', 'flinders', 'dickinson', 'taltal', 'berlevag', 'belmonte', 'umzimvubu', 'sussex', 'tumannyy', 'paracatu', 'ibotirama', 'puerto madryn', 'tumut', 'viligili', 'nizhniy tsasuchey', 'sakakah', 'la ronge', 'polewali', 'krasnoselkup', 'colquechaca', 'la rioja', 'moree', 'marcona', 'doha', 'saint-pierre', 'manaure', 'fort nelson', 'salta', 'baculin', 'saint-francois', 'vila franca do campo', 'merauke', 'candawaga', 'fredericksburg', 'hambantota', 'hami', 'todos santos', 'kahului', 'uyuni', 'tecoanapa', 'igbo ora', 'halifax', 'kaitangata', 'nuuk', 'holme', 'beipiao', 'pangnirtung', 'biltine', 'tomatlan', 'barentsburg', 'nalut', 'morgan city', 'ntoum', 'east london', 'margate', 'mitchell', 'tsihombe', 'otane', 'port-gentil', 'lexington', 'paita', 'klaksvik', 'ostrovnoy', 'verkhnyaya inta', 'krasnyy chikoy', 'bonga', 'shunyi', 'cockburn harbour', 'santa marta', 'altay', 'balakirevo', 'zalantun', 'finschhafen', 'touros', 'guelengdeng', 'goroka', 'cabo rojo', 'mayo', 'shagonar', 'saint anthony', 'saryshagan', 'bubaque', 'cotonou', 'yulara', 'port hedland', 'hithadhoo', 'fare', 'maragogi', 'brainerd', 'isla mujeres', 'puerto narino', 'veraval', 'ust-kuyga', 'codrington', 'los llanos de aridane', 'husavik', 'honningsvag', 'okhotsk', 'vestmannaeyjar', 'tayud', 'carutapera', 'lasa', 'rio grande', 'leshukonskoye', 'udachnyy', 'kinshasa', 'yumen', 'kapoeta', 'dalvik', 'kloulklubed', 'charters towers', 'korla', 'bathsheba', 'bonavista', 'dingle', 'hit', 'bogovarovo', 'lamar', 'morgaushi', 'cascais', 'mufulira', 'porto santo', 'cayambe', 'russell', 'san juan del sur', 'slave lake', 'hihya', 'nacala', 'salvador', 'caravelas', 'cabo san lucas', 'velyka oleksandrivka', 'mehamn', 'edd', 'venice', 'camacha', 'grand gaube', 'volodarka', 'roma', 'bongor', 'huarmey', 'namibe', 'teknaf', 'luderitz', 'itupiranga', 'ewo', 'anadyr', 'lavrentiya', 'grindavik', 'falam', 'zaraza', 'qujing', 'antonovo', 'peniche', 'dolinsk', 'hirado', 'gap', 'myingyan', 'pacific grove', 'la peca', 'sennan', 'ust-uda', 'semey', 'sabang', 'conceicao do araguaia', 'attawapiskat', 'eureka', 'broken hill', 'bambous virieux', 'tecolutla', 'iranshahr', 'amga', 'puerto pinasco', 'ishigaki', 'san quintin', 'karoti', 'talnakh', 'kirgiz-miyaki', 'molina', 'vila velha', 'pestyaki', 'iglesias', 'verin', 'bayir', 'saint-gaudens', 'burnie', 'kez', 'ayagoz', 'santos dumont', 'boa vista', 'bayanday', 'abapo', 'solano', 'bahia blanca', 'zenzeli', 'serendah', 'dondo', 'tautira', 'fuerte olimpo', 'yeletskiy', 'hamilton', 'revelstoke', 'kysyl-syr', 'emerald', 'marsh harbour', 'oussouye', 'sukhobezvodnoye', 'guane', 'weihe', 'kalianget', 'iralaya', 'geraldton', 'inhambane', 'bontang', 'saint-georges', 'haines junction', 'ciudad bolivar', 'zhenlai', 'yangambi', 'shaunavon', 'baijiantan', 'dhamtari', 'ambodifototra', 'lamu', 'chapeco', 'kadykchan', 'kulhudhuffushi', 'fortuna', 'puerto cabello', 'ushtobe', 'turukhansk', 'imbituba', 'suez', 'syamzha', 'mount isa', 'artyk', 'edson', 'lima', 'ust-maya', 'vanimo', 'watertown', 'gasa', 'wampusirpi', 'monchegorsk', 'karratha', 'havre-saint-pierre', 'odweyne', 'miri', 'tanggu', 'oktyabrskoye', 'tazovskiy', 'lorengau', 'uige', 'rosetta', 'ruidoso', 'iquique', 'zabol', 'qui nhon', 'musoma', 'loveland', 'umea', 'bellevue', 'safford', 'talara', 'ruian', 'juegang', 'manokwari', 'atalaia', 'jacareacanga', 'grants', 'strazske', 'nemuro', 'bargal', 'bay roberts', 'severnoye', 'rio gallegos', 'northam', 'seddon', 'rognan', 'corner brook', 'bachatskiy', 'palabuhanratu', 'camrose', 'khor', 'lerwick', 'amuntai', 'malanje', 'jalu', 'sandy bay', 'gilbues', 'fukue', 'mastung', 'havoysund', 'barcelos', 'mirabad', 'bilibino', 'tungkang', 'praia da vitoria', 'avera', 'maumere', 'batticaloa', 'henties bay', 'front royal', 'mallaig', 'corowa', 'abha']\n"
     ]
    },
    {
     "data": {
      "text/plain": [
       "609"
      ]
     },
     "execution_count": 26,
     "metadata": {},
     "output_type": "execute_result"
    }
   ],
   "source": [
    "# List for holding lat_lngs and cities\n",
    "lat_lngs = []\n",
    "cities = []\n",
    "\n",
    "# Create a set of random lat and lng combinations\n",
    "lats = np.random.uniform(lat_range[0], lat_range[1], size=1500)\n",
    "lngs = np.random.uniform(lng_range[0], lng_range[1], size=1500)\n",
    "lat_lngs = zip(lats, lngs)\n",
    "\n",
    "# Identify nearest city for each lat, lng combination\n",
    "for lat_lng in lat_lngs:\n",
    "    city = citipy.nearest_city(lat_lng[0], lat_lng[1]).city_name\n",
    "    \n",
    "    # If the city is unique, then add it to a our cities list\n",
    "    if city not in cities:\n",
    "        cities.append(city)     \n",
    "# Print the city count to confirm sufficient count\n",
    "print(cities)\n",
    "len(cities)"
   ]
  },
  {
   "cell_type": "markdown",
   "metadata": {},
   "source": [
    "### Perform API Calls\n",
    "* Perform a weather check on each city using a series of successive API calls.\n",
    "* Include a print log of each city as it'sbeing processed (with the city number and city name).\n"
   ]
  },
  {
   "cell_type": "code",
   "execution_count": 27,
   "metadata": {},
   "outputs": [],
   "source": [
    "# save url information\n",
    "url = \"http://api.openweathermap.org/data/2.5/weather?\"\n",
    "units = \"imperial\"\n",
    "\n",
    "# build partial query URL\n",
    "query_url = f\"{url}appid={weather_api_key}&units={units}&q=\""
   ]
  },
  {
   "cell_type": "code",
   "execution_count": 28,
   "metadata": {},
   "outputs": [],
   "source": [
    "# create list to hold data\n",
    "city_name_list = []\n",
    "cloudiness_list = []\n",
    "country_list = []\n",
    "date_list = []\n",
    "humidity_list = []\n",
    "lat_list = []\n",
    "lng_list = []\n",
    "max_temp_list = []\n",
    "wind_speed_list = []\n",
    "index_counter = 0\n",
    "set_counter = 1"
   ]
  },
  {
   "cell_type": "code",
   "execution_count": 29,
   "metadata": {
    "scrolled": true
   },
   "outputs": [
    {
     "name": "stdout",
     "output_type": "stream",
     "text": [
      "Beginning Data Retrieval \n",
      "-----------------------------\n",
      "Processing Record 1 of Set 1 : shingu\n",
      "Processing Record 2 of Set 1 : ponta do sol\n",
      "Processing Record 3 of Set 1 : cherskiy\n",
      "Processing Record 4 of Set 1 : nikolskoye\n",
      "Processing Record 5 of Set 1 : kruisfontein\n",
      "Processing Record 6 of Set 1 : port alfred\n",
      "Processing Record 7 of Set 1 : naze\n",
      "Processing Record 8 of Set 1 : lebu\n",
      "Processing Record 9 of Set 1 : cidreira\n",
      "Processing Record 10 of Set 1 : puerto ayora\n",
      "Processing Record 11 of Set 1 : busselton\n",
      "Processing Record 12 of Set 1 : mandan\n",
      "Processing Record 13 of Set 1 : rikitea\n",
      "Processing Record 14 of Set 1 : aklavik\n",
      "Processing Record 15 of Set 1 : genhe\n",
      "Processing Record 16 of Set 1 : ushuaia\n",
      "Processing Record 17 of Set 1 : college\n",
      "Processing Record 18 of Set 1 : saint-philippe\n",
      "Processing Record 19 of Set 1 : alice springs\n",
      "Processing Record 20 of Set 1 : handan\n",
      "Processing Record 21 of Set 1 : chokurdakh\n",
      "City not found. Skipping...\n",
      "Processing Record 22 of Set 1 : marawi\n",
      "Processing Record 23 of Set 1 : adrar\n",
      "Processing Record 24 of Set 1 : biak\n",
      "Processing Record 25 of Set 1 : sitka\n",
      "Processing Record 26 of Set 1 : severo-kurilsk\n",
      "City not found. Skipping...\n",
      "Processing Record 27 of Set 1 : bredasdorp\n",
      "Processing Record 28 of Set 1 : mataura\n",
      "City not found. Skipping...\n",
      "Processing Record 29 of Set 1 : albany\n",
      "Processing Record 30 of Set 1 : hermanus\n",
      "Processing Record 31 of Set 1 : jamestown\n",
      "Processing Record 32 of Set 1 : faanui\n",
      "Processing Record 33 of Set 1 : iracoubo\n",
      "Processing Record 34 of Set 1 : butaritari\n",
      "Processing Record 35 of Set 1 : moose factory\n",
      "Processing Record 36 of Set 1 : vaini\n",
      "Processing Record 37 of Set 1 : svetlyy\n",
      "Processing Record 38 of Set 1 : ambilobe\n",
      "Processing Record 39 of Set 1 : pevek\n",
      "Processing Record 40 of Set 1 : castro\n",
      "Processing Record 41 of Set 1 : ubala\n",
      "Processing Record 42 of Set 1 : isangel\n",
      "Processing Record 43 of Set 1 : barrow\n",
      "Processing Record 44 of Set 1 : riom\n",
      "Processing Record 45 of Set 1 : fairbanks\n",
      "Processing Record 46 of Set 1 : thompson\n",
      "Processing Record 47 of Set 1 : pio xii\n",
      "Processing Record 48 of Set 1 : leningradskiy\n",
      "Processing Record 49 of Set 1 : ancud\n",
      "Processing Record 50 of Set 1 : gimli\n",
      "Processing Record 0 of Set 2 : santa cruz\n",
      "Processing Record 1 of Set 2 : ruyigi\n",
      "Processing Record 2 of Set 2 : golyshmanovo\n",
      "Processing Record 3 of Set 2 : cape town\n",
      "Processing Record 4 of Set 2 : iqaluit\n",
      "Processing Record 5 of Set 2 : bagdarin\n",
      "Processing Record 6 of Set 2 : saskylakh\n",
      "Processing Record 7 of Set 2 : mar del plata\n",
      "Processing Record 8 of Set 2 : hobart\n",
      "Processing Record 9 of Set 2 : poronaysk\n",
      "City not found. Skipping...\n",
      "Processing Record 10 of Set 2 : riyadh\n",
      "Processing Record 11 of Set 2 : clovis\n",
      "Processing Record 12 of Set 2 : tuktoyaktuk\n",
      "Processing Record 13 of Set 2 : jiaojiang\n",
      "Processing Record 14 of Set 2 : mosetse\n",
      "Processing Record 15 of Set 2 : airai\n",
      "Processing Record 16 of Set 2 : carnarvon\n",
      "Processing Record 17 of Set 2 : esperance\n",
      "Processing Record 18 of Set 2 : alofi\n",
      "Processing Record 19 of Set 2 : san patricio\n",
      "Processing Record 20 of Set 2 : chifeng\n",
      "Processing Record 21 of Set 2 : hervey bay\n",
      "Processing Record 22 of Set 2 : aniva\n",
      "Processing Record 23 of Set 2 : nanortalik\n",
      "Processing Record 24 of Set 2 : luanda\n",
      "Processing Record 25 of Set 2 : reconquista\n",
      "City not found. Skipping...\n",
      "Processing Record 26 of Set 2 : darhan\n",
      "City not found. Skipping...\n",
      "Processing Record 27 of Set 2 : lagarto\n",
      "Processing Record 28 of Set 2 : victoria\n",
      "Processing Record 29 of Set 2 : nanhai\n",
      "Processing Record 30 of Set 2 : new norfolk\n",
      "Processing Record 31 of Set 2 : pangody\n",
      "Processing Record 32 of Set 2 : qaanaaq\n",
      "Processing Record 33 of Set 2 : lagoa\n",
      "Processing Record 34 of Set 2 : tura\n",
      "City not found. Skipping...\n",
      "Processing Record 35 of Set 2 : rokytne\n",
      "City not found. Skipping...\n",
      "Processing Record 36 of Set 2 : atuona\n",
      "Processing Record 37 of Set 2 : kavaratti\n",
      "Processing Record 38 of Set 2 : cockburn town\n",
      "Processing Record 39 of Set 2 : panji\n",
      "Processing Record 40 of Set 2 : kaharlyk\n",
      "Processing Record 41 of Set 2 : aykhal\n",
      "Processing Record 42 of Set 2 : auki\n",
      "Processing Record 43 of Set 2 : karaton\n",
      "Processing Record 44 of Set 2 : bethel\n",
      "Processing Record 45 of Set 2 : saint george\n",
      "Processing Record 46 of Set 2 : enumclaw\n",
      "Processing Record 47 of Set 2 : el cope\n",
      "Processing Record 48 of Set 2 : hovd\n",
      "Processing Record 49 of Set 2 : sao filipe\n",
      "Processing Record 50 of Set 2 : coihaique\n",
      "Processing Record 0 of Set 3 : leh\n",
      "Processing Record 1 of Set 3 : kapaa\n",
      "Processing Record 2 of Set 3 : mao\n",
      "Processing Record 3 of Set 3 : maniitsoq\n",
      "City not found. Skipping...\n",
      "Processing Record 4 of Set 3 : kavieng\n",
      "Processing Record 5 of Set 3 : guerrero negro\n",
      "Processing Record 6 of Set 3 : trapani\n",
      "Processing Record 7 of Set 3 : pemangkat\n",
      "Processing Record 8 of Set 3 : nishihara\n",
      "Processing Record 9 of Set 3 : te anau\n",
      "Processing Record 10 of Set 3 : mogadishu\n",
      "Processing Record 11 of Set 3 : arraial do cabo\n",
      "Processing Record 12 of Set 3 : lompoc\n",
      "Processing Record 13 of Set 3 : khatanga\n",
      "Processing Record 14 of Set 3 : filadelfia\n",
      "Processing Record 15 of Set 3 : nguru\n",
      "City not found. Skipping...\n",
      "Processing Record 16 of Set 3 : dunedin\n",
      "Processing Record 17 of Set 3 : bluff\n",
      "Processing Record 18 of Set 3 : kharp\n",
      "Processing Record 19 of Set 3 : clyde river\n",
      "Processing Record 20 of Set 3 : sao joao da barra\n",
      "Processing Record 21 of Set 3 : avarua\n",
      "Processing Record 22 of Set 3 : vidim\n",
      "Processing Record 23 of Set 3 : san policarpo\n",
      "Processing Record 24 of Set 3 : ponta delgada\n",
      "Processing Record 25 of Set 3 : faya\n",
      "Processing Record 26 of Set 3 : santa isabel\n",
      "Processing Record 27 of Set 3 : mattru\n",
      "Processing Record 28 of Set 3 : tabas\n",
      "Processing Record 29 of Set 3 : muroto\n",
      "City not found. Skipping...\n",
      "Processing Record 30 of Set 3 : hurghada\n",
      "Processing Record 31 of Set 3 : aksaray\n",
      "Processing Record 32 of Set 3 : belaya gora\n",
      "Processing Record 33 of Set 3 : atasu\n",
      "Processing Record 34 of Set 3 : san luis\n",
      "Processing Record 35 of Set 3 : arlit\n",
      "Processing Record 36 of Set 3 : takestan\n",
      "Processing Record 37 of Set 3 : labuhan\n",
      "Processing Record 38 of Set 3 : bonoua\n",
      "Processing Record 39 of Set 3 : coahuayana\n",
      "Processing Record 40 of Set 3 : punta arenas\n",
      "Processing Record 41 of Set 3 : katsuura\n",
      "Processing Record 42 of Set 3 : port hardy\n",
      "Processing Record 43 of Set 3 : souillac\n",
      "City not found. Skipping...\n",
      "Processing Record 44 of Set 3 : zhigansk\n",
      "Processing Record 45 of Set 3 : constitucion\n",
      "Processing Record 46 of Set 3 : port moresby\n",
      "Processing Record 47 of Set 3 : morondava\n",
      "Processing Record 48 of Set 3 : tucupita\n",
      "Processing Record 49 of Set 3 : chilakalurupet\n",
      "Processing Record 50 of Set 3 : mahanoro\n",
      "Processing Record 0 of Set 4 : olafsvik\n",
      "Processing Record 1 of Set 4 : payo\n",
      "Processing Record 2 of Set 4 : coquimbo\n",
      "Processing Record 3 of Set 4 : lavumisa\n",
      "Processing Record 4 of Set 4 : comodoro rivadavia\n",
      "Processing Record 5 of Set 4 : srednekolymsk\n",
      "City not found. Skipping...\n",
      "Processing Record 6 of Set 4 : evensk\n",
      "Processing Record 7 of Set 4 : georgetown\n",
      "Processing Record 8 of Set 4 : maxixe\n",
      "Processing Record 9 of Set 4 : dikson\n",
      "Processing Record 10 of Set 4 : narsaq\n",
      "Processing Record 11 of Set 4 : laguna\n",
      "Processing Record 12 of Set 4 : tiarei\n",
      "Processing Record 13 of Set 4 : rawson\n",
      "Processing Record 14 of Set 4 : aswan\n",
      "Processing Record 15 of Set 4 : hasaki\n",
      "Processing Record 16 of Set 4 : camp verde\n",
      "Processing Record 17 of Set 4 : poum\n",
      "Processing Record 18 of Set 4 : ilulissat\n",
      "City not found. Skipping...\n",
      "Processing Record 19 of Set 4 : benguela\n",
      "Processing Record 20 of Set 4 : chota\n",
      "Processing Record 21 of Set 4 : bengkulu\n",
      "Processing Record 22 of Set 4 : inirida\n",
      "Processing Record 23 of Set 4 : santarem\n",
      "Processing Record 24 of Set 4 : pouebo\n",
      "Processing Record 25 of Set 4 : mayahi\n",
      "Processing Record 26 of Set 4 : sukhinichi\n",
      "Processing Record 27 of Set 4 : sambava\n",
      "Processing Record 28 of Set 4 : ribeira grande\n",
      "Processing Record 29 of Set 4 : tuatapere\n",
      "Processing Record 30 of Set 4 : torbay\n",
      "Processing Record 31 of Set 4 : shimoda\n",
      "Processing Record 32 of Set 4 : simpsonville\n",
      "Processing Record 33 of Set 4 : belonia\n",
      "Processing Record 34 of Set 4 : ginir\n",
      "Processing Record 35 of Set 4 : hilo\n",
      "Processing Record 36 of Set 4 : san jeronimo\n",
      "Processing Record 37 of Set 4 : bago\n",
      "Processing Record 38 of Set 4 : saldanha\n"
     ]
    },
    {
     "name": "stdout",
     "output_type": "stream",
     "text": [
      "Processing Record 39 of Set 4 : kodiak\n",
      "Processing Record 40 of Set 4 : didwana\n",
      "Processing Record 41 of Set 4 : provideniya\n",
      "Processing Record 42 of Set 4 : cine\n",
      "City not found. Skipping...\n",
      "Processing Record 43 of Set 4 : mahebourg\n",
      "Processing Record 44 of Set 4 : tiksi\n",
      "Processing Record 45 of Set 4 : yellowknife\n",
      "Processing Record 46 of Set 4 : bertoua\n",
      "Processing Record 47 of Set 4 : chuy\n",
      "Processing Record 48 of Set 4 : okha\n",
      "City not found. Skipping...\n",
      "City not found. Skipping...\n",
      "Processing Record 49 of Set 4 : hofn\n",
      "Processing Record 50 of Set 4 : esso\n",
      "Processing Record 0 of Set 5 : la gomera\n",
      "Processing Record 1 of Set 5 : brooks\n",
      "Processing Record 2 of Set 5 : waddan\n",
      "Processing Record 3 of Set 5 : katakwi\n",
      "City not found. Skipping...\n",
      "Processing Record 4 of Set 5 : surt\n",
      "Processing Record 5 of Set 5 : pisco\n",
      "Processing Record 6 of Set 5 : tarauaca\n",
      "Processing Record 7 of Set 5 : port elizabeth\n",
      "City not found. Skipping...\n",
      "Processing Record 8 of Set 5 : chase\n",
      "Processing Record 9 of Set 5 : gizo\n",
      "Processing Record 10 of Set 5 : longyearbyen\n",
      "Processing Record 11 of Set 5 : sembakung\n",
      "Processing Record 12 of Set 5 : sorong\n",
      "Processing Record 13 of Set 5 : comarapa\n",
      "Processing Record 14 of Set 5 : beringovskiy\n",
      "Processing Record 15 of Set 5 : bambanglipuro\n",
      "Processing Record 16 of Set 5 : fort smith\n",
      "Processing Record 17 of Set 5 : inta\n",
      "Processing Record 18 of Set 5 : port lincoln\n",
      "Processing Record 19 of Set 5 : araripe\n",
      "Processing Record 20 of Set 5 : byron bay\n",
      "Processing Record 21 of Set 5 : ilheus\n",
      "Processing Record 22 of Set 5 : tilichiki\n",
      "Processing Record 23 of Set 5 : marsaxlokk\n",
      "Processing Record 24 of Set 5 : mirnyy\n",
      "City not found. Skipping...\n",
      "Processing Record 25 of Set 5 : kanigoro\n",
      "Processing Record 26 of Set 5 : tasiilaq\n",
      "Processing Record 27 of Set 5 : pesochnoye\n",
      "Processing Record 28 of Set 5 : vostok\n",
      "Processing Record 29 of Set 5 : sioux lookout\n",
      "Processing Record 30 of Set 5 : san enrique\n",
      "Processing Record 31 of Set 5 : topeka\n",
      "Processing Record 32 of Set 5 : noumea\n",
      "Processing Record 33 of Set 5 : macusani\n",
      "Processing Record 34 of Set 5 : bemidji\n",
      "Processing Record 35 of Set 5 : kuybyshevo\n",
      "Processing Record 36 of Set 5 : gravdal\n",
      "City not found. Skipping...\n",
      "Processing Record 37 of Set 5 : waingapu\n",
      "Processing Record 38 of Set 5 : vangaindrano\n",
      "Processing Record 39 of Set 5 : lodja\n",
      "Processing Record 40 of Set 5 : gold coast\n",
      "Processing Record 41 of Set 5 : eberbach\n",
      "City not found. Skipping...\n",
      "Processing Record 42 of Set 5 : hereford\n",
      "Processing Record 43 of Set 5 : salalah\n",
      "Processing Record 44 of Set 5 : saint-joseph\n",
      "Processing Record 45 of Set 5 : itamaraca\n",
      "Processing Record 46 of Set 5 : smithers\n",
      "Processing Record 47 of Set 5 : dhidhdhoo\n",
      "Processing Record 48 of Set 5 : dunmore town\n",
      "Processing Record 49 of Set 5 : aljezur\n",
      "Processing Record 50 of Set 5 : port blair\n",
      "Processing Record 0 of Set 6 : buchanan\n",
      "Processing Record 1 of Set 6 : san cristobal\n",
      "Processing Record 2 of Set 6 : roald\n",
      "Processing Record 3 of Set 6 : baswa\n",
      "Processing Record 4 of Set 6 : linxia\n",
      "Processing Record 5 of Set 6 : ahipara\n",
      "Processing Record 6 of Set 6 : vardo\n",
      "Processing Record 7 of Set 6 : la paz\n",
      "Processing Record 8 of Set 6 : kotelnich\n",
      "Processing Record 9 of Set 6 : eldorado\n",
      "Processing Record 10 of Set 6 : moron\n",
      "Processing Record 11 of Set 6 : necochea\n",
      "Processing Record 12 of Set 6 : stephenville\n",
      "Processing Record 13 of Set 6 : port keats\n",
      "Processing Record 14 of Set 6 : presidencia roque saenz pena\n",
      "Processing Record 15 of Set 6 : cuamba\n",
      "Processing Record 16 of Set 6 : sandovo\n",
      "Processing Record 17 of Set 6 : batagay\n",
      "Processing Record 18 of Set 6 : tricase\n",
      "Processing Record 19 of Set 6 : makasar\n",
      "Processing Record 20 of Set 6 : velsk\n",
      "Processing Record 21 of Set 6 : astoria\n",
      "Processing Record 22 of Set 6 : nenjiang\n",
      "Processing Record 23 of Set 6 : upernavik\n",
      "Processing Record 24 of Set 6 : rocha\n",
      "City not found. Skipping...\n",
      "Processing Record 25 of Set 6 : forestville\n",
      "Processing Record 26 of Set 6 : mercedes\n",
      "Processing Record 27 of Set 6 : flinders\n",
      "Processing Record 28 of Set 6 : dickinson\n",
      "Processing Record 29 of Set 6 : taltal\n",
      "Processing Record 30 of Set 6 : berlevag\n",
      "Processing Record 31 of Set 6 : belmonte\n",
      "City not found. Skipping...\n",
      "Processing Record 32 of Set 6 : sussex\n",
      "City not found. Skipping...\n",
      "Processing Record 33 of Set 6 : paracatu\n",
      "Processing Record 34 of Set 6 : ibotirama\n",
      "Processing Record 35 of Set 6 : puerto madryn\n",
      "Processing Record 36 of Set 6 : tumut\n",
      "City not found. Skipping...\n",
      "Processing Record 37 of Set 6 : nizhniy tsasuchey\n",
      "Processing Record 38 of Set 6 : sakakah\n",
      "Processing Record 39 of Set 6 : la ronge\n",
      "Processing Record 40 of Set 6 : polewali\n",
      "Processing Record 41 of Set 6 : krasnoselkup\n",
      "Processing Record 42 of Set 6 : colquechaca\n",
      "Processing Record 43 of Set 6 : la rioja\n",
      "Processing Record 44 of Set 6 : moree\n",
      "City not found. Skipping...\n",
      "Processing Record 45 of Set 6 : doha\n",
      "Processing Record 46 of Set 6 : saint-pierre\n",
      "Processing Record 47 of Set 6 : manaure\n",
      "Processing Record 48 of Set 6 : fort nelson\n",
      "Processing Record 49 of Set 6 : salta\n",
      "Processing Record 50 of Set 6 : baculin\n",
      "Processing Record 0 of Set 7 : saint-francois\n",
      "Processing Record 1 of Set 7 : vila franca do campo\n",
      "Processing Record 2 of Set 7 : merauke\n",
      "City not found. Skipping...\n",
      "Processing Record 3 of Set 7 : fredericksburg\n",
      "Processing Record 4 of Set 7 : hambantota\n",
      "Processing Record 5 of Set 7 : hami\n",
      "Processing Record 6 of Set 7 : todos santos\n",
      "Processing Record 7 of Set 7 : kahului\n",
      "Processing Record 8 of Set 7 : uyuni\n",
      "Processing Record 9 of Set 7 : tecoanapa\n",
      "Processing Record 10 of Set 7 : igbo ora\n",
      "Processing Record 11 of Set 7 : halifax\n",
      "Processing Record 12 of Set 7 : kaitangata\n",
      "Processing Record 13 of Set 7 : nuuk\n",
      "Processing Record 14 of Set 7 : holme\n",
      "Processing Record 15 of Set 7 : beipiao\n",
      "Processing Record 16 of Set 7 : pangnirtung\n",
      "Processing Record 17 of Set 7 : biltine\n",
      "Processing Record 18 of Set 7 : tomatlan\n",
      "City not found. Skipping...\n",
      "Processing Record 19 of Set 7 : nalut\n",
      "Processing Record 20 of Set 7 : morgan city\n",
      "Processing Record 21 of Set 7 : ntoum\n",
      "Processing Record 22 of Set 7 : east london\n",
      "Processing Record 23 of Set 7 : margate\n",
      "Processing Record 24 of Set 7 : mitchell\n",
      "City not found. Skipping...\n",
      "Processing Record 25 of Set 7 : otane\n",
      "Processing Record 26 of Set 7 : port-gentil\n",
      "Processing Record 27 of Set 7 : lexington\n",
      "Processing Record 28 of Set 7 : paita\n",
      "Processing Record 29 of Set 7 : klaksvik\n",
      "Processing Record 30 of Set 7 : ostrovnoy\n",
      "Processing Record 31 of Set 7 : verkhnyaya inta\n",
      "Processing Record 32 of Set 7 : krasnyy chikoy\n",
      "Processing Record 33 of Set 7 : bonga\n",
      "Processing Record 34 of Set 7 : shunyi\n",
      "City not found. Skipping...\n",
      "Processing Record 35 of Set 7 : santa marta\n",
      "Processing Record 36 of Set 7 : altay\n",
      "Processing Record 37 of Set 7 : balakirevo\n",
      "Processing Record 38 of Set 7 : zalantun\n",
      "Processing Record 39 of Set 7 : finschhafen\n",
      "Processing Record 40 of Set 7 : touros\n",
      "City not found. Skipping...\n",
      "Processing Record 41 of Set 7 : goroka\n",
      "Processing Record 42 of Set 7 : cabo rojo\n",
      "Processing Record 43 of Set 7 : mayo\n",
      "Processing Record 44 of Set 7 : shagonar\n",
      "Processing Record 45 of Set 7 : saint anthony\n",
      "City not found. Skipping...\n",
      "Processing Record 46 of Set 7 : bubaque\n",
      "Processing Record 47 of Set 7 : cotonou\n",
      "Processing Record 48 of Set 7 : yulara\n",
      "Processing Record 49 of Set 7 : port hedland\n",
      "Processing Record 50 of Set 7 : hithadhoo\n",
      "Processing Record 0 of Set 8 : fare\n",
      "Processing Record 1 of Set 8 : maragogi\n",
      "Processing Record 2 of Set 8 : brainerd\n",
      "Processing Record 3 of Set 8 : isla mujeres\n",
      "Processing Record 4 of Set 8 : puerto narino\n",
      "Processing Record 5 of Set 8 : veraval\n",
      "Processing Record 6 of Set 8 : ust-kuyga\n",
      "Processing Record 7 of Set 8 : codrington\n",
      "Processing Record 8 of Set 8 : los llanos de aridane\n",
      "Processing Record 9 of Set 8 : husavik\n",
      "Processing Record 10 of Set 8 : honningsvag\n",
      "Processing Record 11 of Set 8 : okhotsk\n",
      "Processing Record 12 of Set 8 : vestmannaeyjar\n",
      "Processing Record 13 of Set 8 : tayud\n",
      "Processing Record 14 of Set 8 : carutapera\n",
      "Processing Record 15 of Set 8 : lasa\n",
      "Processing Record 16 of Set 8 : rio grande\n",
      "Processing Record 17 of Set 8 : leshukonskoye\n",
      "Processing Record 18 of Set 8 : udachnyy\n",
      "Processing Record 19 of Set 8 : kinshasa\n",
      "Processing Record 20 of Set 8 : yumen\n",
      "Processing Record 21 of Set 8 : kapoeta\n"
     ]
    },
    {
     "name": "stdout",
     "output_type": "stream",
     "text": [
      "Processing Record 22 of Set 8 : dalvik\n",
      "Processing Record 23 of Set 8 : kloulklubed\n",
      "Processing Record 24 of Set 8 : charters towers\n",
      "Processing Record 25 of Set 8 : korla\n",
      "Processing Record 26 of Set 8 : bathsheba\n",
      "Processing Record 27 of Set 8 : bonavista\n",
      "Processing Record 28 of Set 8 : dingle\n",
      "Processing Record 29 of Set 8 : hit\n",
      "Processing Record 30 of Set 8 : bogovarovo\n",
      "Processing Record 31 of Set 8 : lamar\n",
      "Processing Record 32 of Set 8 : morgaushi\n",
      "Processing Record 33 of Set 8 : cascais\n",
      "Processing Record 34 of Set 8 : mufulira\n",
      "Processing Record 35 of Set 8 : porto santo\n",
      "Processing Record 36 of Set 8 : cayambe\n",
      "Processing Record 37 of Set 8 : russell\n",
      "Processing Record 38 of Set 8 : san juan del sur\n",
      "Processing Record 39 of Set 8 : slave lake\n",
      "Processing Record 40 of Set 8 : hihya\n",
      "Processing Record 41 of Set 8 : nacala\n",
      "Processing Record 42 of Set 8 : salvador\n",
      "Processing Record 43 of Set 8 : caravelas\n",
      "Processing Record 44 of Set 8 : cabo san lucas\n",
      "Processing Record 45 of Set 8 : velyka oleksandrivka\n",
      "Processing Record 46 of Set 8 : mehamn\n",
      "Processing Record 47 of Set 8 : edd\n",
      "Processing Record 48 of Set 8 : venice\n",
      "Processing Record 49 of Set 8 : camacha\n",
      "Processing Record 50 of Set 8 : grand gaube\n",
      "Processing Record 0 of Set 9 : volodarka\n",
      "Processing Record 1 of Set 9 : roma\n",
      "Processing Record 2 of Set 9 : bongor\n",
      "Processing Record 3 of Set 9 : huarmey\n",
      "Processing Record 4 of Set 9 : namibe\n",
      "Processing Record 5 of Set 9 : teknaf\n",
      "Processing Record 6 of Set 9 : luderitz\n",
      "Processing Record 7 of Set 9 : itupiranga\n",
      "Processing Record 8 of Set 9 : ewo\n",
      "Processing Record 9 of Set 9 : anadyr\n",
      "Processing Record 10 of Set 9 : lavrentiya\n",
      "Processing Record 11 of Set 9 : grindavik\n",
      "Processing Record 12 of Set 9 : falam\n",
      "Processing Record 13 of Set 9 : zaraza\n",
      "Processing Record 14 of Set 9 : qujing\n",
      "Processing Record 15 of Set 9 : antonovo\n",
      "Processing Record 16 of Set 9 : peniche\n",
      "Processing Record 17 of Set 9 : dolinsk\n",
      "Processing Record 18 of Set 9 : hirado\n",
      "Processing Record 19 of Set 9 : gap\n",
      "Processing Record 20 of Set 9 : myingyan\n",
      "Processing Record 21 of Set 9 : pacific grove\n",
      "Processing Record 22 of Set 9 : la peca\n",
      "Processing Record 23 of Set 9 : sennan\n",
      "Processing Record 24 of Set 9 : ust-uda\n",
      "Processing Record 25 of Set 9 : semey\n",
      "Processing Record 26 of Set 9 : sabang\n",
      "Processing Record 27 of Set 9 : conceicao do araguaia\n",
      "City not found. Skipping...\n",
      "Processing Record 28 of Set 9 : eureka\n",
      "Processing Record 29 of Set 9 : broken hill\n",
      "Processing Record 30 of Set 9 : bambous virieux\n",
      "Processing Record 31 of Set 9 : tecolutla\n",
      "Processing Record 32 of Set 9 : iranshahr\n",
      "Processing Record 33 of Set 9 : amga\n",
      "City not found. Skipping...\n",
      "Processing Record 34 of Set 9 : ishigaki\n",
      "Processing Record 35 of Set 9 : san quintin\n",
      "Processing Record 36 of Set 9 : karoti\n",
      "Processing Record 37 of Set 9 : talnakh\n",
      "Processing Record 38 of Set 9 : kirgiz-miyaki\n",
      "Processing Record 39 of Set 9 : molina\n",
      "Processing Record 40 of Set 9 : vila velha\n",
      "Processing Record 41 of Set 9 : pestyaki\n",
      "Processing Record 42 of Set 9 : iglesias\n",
      "Processing Record 43 of Set 9 : verin\n",
      "Processing Record 44 of Set 9 : bayir\n",
      "Processing Record 45 of Set 9 : saint-gaudens\n",
      "Processing Record 46 of Set 9 : burnie\n",
      "Processing Record 47 of Set 9 : kez\n",
      "Processing Record 48 of Set 9 : ayagoz\n",
      "Processing Record 49 of Set 9 : santos dumont\n",
      "Processing Record 50 of Set 9 : boa vista\n",
      "Processing Record 0 of Set 10 : bayanday\n",
      "Processing Record 1 of Set 10 : abapo\n",
      "Processing Record 2 of Set 10 : solano\n",
      "Processing Record 3 of Set 10 : bahia blanca\n",
      "Processing Record 4 of Set 10 : zenzeli\n",
      "Processing Record 5 of Set 10 : serendah\n",
      "Processing Record 6 of Set 10 : dondo\n",
      "Processing Record 7 of Set 10 : tautira\n",
      "Processing Record 8 of Set 10 : fuerte olimpo\n",
      "City not found. Skipping...\n",
      "Processing Record 9 of Set 10 : hamilton\n",
      "Processing Record 10 of Set 10 : revelstoke\n",
      "Processing Record 11 of Set 10 : kysyl-syr\n",
      "Processing Record 12 of Set 10 : emerald\n",
      "Processing Record 13 of Set 10 : marsh harbour\n",
      "Processing Record 14 of Set 10 : oussouye\n",
      "Processing Record 15 of Set 10 : sukhobezvodnoye\n",
      "Processing Record 16 of Set 10 : guane\n",
      "Processing Record 17 of Set 10 : weihe\n",
      "Processing Record 18 of Set 10 : kalianget\n",
      "Processing Record 19 of Set 10 : iralaya\n",
      "Processing Record 20 of Set 10 : geraldton\n",
      "Processing Record 21 of Set 10 : inhambane\n",
      "Processing Record 22 of Set 10 : bontang\n",
      "Processing Record 23 of Set 10 : saint-georges\n",
      "Processing Record 24 of Set 10 : haines junction\n",
      "Processing Record 25 of Set 10 : ciudad bolivar\n",
      "Processing Record 26 of Set 10 : zhenlai\n",
      "Processing Record 27 of Set 10 : yangambi\n",
      "Processing Record 28 of Set 10 : shaunavon\n",
      "Processing Record 29 of Set 10 : baijiantan\n",
      "Processing Record 30 of Set 10 : dhamtari\n",
      "City not found. Skipping...\n",
      "Processing Record 31 of Set 10 : lamu\n",
      "Processing Record 32 of Set 10 : chapeco\n",
      "City not found. Skipping...\n",
      "Processing Record 33 of Set 10 : kulhudhuffushi\n",
      "Processing Record 34 of Set 10 : fortuna\n",
      "Processing Record 35 of Set 10 : puerto cabello\n",
      "Processing Record 36 of Set 10 : ushtobe\n",
      "Processing Record 37 of Set 10 : turukhansk\n",
      "Processing Record 38 of Set 10 : imbituba\n",
      "Processing Record 39 of Set 10 : suez\n",
      "Processing Record 40 of Set 10 : syamzha\n",
      "Processing Record 41 of Set 10 : mount isa\n",
      "City not found. Skipping...\n",
      "Processing Record 42 of Set 10 : edson\n",
      "Processing Record 43 of Set 10 : lima\n",
      "Processing Record 44 of Set 10 : ust-maya\n",
      "Processing Record 45 of Set 10 : vanimo\n",
      "Processing Record 46 of Set 10 : watertown\n",
      "Processing Record 47 of Set 10 : gasa\n",
      "City not found. Skipping...\n",
      "Processing Record 48 of Set 10 : monchegorsk\n",
      "Processing Record 49 of Set 10 : karratha\n",
      "Processing Record 50 of Set 10 : havre-saint-pierre\n",
      "Processing Record 0 of Set 11 : odweyne\n",
      "Processing Record 1 of Set 11 : miri\n",
      "Processing Record 2 of Set 11 : tanggu\n",
      "Processing Record 3 of Set 11 : oktyabrskoye\n",
      "Processing Record 4 of Set 11 : tazovskiy\n",
      "Processing Record 5 of Set 11 : lorengau\n",
      "Processing Record 6 of Set 11 : uige\n",
      "Processing Record 7 of Set 11 : rosetta\n",
      "Processing Record 8 of Set 11 : ruidoso\n",
      "Processing Record 9 of Set 11 : iquique\n",
      "Processing Record 10 of Set 11 : zabol\n",
      "Processing Record 11 of Set 11 : qui nhon\n",
      "Processing Record 12 of Set 11 : musoma\n",
      "Processing Record 13 of Set 11 : loveland\n",
      "Processing Record 14 of Set 11 : umea\n",
      "Processing Record 15 of Set 11 : bellevue\n",
      "Processing Record 16 of Set 11 : safford\n",
      "Processing Record 17 of Set 11 : talara\n",
      "City not found. Skipping...\n",
      "Processing Record 18 of Set 11 : juegang\n",
      "Processing Record 19 of Set 11 : manokwari\n",
      "Processing Record 20 of Set 11 : atalaia\n",
      "Processing Record 21 of Set 11 : jacareacanga\n",
      "Processing Record 22 of Set 11 : grants\n",
      "Processing Record 23 of Set 11 : strazske\n",
      "Processing Record 24 of Set 11 : nemuro\n",
      "City not found. Skipping...\n",
      "Processing Record 25 of Set 11 : bay roberts\n",
      "Processing Record 26 of Set 11 : severnoye\n",
      "Processing Record 27 of Set 11 : rio gallegos\n",
      "Processing Record 28 of Set 11 : northam\n",
      "Processing Record 29 of Set 11 : seddon\n",
      "Processing Record 30 of Set 11 : rognan\n",
      "Processing Record 31 of Set 11 : corner brook\n",
      "Processing Record 32 of Set 11 : bachatskiy\n",
      "City not found. Skipping...\n",
      "Processing Record 33 of Set 11 : camrose\n",
      "Processing Record 34 of Set 11 : khor\n",
      "Processing Record 35 of Set 11 : lerwick\n",
      "Processing Record 36 of Set 11 : amuntai\n",
      "Processing Record 37 of Set 11 : malanje\n",
      "Processing Record 38 of Set 11 : jalu\n",
      "Processing Record 39 of Set 11 : sandy bay\n",
      "Processing Record 40 of Set 11 : gilbues\n",
      "Processing Record 41 of Set 11 : fukue\n",
      "Processing Record 42 of Set 11 : mastung\n",
      "Processing Record 43 of Set 11 : havoysund\n",
      "Processing Record 44 of Set 11 : barcelos\n",
      "Processing Record 45 of Set 11 : mirabad\n",
      "Processing Record 46 of Set 11 : bilibino\n",
      "City not found. Skipping...\n",
      "Processing Record 47 of Set 11 : praia da vitoria\n",
      "Processing Record 48 of Set 11 : avera\n",
      "Processing Record 49 of Set 11 : maumere\n",
      "Processing Record 50 of Set 11 : batticaloa\n",
      "Processing Record 0 of Set 12 : henties bay\n",
      "Processing Record 1 of Set 12 : front royal\n",
      "Processing Record 2 of Set 12 : mallaig\n",
      "Processing Record 3 of Set 12 : corowa\n",
      "Processing Record 4 of Set 12 : abha\n",
      "-----------------------------\n",
      "Data Retrieval Complete\n",
      "-----------------------------\n"
     ]
    }
   ],
   "source": [
    "#Print\n",
    "print(\"Beginning Data Retrieval \")\n",
    "print(\"-----------------------------\")\n",
    "\n",
    "base_url = \"http://api.openweathermap.org/data/2.5/weather?\"\n",
    "units = \"imperial\"\n",
    "query_url = f\"{base_url}appid={weather_api_key}&units={units}&q=\"\n",
    "\n",
    "\n",
    "# For each city name in cities list, do below things...\n",
    "for index, city in enumerate(cities, start = 1):\n",
    "    try:\n",
    "        response = requests.get(query_url + city).json()\n",
    "        city_name_list.append(response[\"name\"])\n",
    "        cloudiness_list.append(response[\"clouds\"][\"all\"])\n",
    "        country_list.append(response[\"sys\"][\"country\"])\n",
    "        date_list.append(response[\"dt\"])\n",
    "        humidity_list.append(response[\"main\"][\"humidity\"])\n",
    "        lat_list.append(response[\"coord\"][\"lat\"])\n",
    "        lng_list.append(response[\"coord\"][\"lon\"])\n",
    "        max_temp_list.append(response['main']['temp_max'])\n",
    "        wind_speed_list.append(response[\"wind\"][\"speed\"])\n",
    "        if index_counter > 49:\n",
    "            index_counter = 0\n",
    "            set_counter = set_counter + 1\n",
    "    \n",
    "        else:\n",
    "            index_counter = index_counter + 1\n",
    "            \n",
    "        print(f\"Processing Record {index_counter} of Set {set_counter} : {city}\") \n",
    "  \n",
    "    except(KeyError, IndexError):\n",
    "        print(\"City not found. Skipping...\")\n",
    "\n",
    "print(\"-----------------------------\")\n",
    "print(\"Data Retrieval Complete\")\n",
    "print(\"-----------------------------\") "
   ]
  },
  {
   "cell_type": "markdown",
   "metadata": {},
   "source": [
    "### Convert Raw Data to DataFrame\n",
    "* Export the city data into a .csv.\n",
    "* Display the DataFrame"
   ]
  },
  {
   "cell_type": "code",
   "execution_count": 30,
   "metadata": {},
   "outputs": [],
   "source": [
    "#DataFrame\n",
    "weather_dict = pd.DataFrame({ \n",
    "                \"City\" : city_name_list,\n",
    "                \"Cloudiness\" : cloudiness_list,\n",
    "                \"Country\" : country_list,\n",
    "                \"Date\" : date_list,\n",
    "                \"Humidity\" : humidity_list,\n",
    "                \"Lat\" : lat_list,\n",
    "                \"Lng\" : lng_list,\n",
    "                \"Max Temp\" : max_temp_list,\n",
    "                \"Wind Speed\" : wind_speed_list\n",
    "})"
   ]
  },
  {
   "cell_type": "code",
   "execution_count": 32,
   "metadata": {},
   "outputs": [
    {
     "data": {
      "text/plain": [
       "City          565\n",
       "Cloudiness    565\n",
       "Country       565\n",
       "Date          565\n",
       "Humidity      565\n",
       "Lat           565\n",
       "Lng           565\n",
       "Max Temp      565\n",
       "Wind Speed    565\n",
       "dtype: int64"
      ]
     },
     "execution_count": 32,
     "metadata": {},
     "output_type": "execute_result"
    }
   ],
   "source": [
    "#count\n",
    "weather_dict.count()"
   ]
  },
  {
   "cell_type": "code",
   "execution_count": 33,
   "metadata": {},
   "outputs": [
    {
     "data": {
      "text/html": [
       "<div>\n",
       "<style scoped>\n",
       "    .dataframe tbody tr th:only-of-type {\n",
       "        vertical-align: middle;\n",
       "    }\n",
       "\n",
       "    .dataframe tbody tr th {\n",
       "        vertical-align: top;\n",
       "    }\n",
       "\n",
       "    .dataframe thead th {\n",
       "        text-align: right;\n",
       "    }\n",
       "</style>\n",
       "<table border=\"1\" class=\"dataframe\">\n",
       "  <thead>\n",
       "    <tr style=\"text-align: right;\">\n",
       "      <th></th>\n",
       "      <th>City</th>\n",
       "      <th>Cloudiness</th>\n",
       "      <th>Country</th>\n",
       "      <th>Date</th>\n",
       "      <th>Humidity</th>\n",
       "      <th>Lat</th>\n",
       "      <th>Lng</th>\n",
       "      <th>Max Temp</th>\n",
       "      <th>Wind Speed</th>\n",
       "    </tr>\n",
       "  </thead>\n",
       "  <tbody>\n",
       "    <tr>\n",
       "      <th>0</th>\n",
       "      <td>Shingū</td>\n",
       "      <td>75</td>\n",
       "      <td>JP</td>\n",
       "      <td>1603066873</td>\n",
       "      <td>87</td>\n",
       "      <td>33.73</td>\n",
       "      <td>135.98</td>\n",
       "      <td>60.80</td>\n",
       "      <td>2.24</td>\n",
       "    </tr>\n",
       "    <tr>\n",
       "      <th>1</th>\n",
       "      <td>Ponta do Sol</td>\n",
       "      <td>75</td>\n",
       "      <td>PT</td>\n",
       "      <td>1603066873</td>\n",
       "      <td>88</td>\n",
       "      <td>32.67</td>\n",
       "      <td>-17.10</td>\n",
       "      <td>73.40</td>\n",
       "      <td>29.97</td>\n",
       "    </tr>\n",
       "    <tr>\n",
       "      <th>2</th>\n",
       "      <td>Cherskiy</td>\n",
       "      <td>95</td>\n",
       "      <td>RU</td>\n",
       "      <td>1603066873</td>\n",
       "      <td>92</td>\n",
       "      <td>68.75</td>\n",
       "      <td>161.30</td>\n",
       "      <td>23.09</td>\n",
       "      <td>6.82</td>\n",
       "    </tr>\n",
       "    <tr>\n",
       "      <th>3</th>\n",
       "      <td>Nikolskoye</td>\n",
       "      <td>90</td>\n",
       "      <td>RU</td>\n",
       "      <td>1603066874</td>\n",
       "      <td>93</td>\n",
       "      <td>59.70</td>\n",
       "      <td>30.79</td>\n",
       "      <td>36.00</td>\n",
       "      <td>2.24</td>\n",
       "    </tr>\n",
       "    <tr>\n",
       "      <th>4</th>\n",
       "      <td>Kruisfontein</td>\n",
       "      <td>33</td>\n",
       "      <td>ZA</td>\n",
       "      <td>1603066874</td>\n",
       "      <td>90</td>\n",
       "      <td>-34.00</td>\n",
       "      <td>24.73</td>\n",
       "      <td>52.00</td>\n",
       "      <td>3.22</td>\n",
       "    </tr>\n",
       "  </tbody>\n",
       "</table>\n",
       "</div>"
      ],
      "text/plain": [
       "           City  Cloudiness Country        Date  Humidity    Lat     Lng  \\\n",
       "0        Shingū          75      JP  1603066873        87  33.73  135.98   \n",
       "1  Ponta do Sol          75      PT  1603066873        88  32.67  -17.10   \n",
       "2      Cherskiy          95      RU  1603066873        92  68.75  161.30   \n",
       "3    Nikolskoye          90      RU  1603066874        93  59.70   30.79   \n",
       "4  Kruisfontein          33      ZA  1603066874        90 -34.00   24.73   \n",
       "\n",
       "   Max Temp  Wind Speed  \n",
       "0     60.80        2.24  \n",
       "1     73.40       29.97  \n",
       "2     23.09        6.82  \n",
       "3     36.00        2.24  \n",
       "4     52.00        3.22  "
      ]
     },
     "execution_count": 33,
     "metadata": {},
     "output_type": "execute_result"
    }
   ],
   "source": [
    "#df print\n",
    "weather_dict.head()"
   ]
  },
  {
   "cell_type": "code",
   "execution_count": 36,
   "metadata": {},
   "outputs": [],
   "source": [
    "# Save city data into a csv file\n",
    "weather_dict.describe().to_csv(\"Output_Data/cities.csv\", index = False)"
   ]
  },
  {
   "cell_type": "code",
   "execution_count": 37,
   "metadata": {},
   "outputs": [
    {
     "data": {
      "text/html": [
       "<div>\n",
       "<style scoped>\n",
       "    .dataframe tbody tr th:only-of-type {\n",
       "        vertical-align: middle;\n",
       "    }\n",
       "\n",
       "    .dataframe tbody tr th {\n",
       "        vertical-align: top;\n",
       "    }\n",
       "\n",
       "    .dataframe thead th {\n",
       "        text-align: right;\n",
       "    }\n",
       "</style>\n",
       "<table border=\"1\" class=\"dataframe\">\n",
       "  <thead>\n",
       "    <tr style=\"text-align: right;\">\n",
       "      <th></th>\n",
       "      <th>Cloudiness</th>\n",
       "      <th>Date</th>\n",
       "      <th>Humidity</th>\n",
       "      <th>Lat</th>\n",
       "      <th>Lng</th>\n",
       "      <th>Max Temp</th>\n",
       "      <th>Wind Speed</th>\n",
       "    </tr>\n",
       "  </thead>\n",
       "  <tbody>\n",
       "    <tr>\n",
       "      <th>count</th>\n",
       "      <td>565.000000</td>\n",
       "      <td>5.650000e+02</td>\n",
       "      <td>565.000000</td>\n",
       "      <td>565.000000</td>\n",
       "      <td>565.000000</td>\n",
       "      <td>565.000000</td>\n",
       "      <td>565.000000</td>\n",
       "    </tr>\n",
       "    <tr>\n",
       "      <th>mean</th>\n",
       "      <td>54.191150</td>\n",
       "      <td>1.603067e+09</td>\n",
       "      <td>74.240708</td>\n",
       "      <td>19.361876</td>\n",
       "      <td>16.623646</td>\n",
       "      <td>59.281487</td>\n",
       "      <td>7.825752</td>\n",
       "    </tr>\n",
       "    <tr>\n",
       "      <th>std</th>\n",
       "      <td>37.623917</td>\n",
       "      <td>8.518757e+01</td>\n",
       "      <td>20.272228</td>\n",
       "      <td>33.808001</td>\n",
       "      <td>91.478244</td>\n",
       "      <td>20.513194</td>\n",
       "      <td>5.623196</td>\n",
       "    </tr>\n",
       "    <tr>\n",
       "      <th>min</th>\n",
       "      <td>0.000000</td>\n",
       "      <td>1.603066e+09</td>\n",
       "      <td>7.000000</td>\n",
       "      <td>-54.800000</td>\n",
       "      <td>-175.200000</td>\n",
       "      <td>6.690000</td>\n",
       "      <td>0.220000</td>\n",
       "    </tr>\n",
       "    <tr>\n",
       "      <th>25%</th>\n",
       "      <td>20.000000</td>\n",
       "      <td>1.603067e+09</td>\n",
       "      <td>66.000000</td>\n",
       "      <td>-8.840000</td>\n",
       "      <td>-65.710000</td>\n",
       "      <td>41.860000</td>\n",
       "      <td>3.440000</td>\n",
       "    </tr>\n",
       "    <tr>\n",
       "      <th>50%</th>\n",
       "      <td>63.000000</td>\n",
       "      <td>1.603067e+09</td>\n",
       "      <td>79.000000</td>\n",
       "      <td>24.690000</td>\n",
       "      <td>20.260000</td>\n",
       "      <td>63.900000</td>\n",
       "      <td>6.710000</td>\n",
       "    </tr>\n",
       "    <tr>\n",
       "      <th>75%</th>\n",
       "      <td>90.000000</td>\n",
       "      <td>1.603067e+09</td>\n",
       "      <td>89.000000</td>\n",
       "      <td>47.890000</td>\n",
       "      <td>103.110000</td>\n",
       "      <td>77.340000</td>\n",
       "      <td>10.290000</td>\n",
       "    </tr>\n",
       "    <tr>\n",
       "      <th>max</th>\n",
       "      <td>100.000000</td>\n",
       "      <td>1.603067e+09</td>\n",
       "      <td>100.000000</td>\n",
       "      <td>78.220000</td>\n",
       "      <td>179.320000</td>\n",
       "      <td>95.000000</td>\n",
       "      <td>44.960000</td>\n",
       "    </tr>\n",
       "  </tbody>\n",
       "</table>\n",
       "</div>"
      ],
      "text/plain": [
       "       Cloudiness          Date    Humidity         Lat         Lng  \\\n",
       "count  565.000000  5.650000e+02  565.000000  565.000000  565.000000   \n",
       "mean    54.191150  1.603067e+09   74.240708   19.361876   16.623646   \n",
       "std     37.623917  8.518757e+01   20.272228   33.808001   91.478244   \n",
       "min      0.000000  1.603066e+09    7.000000  -54.800000 -175.200000   \n",
       "25%     20.000000  1.603067e+09   66.000000   -8.840000  -65.710000   \n",
       "50%     63.000000  1.603067e+09   79.000000   24.690000   20.260000   \n",
       "75%     90.000000  1.603067e+09   89.000000   47.890000  103.110000   \n",
       "max    100.000000  1.603067e+09  100.000000   78.220000  179.320000   \n",
       "\n",
       "         Max Temp  Wind Speed  \n",
       "count  565.000000  565.000000  \n",
       "mean    59.281487    7.825752  \n",
       "std     20.513194    5.623196  \n",
       "min      6.690000    0.220000  \n",
       "25%     41.860000    3.440000  \n",
       "50%     63.900000    6.710000  \n",
       "75%     77.340000   10.290000  \n",
       "max     95.000000   44.960000  "
      ]
     },
     "execution_count": 37,
     "metadata": {},
     "output_type": "execute_result"
    }
   ],
   "source": [
    "weather_dict.describe()"
   ]
  },
  {
   "cell_type": "markdown",
   "metadata": {},
   "source": [
    "## Inspect the data and remove the cities where the humidity > 100%.\n",
    "----\n",
    "Skip this step if there are no cities that have humidity > 100%. "
   ]
  },
  {
   "cell_type": "code",
   "execution_count": 38,
   "metadata": {},
   "outputs": [
    {
     "data": {
      "text/html": [
       "<div>\n",
       "<style scoped>\n",
       "    .dataframe tbody tr th:only-of-type {\n",
       "        vertical-align: middle;\n",
       "    }\n",
       "\n",
       "    .dataframe tbody tr th {\n",
       "        vertical-align: top;\n",
       "    }\n",
       "\n",
       "    .dataframe thead th {\n",
       "        text-align: right;\n",
       "    }\n",
       "</style>\n",
       "<table border=\"1\" class=\"dataframe\">\n",
       "  <thead>\n",
       "    <tr style=\"text-align: right;\">\n",
       "      <th></th>\n",
       "      <th>Cloudiness</th>\n",
       "      <th>Date</th>\n",
       "      <th>Humidity</th>\n",
       "      <th>Lat</th>\n",
       "      <th>Lng</th>\n",
       "      <th>Max Temp</th>\n",
       "      <th>Wind Speed</th>\n",
       "    </tr>\n",
       "  </thead>\n",
       "  <tbody>\n",
       "    <tr>\n",
       "      <th>count</th>\n",
       "      <td>565.000000</td>\n",
       "      <td>5.650000e+02</td>\n",
       "      <td>565.000000</td>\n",
       "      <td>565.000000</td>\n",
       "      <td>565.000000</td>\n",
       "      <td>565.000000</td>\n",
       "      <td>565.000000</td>\n",
       "    </tr>\n",
       "    <tr>\n",
       "      <th>mean</th>\n",
       "      <td>54.191150</td>\n",
       "      <td>1.603067e+09</td>\n",
       "      <td>74.240708</td>\n",
       "      <td>19.361876</td>\n",
       "      <td>16.623646</td>\n",
       "      <td>59.281487</td>\n",
       "      <td>7.825752</td>\n",
       "    </tr>\n",
       "    <tr>\n",
       "      <th>std</th>\n",
       "      <td>37.623917</td>\n",
       "      <td>8.518757e+01</td>\n",
       "      <td>20.272228</td>\n",
       "      <td>33.808001</td>\n",
       "      <td>91.478244</td>\n",
       "      <td>20.513194</td>\n",
       "      <td>5.623196</td>\n",
       "    </tr>\n",
       "    <tr>\n",
       "      <th>min</th>\n",
       "      <td>0.000000</td>\n",
       "      <td>1.603066e+09</td>\n",
       "      <td>7.000000</td>\n",
       "      <td>-54.800000</td>\n",
       "      <td>-175.200000</td>\n",
       "      <td>6.690000</td>\n",
       "      <td>0.220000</td>\n",
       "    </tr>\n",
       "    <tr>\n",
       "      <th>25%</th>\n",
       "      <td>20.000000</td>\n",
       "      <td>1.603067e+09</td>\n",
       "      <td>66.000000</td>\n",
       "      <td>-8.840000</td>\n",
       "      <td>-65.710000</td>\n",
       "      <td>41.860000</td>\n",
       "      <td>3.440000</td>\n",
       "    </tr>\n",
       "    <tr>\n",
       "      <th>50%</th>\n",
       "      <td>63.000000</td>\n",
       "      <td>1.603067e+09</td>\n",
       "      <td>79.000000</td>\n",
       "      <td>24.690000</td>\n",
       "      <td>20.260000</td>\n",
       "      <td>63.900000</td>\n",
       "      <td>6.710000</td>\n",
       "    </tr>\n",
       "    <tr>\n",
       "      <th>75%</th>\n",
       "      <td>90.000000</td>\n",
       "      <td>1.603067e+09</td>\n",
       "      <td>89.000000</td>\n",
       "      <td>47.890000</td>\n",
       "      <td>103.110000</td>\n",
       "      <td>77.340000</td>\n",
       "      <td>10.290000</td>\n",
       "    </tr>\n",
       "    <tr>\n",
       "      <th>max</th>\n",
       "      <td>100.000000</td>\n",
       "      <td>1.603067e+09</td>\n",
       "      <td>100.000000</td>\n",
       "      <td>78.220000</td>\n",
       "      <td>179.320000</td>\n",
       "      <td>95.000000</td>\n",
       "      <td>44.960000</td>\n",
       "    </tr>\n",
       "  </tbody>\n",
       "</table>\n",
       "</div>"
      ],
      "text/plain": [
       "       Cloudiness          Date    Humidity         Lat         Lng  \\\n",
       "count  565.000000  5.650000e+02  565.000000  565.000000  565.000000   \n",
       "mean    54.191150  1.603067e+09   74.240708   19.361876   16.623646   \n",
       "std     37.623917  8.518757e+01   20.272228   33.808001   91.478244   \n",
       "min      0.000000  1.603066e+09    7.000000  -54.800000 -175.200000   \n",
       "25%     20.000000  1.603067e+09   66.000000   -8.840000  -65.710000   \n",
       "50%     63.000000  1.603067e+09   79.000000   24.690000   20.260000   \n",
       "75%     90.000000  1.603067e+09   89.000000   47.890000  103.110000   \n",
       "max    100.000000  1.603067e+09  100.000000   78.220000  179.320000   \n",
       "\n",
       "         Max Temp  Wind Speed  \n",
       "count  565.000000  565.000000  \n",
       "mean    59.281487    7.825752  \n",
       "std     20.513194    5.623196  \n",
       "min      6.690000    0.220000  \n",
       "25%     41.860000    3.440000  \n",
       "50%     63.900000    6.710000  \n",
       "75%     77.340000   10.290000  \n",
       "max     95.000000   44.960000  "
      ]
     },
     "execution_count": 38,
     "metadata": {},
     "output_type": "execute_result"
    }
   ],
   "source": [
    "weather_dict.describe()"
   ]
  },
  {
   "cell_type": "code",
   "execution_count": 39,
   "metadata": {},
   "outputs": [
    {
     "data": {
      "text/plain": [
       "Int64Index([], dtype='int64')"
      ]
     },
     "execution_count": 39,
     "metadata": {},
     "output_type": "execute_result"
    }
   ],
   "source": [
    "#  Get the indices of cities that have humidity over 100%.\n",
    "indicies = weather_dict[weather_dict['Humidity']>100].index\n",
    "indicies"
   ]
  },
  {
   "cell_type": "code",
   "execution_count": 40,
   "metadata": {},
   "outputs": [
    {
     "data": {
      "text/html": [
       "<div>\n",
       "<style scoped>\n",
       "    .dataframe tbody tr th:only-of-type {\n",
       "        vertical-align: middle;\n",
       "    }\n",
       "\n",
       "    .dataframe tbody tr th {\n",
       "        vertical-align: top;\n",
       "    }\n",
       "\n",
       "    .dataframe thead th {\n",
       "        text-align: right;\n",
       "    }\n",
       "</style>\n",
       "<table border=\"1\" class=\"dataframe\">\n",
       "  <thead>\n",
       "    <tr style=\"text-align: right;\">\n",
       "      <th></th>\n",
       "      <th>City</th>\n",
       "      <th>Cloudiness</th>\n",
       "      <th>Country</th>\n",
       "      <th>Date</th>\n",
       "      <th>Humidity</th>\n",
       "      <th>Lat</th>\n",
       "      <th>Lng</th>\n",
       "      <th>Max Temp</th>\n",
       "      <th>Wind Speed</th>\n",
       "    </tr>\n",
       "  </thead>\n",
       "  <tbody>\n",
       "    <tr>\n",
       "      <th>0</th>\n",
       "      <td>Shingū</td>\n",
       "      <td>75</td>\n",
       "      <td>JP</td>\n",
       "      <td>1603066873</td>\n",
       "      <td>87</td>\n",
       "      <td>33.73</td>\n",
       "      <td>135.98</td>\n",
       "      <td>60.80</td>\n",
       "      <td>2.24</td>\n",
       "    </tr>\n",
       "    <tr>\n",
       "      <th>1</th>\n",
       "      <td>Ponta do Sol</td>\n",
       "      <td>75</td>\n",
       "      <td>PT</td>\n",
       "      <td>1603066873</td>\n",
       "      <td>88</td>\n",
       "      <td>32.67</td>\n",
       "      <td>-17.10</td>\n",
       "      <td>73.40</td>\n",
       "      <td>29.97</td>\n",
       "    </tr>\n",
       "    <tr>\n",
       "      <th>2</th>\n",
       "      <td>Cherskiy</td>\n",
       "      <td>95</td>\n",
       "      <td>RU</td>\n",
       "      <td>1603066873</td>\n",
       "      <td>92</td>\n",
       "      <td>68.75</td>\n",
       "      <td>161.30</td>\n",
       "      <td>23.09</td>\n",
       "      <td>6.82</td>\n",
       "    </tr>\n",
       "    <tr>\n",
       "      <th>3</th>\n",
       "      <td>Nikolskoye</td>\n",
       "      <td>90</td>\n",
       "      <td>RU</td>\n",
       "      <td>1603066874</td>\n",
       "      <td>93</td>\n",
       "      <td>59.70</td>\n",
       "      <td>30.79</td>\n",
       "      <td>36.00</td>\n",
       "      <td>2.24</td>\n",
       "    </tr>\n",
       "    <tr>\n",
       "      <th>4</th>\n",
       "      <td>Kruisfontein</td>\n",
       "      <td>33</td>\n",
       "      <td>ZA</td>\n",
       "      <td>1603066874</td>\n",
       "      <td>90</td>\n",
       "      <td>-34.00</td>\n",
       "      <td>24.73</td>\n",
       "      <td>52.00</td>\n",
       "      <td>3.22</td>\n",
       "    </tr>\n",
       "  </tbody>\n",
       "</table>\n",
       "</div>"
      ],
      "text/plain": [
       "           City  Cloudiness Country        Date  Humidity    Lat     Lng  \\\n",
       "0        Shingū          75      JP  1603066873        87  33.73  135.98   \n",
       "1  Ponta do Sol          75      PT  1603066873        88  32.67  -17.10   \n",
       "2      Cherskiy          95      RU  1603066873        92  68.75  161.30   \n",
       "3    Nikolskoye          90      RU  1603066874        93  59.70   30.79   \n",
       "4  Kruisfontein          33      ZA  1603066874        90 -34.00   24.73   \n",
       "\n",
       "   Max Temp  Wind Speed  \n",
       "0     60.80        2.24  \n",
       "1     73.40       29.97  \n",
       "2     23.09        6.82  \n",
       "3     36.00        2.24  \n",
       "4     52.00        3.22  "
      ]
     },
     "execution_count": 40,
     "metadata": {},
     "output_type": "execute_result"
    }
   ],
   "source": [
    "# Make a new DataFrame equal to the city data to drop all humidity outliers by index.\n",
    "# Passing \"inplace=False\" will make a copy of the city_data DataFrame, which we call \"clean_city_data\".\n",
    "clean_weather_dict = weather_dict.drop(indicies,inplace=False)\n",
    "clean_weather_dict.head()"
   ]
  },
  {
   "cell_type": "code",
   "execution_count": null,
   "metadata": {},
   "outputs": [],
   "source": [
    "\n"
   ]
  },
  {
   "cell_type": "markdown",
   "metadata": {},
   "source": [
    "## Plotting the Data\n",
    "* Use proper labeling of the plots using plot titles (including date of analysis) and axes labels.\n",
    "* Save the plotted figures as .pngs."
   ]
  },
  {
   "cell_type": "markdown",
   "metadata": {},
   "source": [
    "## Latitude vs. Temperature Plot"
   ]
  },
  {
   "cell_type": "code",
   "execution_count": 43,
   "metadata": {
    "scrolled": true
   },
   "outputs": [
    {
     "name": "stdout",
     "output_type": "stream",
     "text": [
      "The temperatues increase as you get closer to the 0 latitude, the temps decrease the further away you are from the 0 latitude\n"
     ]
    },
    {
     "data": {
      "image/png": "[encoded data removed]",
      "text/plain": [
       "<Figure size 432x288 with 1 Axes>"
      ]
     },
     "metadata": {
      "needs_background": "light"
     },
     "output_type": "display_data"
    }
   ],
   "source": [
    "# Scatter plot - Lat vs Temp\n",
    "plt.scatter(weather_dict[\"Lat\"], weather_dict[\"Max Temp\"], facecolor = \"steelblue\", edgecolor = \"black\")\n",
    "\n",
    "# Title\n",
    "plt.title(\"City Latitude vs. Max Temperature (04/01/20)\")\n",
    "\n",
    "# X-axis label\n",
    "plt.xlabel(\"Laitude\")\n",
    "\n",
    "# Y-axis label\n",
    "plt.ylabel(\"Max Temperature (F)\")\n",
    "\n",
    "# Grid line\n",
    "plt.grid(linestyle='-', linewidth=1, alpha = 0.5)\n",
    "\n",
    "# Save the plotted figure as .pngs\n",
    "plt.savefig(\"Images/City Latitude vs Max Temperature.png\")\n",
    "\n",
    "print(\"The temperatues increase as you get closer to the 0 latitude, the temps decrease the further away you are from the 0 latitude\")"
   ]
  },
  {
   "cell_type": "markdown",
   "metadata": {},
   "source": [
    "## Latitude vs. Humidity Plot"
   ]
  },
  {
   "cell_type": "code",
   "execution_count": 45,
   "metadata": {},
   "outputs": [
    {
     "name": "stdout",
     "output_type": "stream",
     "text": [
      "Humidity seems to stay around the 80% mark for a majority of the latitudes, however, Polar regions do seem to have lower humidity %\n"
     ]
    },
    {
     "data": {
      "image/png": "[encoded data removed]",
      "text/plain": [
       "<Figure size 432x288 with 1 Axes>"
      ]
     },
     "metadata": {
      "needs_background": "light"
     },
     "output_type": "display_data"
    }
   ],
   "source": [
    "# Scatter plot - Lat vs Humidity\n",
    "plt.scatter(weather_dict[\"Lat\"], weather_dict[\"Humidity\"], facecolor = \"steelblue\", edgecolor = \"black\")\n",
    "\n",
    "# Title\n",
    "plt.title(\"City Latitude vs. Humidity (04/01/20)\")\n",
    "\n",
    "# X-axis label\n",
    "plt.xlabel(\"Laitude\")\n",
    "\n",
    "# Y-axis label\n",
    "plt.ylabel(\"Humidity (%)\")\n",
    "\n",
    "# Grid line\n",
    "plt.grid(linestyle='-', linewidth=1, alpha = 0.5)\n",
    "\n",
    "# Save the plotted figure as .pngs\n",
    "plt.savefig(\"Images/City Latitude vs Humidity.png\")\n",
    "print(\"Humidity seems to stay around the 80% mark for a majority of the latitudes, however, Polar regions do seem to have lower humidity %\")"
   ]
  },
  {
   "cell_type": "markdown",
   "metadata": {},
   "source": [
    "## Latitude vs. Cloudiness Plot"
   ]
  },
  {
   "cell_type": "code",
   "execution_count": 47,
   "metadata": {},
   "outputs": [
    {
     "name": "stdout",
     "output_type": "stream",
     "text": [
      "Cloudiness seems to be widespread, no real pattern seen, just follows latitude in a liniar manner\n"
     ]
    },
    {
     "data": {
      "image/png": "[encoded data removed]",
      "text/plain": [
       "<Figure size 432x288 with 1 Axes>"
      ]
     },
     "metadata": {
      "needs_background": "light"
     },
     "output_type": "display_data"
    }
   ],
   "source": [
    "# Scatter plot - Lat vs Cloudiness\n",
    "plt.scatter(weather_dict[\"Lat\"], weather_dict[\"Cloudiness\"], facecolor = \"steelblue\", edgecolor = \"black\")\n",
    "\n",
    "# Title\n",
    "plt.title(\"City Latitude vs. Cloudiness (04/01/20)\")\n",
    "\n",
    "# X-axis label\n",
    "plt.xlabel(\"Laitude\")\n",
    "\n",
    "# Y-axis label\n",
    "plt.ylabel(\"Cloudiness (%)\")\n",
    "plt.ylim(-5,105)\n",
    "\n",
    "# Grid line\n",
    "plt.grid(linestyle='-', linewidth=1, alpha = 0.5)\n",
    "\n",
    "# Save the plotted figure as .pngs\n",
    "plt.savefig(\"Images/City Latitude vs Cloudiness.png\")\n",
    "print(\"Cloudiness seems to be widespread, no real pattern seen, just follows latitude in a liniar manner\")"
   ]
  },
  {
   "cell_type": "markdown",
   "metadata": {},
   "source": [
    "## Latitude vs. Wind Speed Plot"
   ]
  },
  {
   "cell_type": "code",
   "execution_count": 49,
   "metadata": {},
   "outputs": [
    {
     "name": "stdout",
     "output_type": "stream",
     "text": [
      "Majority of the windspeed data was below the 10mph mark, with only a smaller portion reaching 30mph.  The data is widely spread across the latitude\n"
     ]
    },
    {
     "data": {
      "image/png": "[encoded data removed]",
      "text/plain": [
       "<Figure size 432x288 with 1 Axes>"
      ]
     },
     "metadata": {
      "needs_background": "light"
     },
     "output_type": "display_data"
    }
   ],
   "source": [
    "# Scatter plot - Lat vs Wind Speed\n",
    "plt.scatter(weather_dict[\"Lat\"], weather_dict[\"Wind Speed\"], facecolor = \"steelblue\", edgecolor = \"black\")\n",
    "\n",
    "# Title\n",
    "plt.title(\"City Latitude vs. Wind Speed (mph) (04/01/20)\")\n",
    "\n",
    "# X-axis label\n",
    "plt.xlabel(\"Laitude\")\n",
    "\n",
    "# Y-axis label\n",
    "plt.ylabel(\"Wind Speed (%)\")\n",
    "plt.ylim(-2,50)\n",
    "\n",
    "# Grid line\n",
    "plt.grid(linestyle='-', linewidth=1, alpha = 0.5)\n",
    "\n",
    "# Save the plotted figure as .pngs\n",
    "plt.savefig(\"Images/City Latitude vs Wind Speed.png\")\n",
    "print(\"Majority of the windspeed data was below the 10mph mark, with only a smaller portion reaching 30mph.  The data is widely spread across the latitude\")"
   ]
  },
  {
   "cell_type": "markdown",
   "metadata": {},
   "source": [
    "## Linear Regression"
   ]
  },
  {
   "cell_type": "code",
   "execution_count": 72,
   "metadata": {},
   "outputs": [],
   "source": [
    "# Create Northern and Southern Hemisphere DataFrames\n",
    "northern_hemisphere = weather_dict.loc[weather_dict[\"Lat\"] >= 0]\n",
    "southern_hemisphere = weather_dict.loc[weather_dict[\"Lat\"] < 0]"
   ]
  },
  {
   "cell_type": "code",
   "execution_count": 73,
   "metadata": {},
   "outputs": [],
   "source": [
    "# Defining function for creating linear agression and scatter plot\n",
    "def linear_agression(x,y):\n",
    "    print(f\"The r-value is : {round(st.pearsonr(x, y)[0],2)}\")\n",
    "    (slope, intercept, rvalue, pvalue, stderr) = linregress(x, y)\n",
    "    regress_values = x * slope + intercept\n",
    "    line_eq = \"y = \" + str(round(slope,2)) + \"x + \" + str(round(intercept,2))\n",
    "    plt.scatter(x, y)\n",
    "    plt.plot(x,regress_values,\"r-\")\n",
    "    return line_eq\n",
    "\n",
    "# Define a fuction for annotating\n",
    "def annotate(line_eq, a, b):\n",
    "    plt.annotate(line_eq,(a,b),fontsize=15,color=\"red\")"
   ]
  },
  {
   "cell_type": "markdown",
   "metadata": {},
   "source": [
    "####  Northern Hemisphere - Max Temp vs. Latitude Linear Regression"
   ]
  },
  {
   "cell_type": "code",
   "execution_count": 82,
   "metadata": {},
   "outputs": [
    {
     "name": "stdout",
     "output_type": "stream",
     "text": [
      "The r-value is : -0.87\n",
      "y = -0.96x + 91.9\n"
     ]
    },
    {
     "data": {
      "image/png": "[encoded data removed]",
      "text/plain": [
       "<Figure size 432x288 with 1 Axes>"
      ]
     },
     "metadata": {
      "needs_background": "light"
     },
     "output_type": "display_data"
    }
   ],
   "source": [
    "# Equation for liniar\n",
    "equation = linear_agression(northern_hemisphere[\"Lat\"], northern_hemisphere[\"Max Temp\"])\n",
    "print(equation)\n",
    "# annotating \n",
    "annotate(equation, 0, 0)\n",
    "\n",
    "# Title\n",
    "plt.title(\"Northern Hemisphere - Max Temp vs. Latitude Linear Regression\")\n",
    "\n",
    "# X-label\n",
    "plt.xlabel(\"Latitude\")\n",
    "\n",
    "# Y-label\n",
    "plt.ylabel(\"Max Temp (F)\")\n",
    "\n",
    "# Save the figure\n",
    "plt.savefig(\"Images/Northern Hemisphere - Max Temp vs. Latitude Linear Regression.png\")\n",
    "plt.show()"
   ]
  },
  {
   "cell_type": "markdown",
   "metadata": {},
   "source": [
    "####  Southern Hemisphere - Max Temp vs. Latitude Linear Regression"
   ]
  },
  {
   "cell_type": "code",
   "execution_count": 83,
   "metadata": {},
   "outputs": [
    {
     "name": "stdout",
     "output_type": "stream",
     "text": [
      "The r-value is : 0.63\n",
      "y = 0.54x + 80.91\n"
     ]
    },
    {
     "data": {
      "image/png": "[encoded data removed]",
      "text/plain": [
       "<Figure size 432x288 with 1 Axes>"
      ]
     },
     "metadata": {
      "needs_background": "light"
     },
     "output_type": "display_data"
    }
   ],
   "source": [
    "# Equation for liniar\n",
    "equation = linear_agression(southern_hemisphere[\"Lat\"],southern_hemisphere[\"Max Temp\"])\n",
    "print(equation)\n",
    "# annotating \n",
    "annotate(equation, -30, 50)\n",
    "\n",
    "# Title\n",
    "plt.title(\"Southern Hemisphere - Max Temp vs. Latitude Linear Regression\")\n",
    "\n",
    "# X-label\n",
    "plt.xlabel(\"Latitude\")\n",
    "\n",
    "# Y-label\n",
    "plt.ylabel(\"Max Temp (F)\")\n",
    "\n",
    "# Save the figure\n",
    "plt.savefig(\"Images/Southern Hemisphere - Max Temp vs. Latitude Linear Regression.png\")"
   ]
  },
  {
   "cell_type": "markdown",
   "metadata": {},
   "source": [
    "####  Northern Hemisphere - Humidity (%) vs. Latitude Linear Regression"
   ]
  },
  {
   "cell_type": "code",
   "execution_count": 84,
   "metadata": {},
   "outputs": [
    {
     "name": "stdout",
     "output_type": "stream",
     "text": [
      "The r-value is : 0.24\n",
      "y = 0.26x + 65.39\n"
     ]
    },
    {
     "data": {
      "image/png": "[encoded data removed]",
      "text/plain": [
       "<Figure size 432x288 with 1 Axes>"
      ]
     },
     "metadata": {
      "needs_background": "light"
     },
     "output_type": "display_data"
    }
   ],
   "source": [
    "# Equation for liniar\n",
    "equation = linear_agression(northern_hemisphere[\"Lat\"], northern_hemisphere[\"Humidity\"])\n",
    "print(equation)\n",
    "# annotating \n",
    "annotate(equation, 40, 15)\n",
    "\n",
    "# Title\n",
    "plt.title(\"Northern Hemisphere - Humidity (%) vs. Latitude Linear Regression\")\n",
    "\n",
    "# X-label\n",
    "plt.xlabel(\"Latitude\")\n",
    "\n",
    "# Y-label\n",
    "plt.ylabel(\"Humidity (%)\")\n",
    "\n",
    "# Save the figure\n",
    "plt.savefig(\"Images/Northern Hemisphere - Humidity (%) vs. Latitude Linear Regression.png\")"
   ]
  },
  {
   "cell_type": "markdown",
   "metadata": {},
   "source": [
    "####  Southern Hemisphere - Humidity (%) vs. Latitude Linear Regression"
   ]
  },
  {
   "cell_type": "code",
   "execution_count": 85,
   "metadata": {},
   "outputs": [
    {
     "name": "stdout",
     "output_type": "stream",
     "text": [
      "The r-value is : 0.15\n",
      "y = 0.2x + 75.76\n"
     ]
    },
    {
     "data": {
      "image/png": "[encoded data removed]",
      "text/plain": [
       "<Figure size 432x288 with 1 Axes>"
      ]
     },
     "metadata": {
      "needs_background": "light"
     },
     "output_type": "display_data"
    }
   ],
   "source": [
    "# Equation for liniar\n",
    "equation = linear_agression(southern_hemisphere[\"Lat\"],southern_hemisphere[\"Humidity\"])\n",
    "print(equation)\n",
    "# annotating \n",
    "annotate(equation, -40, 50)\n",
    "\n",
    "# Title\n",
    "plt.title(\"Southern Hemisphere - Humidity (%) vs. Latitude Linear Regression\")\n",
    "\n",
    "# X-label\n",
    "plt.xlabel(\"Latitude\")\n",
    "\n",
    "# Y-label\n",
    "plt.ylabel(\"Humidity (%)\")\n",
    "\n",
    "# Save the figure\n",
    "plt.savefig(\"Images/Southern Hemisphere - Max Temp vs. Latitude Linear Regression.png\")"
   ]
  },
  {
   "cell_type": "markdown",
   "metadata": {},
   "source": [
    "####  Northern Hemisphere - Cloudiness (%) vs. Latitude Linear Regression"
   ]
  },
  {
   "cell_type": "code",
   "execution_count": 86,
   "metadata": {},
   "outputs": [
    {
     "name": "stdout",
     "output_type": "stream",
     "text": [
      "The r-value is : 0.17\n",
      "y = 0.33x + 42.78\n"
     ]
    },
    {
     "data": {
      "image/png": "[encoded data removed]",
      "text/plain": [
       "<Figure size 432x288 with 1 Axes>"
      ]
     },
     "metadata": {
      "needs_background": "light"
     },
     "output_type": "display_data"
    }
   ],
   "source": [
    "# Equation for liniar\n",
    "equation = linear_agression(northern_hemisphere[\"Lat\"], northern_hemisphere[\"Cloudiness\"])\n",
    "print(equation)\n",
    "# annotating \n",
    "annotate(equation, 30, 40)\n",
    "\n",
    "# Title\n",
    "plt.title(\"Northern Hemisphere - Cloudiness (%) vs. Latitude Linear Regression\")\n",
    "\n",
    "# X-label\n",
    "plt.xlabel(\"Latitude\")\n",
    "\n",
    "# Y-label\n",
    "plt.ylabel(\"Cloudiness (%)\")\n",
    "\n",
    "# Save the figure\n",
    "plt.savefig(\"Images/Northern Hemisphere - Cloudiness (%) vs. Latitude Linear Regression.png\")"
   ]
  },
  {
   "cell_type": "markdown",
   "metadata": {},
   "source": [
    "####  Southern Hemisphere - Cloudiness (%) vs. Latitude Linear Regression"
   ]
  },
  {
   "cell_type": "code",
   "execution_count": 87,
   "metadata": {},
   "outputs": [
    {
     "name": "stdout",
     "output_type": "stream",
     "text": [
      "The r-value is : 0.24\n",
      "y = 0.66x + 64.66\n"
     ]
    },
    {
     "data": {
      "image/png": "[encoded data removed]",
      "text/plain": [
       "<Figure size 432x288 with 1 Axes>"
      ]
     },
     "metadata": {
      "needs_background": "light"
     },
     "output_type": "display_data"
    }
   ],
   "source": [
    "# Equation for liniar\n",
    "equation = linear_agression(southern_hemisphere[\"Lat\"],southern_hemisphere[\"Cloudiness\"])\n",
    "print(equation)\n",
    "# annotating \n",
    "annotate(equation, -30, 50)\n",
    "\n",
    "# Title\n",
    "plt.title(\"Southern Hemisphere - Cloudiness (%) vs. Latitude Linear Regression\")\n",
    "\n",
    "# X-label\n",
    "plt.xlabel(\"Latitude\")\n",
    "\n",
    "# Y-label\n",
    "plt.ylabel(\"Cloudiness (%)\")\n",
    "\n",
    "# Save the figure\n",
    "plt.savefig(\"Images/Southern Hemisphere - Cloudiness (%) vs. Latitude Linear Regression.png\")"
   ]
  },
  {
   "cell_type": "markdown",
   "metadata": {},
   "source": [
    "####  Northern Hemisphere - Wind Speed (mph) vs. Latitude Linear Regression"
   ]
  },
  {
   "cell_type": "code",
   "execution_count": 88,
   "metadata": {},
   "outputs": [
    {
     "name": "stdout",
     "output_type": "stream",
     "text": [
      "The r-value is : 0.17\n",
      "y = 0.05x + 5.89\n"
     ]
    },
    {
     "data": {
      "image/png": "[encoded data removed]",
      "text/plain": [
       "<Figure size 432x288 with 1 Axes>"
      ]
     },
     "metadata": {
      "needs_background": "light"
     },
     "output_type": "display_data"
    }
   ],
   "source": [
    "# Equation for liniar\n",
    "equation = linear_agression(northern_hemisphere[\"Lat\"], northern_hemisphere[\"Wind Speed\"])\n",
    "print(equation)\n",
    "# annotating \n",
    "annotate(equation, 40, 20)\n",
    "\n",
    "# Title\n",
    "plt.title(\"Northern Hemisphere - Wind Speed (mph) vs. Latitude Linear Regression\")\n",
    "\n",
    "# X-label\n",
    "plt.xlabel(\"Latitude\")\n",
    "\n",
    "# Y-label\n",
    "plt.ylabel(\"Wind Speed (mph)\")\n",
    "\n",
    "# Save the figure\n",
    "plt.savefig(\"Images/Northern Hemisphere - Wind Speed vs. Latitude Linear Regression.png\")"
   ]
  },
  {
   "cell_type": "markdown",
   "metadata": {},
   "source": [
    "####  Southern Hemisphere - Wind Speed (mph) vs. Latitude Linear Regression"
   ]
  },
  {
   "cell_type": "code",
   "execution_count": 90,
   "metadata": {},
   "outputs": [
    {
     "name": "stdout",
     "output_type": "stream",
     "text": [
      "The r-value is : -0.2\n",
      "y = -0.08x + 6.09\n"
     ]
    },
    {
     "data": {
      "image/png": "[encoded data removed]",
      "text/plain": [
       "<Figure size 432x288 with 1 Axes>"
      ]
     },
     "metadata": {
      "needs_background": "light"
     },
     "output_type": "display_data"
    }
   ],
   "source": [
    "# Equation for liniar\n",
    "equation = linear_agression(southern_hemisphere[\"Lat\"],southern_hemisphere[\"Wind Speed\"])\n",
    "print(equation)\n",
    "# annotating \n",
    "annotate(equation, -30, 15)\n",
    "\n",
    "# Title\n",
    "plt.title(\"Southern Hemisphere - Wind Speed (mph) vs. Latitude Linear Regression\")\n",
    "\n",
    "# X-label\n",
    "plt.xlabel(\"Latitude\")\n",
    "\n",
    "# Y-label\n",
    "plt.ylabel(\"Wind Speed (mph)\")\n",
    "\n",
    "# Save the figure\n",
    "plt.savefig(\"Images/Southern Hemisphere - Wind Speed vs. Latitude Linear Regression.png\")"
   ]
  },
  {
   "cell_type": "code",
   "execution_count": null,
   "metadata": {},
   "outputs": [],
   "source": []
  }
 ],
 "metadata": {
  "anaconda-cloud": {},
  "kernel_info": {
   "name": "python3"
  },
  "kernelspec": {
   "display_name": "Python 3",
   "language": "python",
   "name": "python3"
  },
  "language_info": {
   "codemirror_mode": {
    "name": "ipython",
    "version": 3
   },
   "file_extension": ".py",
   "mimetype": "text/x-python",
   "name": "python",
   "nbconvert_exporter": "python",
   "pygments_lexer": "ipython3",
   "version": "3.6.12"
  },
  "latex_envs": {
   "LaTeX_envs_menu_present": true,
   "autoclose": false,
   "autocomplete": true,
   "bibliofile": "biblio.bib",
   "cite_by": "apalike",
   "current_citInitial": 1,
   "eqLabelWithNumbers": true,
   "eqNumInitial": 1,
   "hotkeys": {
    "equation": "Ctrl-E",
    "itemize": "Ctrl-I"
   },
   "labels_anchors": false,
   "latex_user_defs": false,
   "report_style_numbering": false,
   "user_envs_cfg": false
  },
  "nteract": {
   "version": "0.12.3"
  }
 },
 "nbformat": 4,
 "nbformat_minor": 2
}
