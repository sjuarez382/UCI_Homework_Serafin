{
 "cells": [
  {
   "cell_type": "code",
   "execution_count": 14,
   "metadata": {},
   "outputs": [],
   "source": [
    "#imports\n",
    "import pandas as pd\n",
    "from splinter import Browser\n",
    "from bs4 import BeautifulSoup\n",
    "import time\n",
    "import requests\n",
    "from webdriver_manager.chrome import ChromeDriverManager\n",
    "import pymongo"
   ]
  },
  {
   "cell_type": "code",
   "execution_count": 1,
   "metadata": {
    "collapsed": true,
    "jupyter": {
     "outputs_hidden": true
    }
   },
   "outputs": [
    {
     "name": "stdout",
     "output_type": "stream",
     "text": [
      "Requirement already satisfied: splinter in c:\\users\\seraf\\anaconda3\\envs\\pythondata\\lib\\site-packages (0.14.0)\n",
      "Requirement already satisfied: selenium>=3.141.0 in c:\\users\\seraf\\anaconda3\\envs\\pythondata\\lib\\site-packages (from splinter) (3.141.0)\n",
      "Requirement already satisfied: six in c:\\users\\seraf\\anaconda3\\envs\\pythondata\\lib\\site-packages (from splinter) (1.15.0)\n",
      "Requirement already satisfied: urllib3 in c:\\users\\seraf\\anaconda3\\envs\\pythondata\\lib\\site-packages (from selenium>=3.141.0->splinter) (1.25.10)\n",
      "Note: you may need to restart the kernel to use updated packages.\n"
     ]
    },
    {
     "name": "stderr",
     "output_type": "stream",
     "text": [
      "WARNING: You are using pip version 20.2.3; however, version 20.3.1 is available.\n",
      "You should consider upgrading via the 'C:\\Users\\seraf\\anaconda3\\envs\\PythonData\\python.exe -m pip install --upgrade pip' command.\n"
     ]
    }
   ],
   "source": [
    "pip install splinter"
   ]
  },
  {
   "cell_type": "code",
   "execution_count": 2,
   "metadata": {
    "collapsed": true,
    "jupyter": {
     "outputs_hidden": true
    }
   },
   "outputs": [
    {
     "name": "stdout",
     "output_type": "stream",
     "text": [
      "Requirement already satisfied: webdriver_manager in c:\\users\\seraf\\anaconda3\\envs\\pythondata\\lib\\site-packages (3.2.2)\n",
      "Requirement already satisfied: configparser in c:\\users\\seraf\\anaconda3\\envs\\pythondata\\lib\\site-packages (from webdriver_manager) (5.0.1)\n",
      "Requirement already satisfied: requests in c:\\users\\seraf\\anaconda3\\envs\\pythondata\\lib\\site-packages (from webdriver_manager) (2.24.0)\n",
      "Requirement already satisfied: crayons in c:\\users\\seraf\\anaconda3\\envs\\pythondata\\lib\\site-packages (from webdriver_manager) (0.4.0)\n",
      "Requirement already satisfied: idna<3,>=2.5 in c:\\users\\seraf\\anaconda3\\envs\\pythondata\\lib\\site-packages (from requests->webdriver_manager) (2.10)\n",
      "Requirement already satisfied: certifi>=2017.4.17 in c:\\users\\seraf\\anaconda3\\envs\\pythondata\\lib\\site-packages (from requests->webdriver_manager) (2020.6.20)\n",
      "Requirement already satisfied: chardet<4,>=3.0.2 in c:\\users\\seraf\\anaconda3\\envs\\pythondata\\lib\\site-packages (from requests->webdriver_manager) (3.0.4)\n",
      "Requirement already satisfied: urllib3!=1.25.0,!=1.25.1,<1.26,>=1.21.1 in c:\\users\\seraf\\anaconda3\\envs\\pythondata\\lib\\site-packages (from requests->webdriver_manager) (1.25.10)\n",
      "Requirement already satisfied: colorama in c:\\users\\seraf\\anaconda3\\envs\\pythondata\\lib\\site-packages (from crayons->webdriver_manager) (0.4.3)\n",
      "Note: you may need to restart the kernel to use updated packages.\n"
     ]
    },
    {
     "name": "stderr",
     "output_type": "stream",
     "text": [
      "WARNING: You are using pip version 20.2.3; however, version 20.3.1 is available.\n",
      "You should consider upgrading via the 'C:\\Users\\seraf\\anaconda3\\envs\\PythonData\\python.exe -m pip install --upgrade pip' command.\n"
     ]
    }
   ],
   "source": [
    "pip install webdriver_manager"
   ]
  },
  {
   "cell_type": "code",
   "execution_count": 8,
   "metadata": {
    "collapsed": true,
    "jupyter": {
     "outputs_hidden": true
    }
   },
   "outputs": [
    {
     "name": "stderr",
     "output_type": "stream",
     "text": [
      "[WDM] - Current google-chrome version is 87.0.4280\n",
      "[WDM] - Get LATEST driver version for 87.0.4280\n",
      "[WDM] - There is no [win32] chromedriver for browser 87.0.4280 in cache\n",
      "[WDM] - Get LATEST driver version for 87.0.4280\n",
      "[WDM] - Trying to download new driver from http://chromedriver.storage.googleapis.com/87.0.4280.88/chromedriver_win32.zip\n"
     ]
    },
    {
     "name": "stdout",
     "output_type": "stream",
     "text": [
      " \n"
     ]
    },
    {
     "name": "stderr",
     "output_type": "stream",
     "text": [
      "[WDM] - Driver has been saved in cache [C:\\Users\\seraf\\.wdm\\drivers\\chromedriver\\win32\\87.0.4280.88]\n"
     ]
    }
   ],
   "source": [
    "# Setup splinter\n",
    "executable_path = {'executable_path': ChromeDriverManager().install()}\n",
    "browser = Browser('chrome', **executable_path, headless=False)"
   ]
  },
  {
   "cell_type": "code",
   "execution_count": 9,
   "metadata": {},
   "outputs": [],
   "source": [
    "# define news url\n",
    "mars_news_url = \"https://mars.nasa.gov/news/\"\n",
    "browser.visit(mars_news_url)"
   ]
  },
  {
   "cell_type": "markdown",
   "metadata": {},
   "source": [
    "NASA Mars News"
   ]
  },
  {
   "cell_type": "code",
   "execution_count": 10,
   "metadata": {},
   "outputs": [],
   "source": [
    "#scaping to find list\n",
    "nasa_html = browser.html\n",
    "nasa_soup = BeautifulSoup(nasa_html, \"html.parser\")\n",
    "nasa_results = nasa_soup.find(\"ul\", class_=\"item_list\")"
   ]
  },
  {
   "cell_type": "code",
   "execution_count": 11,
   "metadata": {},
   "outputs": [
    {
     "name": "stdout",
     "output_type": "stream",
     "text": [
      "MOXIE Could Help Future Rockets Launch Off Mars\n",
      "NASA's Perseverance rover carries a device to convert Martian air into oxygen that, if produced on a larger scale, could be used not just for breathing, but also for fuel.\n"
     ]
    }
   ],
   "source": [
    "#scraping to find latest title and paragraph\n",
    "news_title = nasa_results.find(\"div\", class_=\"content_title\").text\n",
    "news_p = nasa_results.find(\"div\", class_=\"article_teaser_body\").text\n",
    "\n",
    "print(news_title)\n",
    "print(news_p)"
   ]
  },
  {
   "cell_type": "markdown",
   "metadata": {},
   "source": [
    "JPL Mars Space Images - Featured Image"
   ]
  },
  {
   "cell_type": "code",
   "execution_count": 16,
   "metadata": {},
   "outputs": [],
   "source": [
    "#define jpl url\n",
    "jpl_url = \"https://www.jpl.nasa.gov/spaceimages/?search=&category=Mars\"\n",
    "jpl_url_root = jpl_url.split('/spaceimages')[0]\n",
    "browser.visit(jpl_url)"
   ]
  },
  {
   "cell_type": "code",
   "execution_count": 17,
   "metadata": {},
   "outputs": [],
   "source": [
    "#clicking on imagine to get info\n",
    "browser.click_link_by_partial_text('FULL')\n",
    "time.sleep(5)\n",
    "browser.click_link_by_partial_text('more info')"
   ]
  },
  {
   "cell_type": "code",
   "execution_count": 19,
   "metadata": {},
   "outputs": [
    {
     "data": {
      "text/plain": [
       "'https://www.jpl.nasa.gov/spaceimages/images/largesize/PIA14762_hires.jpg'"
      ]
     },
     "execution_count": 19,
     "metadata": {},
     "output_type": "execute_result"
    }
   ],
   "source": [
    "#find imagine url\n",
    "jpl_html = browser.html\n",
    "jpl_soup = BeautifulSoup(jpl_html, \"html.parser\")\n",
    "jpl_img_result = jpl_soup.find(\"figure\", class_=\"lede\")\n",
    "jpl_img_result\n",
    "\n",
    "featured_image_url = jpl_url_root + jpl_img_result.a[\"href\"]\n",
    "featured_image_url"
   ]
  },
  {
   "cell_type": "markdown",
   "metadata": {},
   "source": [
    "Mars Facts"
   ]
  },
  {
   "cell_type": "code",
   "execution_count": 20,
   "metadata": {},
   "outputs": [],
   "source": [
    "#visiting url and using pandas to scrape\n",
    "facts_url = \"https://space-facts.com/mars/\"\n",
    "browser.visit(facts_url)\n",
    "facts_df = pd.read_html(facts_url)[0]\n",
    "facts_df.columns = [\"description\",\"value\"]\n",
    "facts_df = facts_df.set_index(\"description\")"
   ]
  },
  {
   "cell_type": "code",
   "execution_count": 21,
   "metadata": {},
   "outputs": [],
   "source": [
    "# convert to HTML table string\n",
    "html_table = facts_df.to_html()"
   ]
  },
  {
   "cell_type": "code",
   "execution_count": 22,
   "metadata": {},
   "outputs": [],
   "source": [
    "# clean and save table\n",
    "html_table.replace(\"\\n\",\"\")\n",
    "facts_df.to_html('table_v2.html')"
   ]
  },
  {
   "cell_type": "markdown",
   "metadata": {},
   "source": [
    "Mars Hemispheres"
   ]
  },
  {
   "cell_type": "code",
   "execution_count": 24,
   "metadata": {},
   "outputs": [],
   "source": [
    "#visiting url\n",
    "h_url = \"https://astrogeology.usgs.gov/search/results?q=hemisphere+enhanced&k1=target&v1=Mars\"\n",
    "h_url_root = h_url.split('/search')[0]\n",
    "browser.visit(h_url)"
   ]
  },
  {
   "cell_type": "code",
   "execution_count": 25,
   "metadata": {},
   "outputs": [
    {
     "data": {
      "text/plain": [
       "['Cerberus Hemisphere Enhanced',\n",
       " 'Schiaparelli Hemisphere Enhanced',\n",
       " 'Syrtis Major Hemisphere Enhanced',\n",
       " 'Valles Marineris Hemisphere Enhanced']"
      ]
     },
     "execution_count": 25,
     "metadata": {},
     "output_type": "execute_result"
    }
   ],
   "source": [
    "# scraping using for loop to visit each hemisphere page\n",
    "title_list = []\n",
    "url_list = []\n",
    "\n",
    "for result in range(1):\n",
    "    h_html = browser.html\n",
    "    h_soup = BeautifulSoup(h_html, \"html.parser\")\n",
    "    h_results = h_soup.find_all(\"div\", class_=\"item\")\n",
    "    \n",
    "    # Get url for each hemisphere\n",
    "    for item in h_results:\n",
    "        item_url = item.a[\"href\"]\n",
    "        item_full_url = h_url_root + item_url\n",
    "        url_list.append(item_full_url)\n",
    "        title = item.find(\"h3\").text\n",
    "        title_list.append(title)\n",
    "        \n",
    "title_list"
   ]
  },
  {
   "cell_type": "code",
   "execution_count": 27,
   "metadata": {},
   "outputs": [
    {
     "data": {
      "text/plain": [
       "[]"
      ]
     },
     "execution_count": 27,
     "metadata": {},
     "output_type": "execute_result"
    }
   ],
   "source": [
    "#url form images\n",
    "url_dict_list = []\n",
    "\n",
    "for item_url in url_list:\n",
    "    browser.visit(item_url)\n",
    "    html = browser.html\n",
    "    soup = BeautifulSoup(html, \"html.parser\")\n",
    "    img_path = soup.select_one(\"ul\")\n",
    "    image_url = img_path.a[\"href\"]\n",
    "    url_dict_list.append(image_url)\n",
    "    \n",
    "url_dict_list"
   ]
  },
  {
   "cell_type": "code",
   "execution_count": 28,
   "metadata": {},
   "outputs": [
    {
     "name": "stdout",
     "output_type": "stream",
     "text": [
      "[]\n"
     ]
    }
   ],
   "source": [
    "#combining list\n",
    "hemisphere_image_urls = []\n",
    "\n",
    "for url,title in zip(url_dict_list,title_list):\n",
    "    hemisphere_image_dict = {}\n",
    "    hemisphere_image_dict[\"title\"] = title\n",
    "    hemisphere_image_dict[\"img_url\"] = url\n",
    "    hemisphere_image_urls.append(hemisphere_image_dict)\n",
    "print(hemisphere_image_urls)"
   ]
  },
  {
   "cell_type": "markdown",
   "metadata": {},
   "source": [
    "converting to py"
   ]
  },
  {
   "cell_type": "code",
   "execution_count": 29,
   "metadata": {
    "collapsed": true,
    "jupyter": {
     "outputs_hidden": true
    }
   },
   "outputs": [
    {
     "name": "stdout",
     "output_type": "stream",
     "text": [
      "Requirement already satisfied: ipython in c:\\users\\seraf\\anaconda3\\envs\\pythondata\\lib\\site-packages (7.16.1)\n",
      "Requirement already satisfied: prompt-toolkit!=3.0.0,!=3.0.1,<3.1.0,>=2.0.0 in c:\\users\\seraf\\anaconda3\\envs\\pythondata\\lib\\site-packages (from ipython) (3.0.7)\n",
      "Requirement already satisfied: backcall in c:\\users\\seraf\\anaconda3\\envs\\pythondata\\lib\\site-packages (from ipython) (0.2.0)\n",
      "Requirement already satisfied: jedi>=0.10 in c:\\users\\seraf\\anaconda3\\envs\\pythondata\\lib\\site-packages (from ipython) (0.17.2)\n",
      "Requirement already satisfied: traitlets>=4.2 in c:\\users\\seraf\\anaconda3\\envs\\pythondata\\lib\\site-packages (from ipython) (4.3.3)\n",
      "Requirement already satisfied: colorama; sys_platform == \"win32\" in c:\\users\\seraf\\anaconda3\\envs\\pythondata\\lib\\site-packages (from ipython) (0.4.3)\n"
     ]
    },
    {
     "name": "stderr",
     "output_type": "stream",
     "text": [
      "WARNING: You are using pip version 20.2.3; however, version 20.3 is available.\n",
      "You should consider upgrading via the 'c:\\users\\seraf\\anaconda3\\envs\\pythondata\\python.exe -m pip install --upgrade pip' command.\n"
     ]
    },
    {
     "name": "stdout",
     "output_type": "stream",
     "text": [
      "Requirement already satisfied: decorator in c:\\users\\seraf\\anaconda3\\envs\\pythondata\\lib\\site-packages (from ipython) (4.4.2)\n",
      "Requirement already satisfied: pygments in c:\\users\\seraf\\anaconda3\\envs\\pythondata\\lib\\site-packages (from ipython) (2.7.1)\n",
      "Requirement already satisfied: pickleshare in c:\\users\\seraf\\anaconda3\\envs\\pythondata\\lib\\site-packages (from ipython) (0.7.5)\n",
      "Requirement already satisfied: setuptools>=18.5 in c:\\users\\seraf\\anaconda3\\envs\\pythondata\\lib\\site-packages (from ipython) (49.6.0.post20200814)\n",
      "Requirement already satisfied: wcwidth in c:\\users\\seraf\\anaconda3\\envs\\pythondata\\lib\\site-packages (from prompt-toolkit!=3.0.0,!=3.0.1,<3.1.0,>=2.0.0->ipython) (0.2.5)\n",
      "Requirement already satisfied: parso<0.8.0,>=0.7.0 in c:\\users\\seraf\\anaconda3\\envs\\pythondata\\lib\\site-packages (from jedi>=0.10->ipython) (0.7.0)\n",
      "Requirement already satisfied: ipython-genutils in c:\\users\\seraf\\anaconda3\\envs\\pythondata\\lib\\site-packages (from traitlets>=4.2->ipython) (0.2.0)\n",
      "Requirement already satisfied: six in c:\\users\\seraf\\anaconda3\\envs\\pythondata\\lib\\site-packages (from traitlets>=4.2->ipython) (1.15.0)\n"
     ]
    }
   ],
   "source": [
    "# converting to py\n",
    "!pip install ipython"
   ]
  },
  {
   "cell_type": "code",
   "execution_count": 31,
   "metadata": {
    "collapsed": true,
    "jupyter": {
     "outputs_hidden": true
    }
   },
   "outputs": [
    {
     "name": "stdout",
     "output_type": "stream",
     "text": [
      "Requirement already satisfied: nbconvert in c:\\users\\seraf\\anaconda3\\envs\\pythondata\\lib\\site-packages (5.6.1)\n",
      "Requirement already satisfied: mistune<2,>=0.8.1 in c:\\users\\seraf\\anaconda3\\envs\\pythondata\\lib\\site-packages (from nbconvert) (0.8.4)\n",
      "Requirement already satisfied: traitlets>=4.2 in c:\\users\\seraf\\anaconda3\\envs\\pythondata\\lib\\site-packages (from nbconvert) (4.3.3)\n",
      "Requirement already satisfied: jupyter-core in c:\\users\\seraf\\anaconda3\\envs\\pythondata\\lib\\site-packages (from nbconvert) (4.6.3)\n",
      "Requirement already satisfied: pandocfilters>=1.4.1 in c:\\users\\seraf\\anaconda3\\envs\\pythondata\\lib\\site-packages (from nbconvert) (1.4.2)\n",
      "Requirement already satisfied: testpath in c:\\users\\seraf\\anaconda3\\envs\\pythondata\\lib\\site-packages (from nbconvert) (0.4.4)\n",
      "Requirement already satisfied: bleach in c:\\users\\seraf\\anaconda3\\envs\\pythondata\\lib\\site-packages (from nbconvert) (3.2.1)\n",
      "Requirement already satisfied: pygments in c:\\users\\seraf\\anaconda3\\envs\\pythondata\\lib\\site-packages (from nbconvert) (2.7.1)\n",
      "Requirement already satisfied: entrypoints>=0.2.2 in c:\\users\\seraf\\anaconda3\\envs\\pythondata\\lib\\site-packages (from nbconvert) (0.3)\n",
      "Requirement already satisfied: jinja2>=2.4 in c:\\users\\seraf\\anaconda3\\envs\\pythondata\\lib\\site-packages (from nbconvert) (2.11.2)\n",
      "Requirement already satisfied: defusedxml in c:\\users\\seraf\\anaconda3\\envs\\pythondata\\lib\\site-packages (from nbconvert) (0.6.0)\n",
      "Requirement already satisfied: nbformat>=4.4 in c:\\users\\seraf\\anaconda3\\envs\\pythondata\\lib\\site-packages (from nbconvert) (5.0.7)\n",
      "Requirement already satisfied: ipython-genutils in c:\\users\\seraf\\anaconda3\\envs\\pythondata\\lib\\site-packages (from traitlets>=4.2->nbconvert) (0.2.0)\n",
      "Requirement already satisfied: six in c:\\users\\seraf\\anaconda3\\envs\\pythondata\\lib\\site-packages (from traitlets>=4.2->nbconvert) (1.15.0)\n",
      "Requirement already satisfied: decorator in c:\\users\\seraf\\anaconda3\\envs\\pythondata\\lib\\site-packages (from traitlets>=4.2->nbconvert) (4.4.2)\n",
      "Requirement already satisfied: pywin32>=1.0; sys_platform == \"win32\" in c:\\users\\seraf\\anaconda3\\envs\\pythondata\\lib\\site-packages (from jupyter-core->nbconvert) (227)\n",
      "Requirement already satisfied: packaging in c:\\users\\seraf\\anaconda3\\envs\\pythondata\\lib\\site-packages (from bleach->nbconvert) (20.4)\n",
      "Requirement already satisfied: webencodings in c:\\users\\seraf\\anaconda3\\envs\\pythondata\\lib\\site-packages (from bleach->nbconvert) (0.5.1)\n",
      "Requirement already satisfied: MarkupSafe>=0.23 in c:\\users\\seraf\\anaconda3\\envs\\pythondata\\lib\\site-packages (from jinja2>=2.4->nbconvert) (1.1.1)\n",
      "Requirement already satisfied: jsonschema!=2.5.0,>=2.4 in c:\\users\\seraf\\anaconda3\\envs\\pythondata\\lib\\site-packages (from nbformat>=4.4->nbconvert) (3.2.0)\n",
      "Requirement already satisfied: pyparsing>=2.0.2 in c:\\users\\seraf\\anaconda3\\envs\\pythondata\\lib\\site-packages (from packaging->bleach->nbconvert) (2.4.7)\n",
      "Requirement already satisfied: attrs>=17.4.0 in c:\\users\\seraf\\anaconda3\\envs\\pythondata\\lib\\site-packages (from jsonschema!=2.5.0,>=2.4->nbformat>=4.4->nbconvert) (20.2.0)\n",
      "Requirement already satisfied: setuptools in c:\\users\\seraf\\anaconda3\\envs\\pythondata\\lib\\site-packages (from jsonschema!=2.5.0,>=2.4->nbformat>=4.4->nbconvert) (49.6.0.post20200814)\n",
      "Requirement already satisfied: importlib-metadata; python_version < \"3.8\" in c:\\users\\seraf\\anaconda3\\envs\\pythondata\\lib\\site-packages (from jsonschema!=2.5.0,>=2.4->nbformat>=4.4->nbconvert) (1.7.0)\n",
      "Requirement already satisfied: pyrsistent>=0.14.0 in c:\\users\\seraf\\anaconda3\\envs\\pythondata\\lib\\site-packages (from jsonschema!=2.5.0,>=2.4->nbformat>=4.4->nbconvert) (0.17.3)\n",
      "Requirement already satisfied: zipp>=0.5 in c:\\users\\seraf\\anaconda3\\envs\\pythondata\\lib\\site-packages (from importlib-metadata; python_version < \"3.8\"->jsonschema!=2.5.0,>=2.4->nbformat>=4.4->nbconvert) (3.1.0)\n"
     ]
    },
    {
     "name": "stderr",
     "output_type": "stream",
     "text": [
      "WARNING: You are using pip version 20.2.3; however, version 20.3 is available.\n",
      "You should consider upgrading via the 'c:\\users\\seraf\\anaconda3\\envs\\pythondata\\python.exe -m pip install --upgrade pip' command.\n"
     ]
    }
   ],
   "source": [
    "!pip install nbconvert"
   ]
  },
  {
   "cell_type": "code",
   "execution_count": 33,
   "metadata": {
    "collapsed": true,
    "jupyter": {
     "outputs_hidden": true
    }
   },
   "outputs": [
    {
     "name": "stderr",
     "output_type": "stream",
     "text": [
      "[NbConvertApp] WARNING | Config option `kernel_spec_manager_class` not recognized by `NbConvertApp`.\n",
      "[NbConvertApp] Converting notebook mission_to_mars.ipynb to script\n",
      "[NbConvertApp] Writing 3642 bytes to mission_to_mars.py\n"
     ]
    }
   ],
   "source": [
    "!jupyter nbconvert --to script scrape_mars.ipynb"
   ]
  },
  {
   "cell_type": "code",
   "execution_count": null,
   "metadata": {},
   "outputs": [],
   "source": []
  }
 ],
 "metadata": {
  "kernelspec": {
   "display_name": "Python [conda env:PythonData] *",
   "language": "python",
   "name": "conda-env-PythonData-py"
  },
  "language_info": {
   "codemirror_mode": {
    "name": "ipython",
    "version": 3
   },
   "file_extension": ".py",
   "mimetype": "text/x-python",
   "name": "python",
   "nbconvert_exporter": "python",
   "pygments_lexer": "ipython3",
   "version": "3.6.12"
  }
 },
 "nbformat": 4,
 "nbformat_minor": 4
}
